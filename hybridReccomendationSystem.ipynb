{
 "cells": [
  {
   "cell_type": "markdown",
   "source": [
    "# Hybrid recomendation system"
   ],
   "metadata": {
    "collapsed": false
   },
   "id": "441f5f01bec648fe"
  },
  {
   "cell_type": "code",
   "outputs": [],
   "source": [],
   "metadata": {
    "collapsed": false,
    "ExecuteTime": {
     "end_time": "2024-04-18T13:05:49.520063Z",
     "start_time": "2024-04-18T13:05:49.513914Z"
    }
   },
   "id": "118eb5162c2d015d",
   "execution_count": null
  }
 ],
 "metadata": {
  "kernelspec": {
   "display_name": "Python 3",
   "language": "python",
   "name": "python3"
  },
  "language_info": {
   "codemirror_mode": {
    "name": "ipython",
    "version": 2
   },
   "file_extension": ".py",
   "mimetype": "text/x-python",
   "name": "python",
   "nbconvert_exporter": "python",
   "pygments_lexer": "ipython2",
   "version": "2.7.6"
  }
 },
 "nbformat": 4,
 "nbformat_minor": 5
}

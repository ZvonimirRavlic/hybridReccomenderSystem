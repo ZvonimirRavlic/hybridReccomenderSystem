{
 "cells": [
  {
   "cell_type": "markdown",
   "source": [
    "# Hybrid recomendation system"
   ],
   "metadata": {
    "collapsed": false
   },
   "id": "441f5f01bec648fe"
  },
  {
   "cell_type": "code",
   "outputs": [],
   "source": [
    "import pandas as pd\n",
    "import numpy as np\n",
    "import matplotlib.pyplot as plt\n",
    "from sklearn.feature_extraction.text import CountVectorizer\n",
    "from sklearn.metrics.pairwise import cosine_similarity\n",
    "from surprise import SVD, Dataset, Reader\n",
    "from surprise.model_selection import train_test_split\n",
    "from evaluation import calculate_mse_and_rmse\n",
    "from converter import to_df"
   ],
   "metadata": {
    "collapsed": false,
    "ExecuteTime": {
     "end_time": "2024-05-02T13:53:49.368306Z",
     "start_time": "2024-05-02T13:53:49.357948Z"
    }
   },
   "id": "bb6d92e90afb932c",
   "execution_count": 66
  },
  {
   "cell_type": "code",
   "outputs": [],
   "source": [
    "ratings = pd.read_csv('data/ratings_small.csv', low_memory=False)\n",
    "ratings = ratings.drop('timestamp', axis=1)\n",
    "df_movies_cnt = pd.DataFrame(ratings.groupby('movieId').size(), columns=['count'])\n",
    "popular_movies = list(set(df_movies_cnt.query('count >= 0').index))\n",
    "movies_filter = ratings.movieId.isin(popular_movies).values\n",
    "\n",
    "df_users_cnt = pd.DataFrame(ratings.groupby('userId').size(), columns=['count'])\n",
    "active_users = list(set(df_users_cnt.query('count >= 0').index))\n",
    "users_filter = ratings.userId.isin(active_users).values\n",
    "\n",
    "ratings = ratings[movies_filter & users_filter]\n",
    "reader = Reader()\n",
    "ratings_by_users = Dataset.load_from_df(ratings[['userId', 'movieId', 'rating']], reader)\n",
    "ratings_train, ratings_test = train_test_split(ratings_by_users, test_size=0.2, random_state=41)"
   ],
   "metadata": {
    "collapsed": false,
    "ExecuteTime": {
     "end_time": "2024-05-02T13:54:10.456069Z",
     "start_time": "2024-05-02T13:54:09.922154Z"
    }
   },
   "id": "5a34b7e021e3fba4",
   "execution_count": 67
  },
  {
   "cell_type": "code",
   "outputs": [],
   "source": [
    "ratings = to_df(ratings_train)\n",
    "test_df = [{'userId': obj[0], 'movieId': obj[1], 'rating': obj[2]} for obj in ratings_test]\n",
    "test_df = pd.DataFrame(test_df)"
   ],
   "metadata": {
    "collapsed": false,
    "ExecuteTime": {
     "end_time": "2024-05-02T13:54:10.597992Z",
     "start_time": "2024-05-02T13:54:10.447846Z"
    }
   },
   "id": "567ce5723a69ec3b",
   "execution_count": 68
  },
  {
   "cell_type": "code",
   "outputs": [
    {
     "data": {
      "text/plain": "   Unnamed: 0  adult                              belongs_to_collection  \\\n0           0  False  {'id': 10194, 'name': 'Toy Story Collection', ...   \n1           1  False                                                NaN   \n2           2  False  {'id': 119050, 'name': 'Grumpy Old Men Collect...   \n3           3  False                                                NaN   \n4           4  False  {'id': 96871, 'name': 'Father of the Bride Col...   \n\n     budget                              genres  \\\n0  30000000   ['animation', 'comedy', 'family']   \n1  65000000  ['adventure', 'fantasy', 'family']   \n2         0               ['romance', 'comedy']   \n3  16000000      ['comedy', 'drama', 'romance']   \n4         0                          ['comedy']   \n\n                               homepage     id    imdb_id original_language  \\\n0  http://toystory.disney.com/toy-story    862  tt0114709                en   \n1                                   NaN   8844  tt0113497                en   \n2                                   NaN  15602  tt0113228                en   \n3                                   NaN  31357  tt0114885                en   \n4                                   NaN  11862  tt0113041                en   \n\n                original_title  ...  \\\n0                    Toy Story  ...   \n1                      Jumanji  ...   \n2             Grumpier Old Men  ...   \n3            Waiting to Exhale  ...   \n4  Father of the Bride Part II  ...   \n\n                                             tagline  \\\n0                                                NaN   \n1          Roll the dice and unleash the excitement!   \n2  Still Yelling. Still Fighting. Still Ready for...   \n3  Friends are the people who let you be yourself...   \n4  Just When His World Is Back To Normal... He's ...   \n\n                         title  video vote_average vote_count  \\\n0                    Toy Story  False          7.7     5415.0   \n1                      Jumanji  False          6.9     2413.0   \n2             Grumpier Old Men  False          6.5       92.0   \n3            Waiting to Exhale  False          6.1       34.0   \n4  Father of the Bride Part II  False          5.7      173.0   \n\n                                                cast  \\\n0             ['tomhanks', 'timallen', 'donrickles']   \n1  ['robinwilliams', 'jonathanhyde', 'kirstendunst']   \n2     ['waltermatthau', 'jacklemmon', 'ann-margret']   \n3  ['whitneyhouston', 'angelabassett', 'lorettade...   \n4      ['stevemartin', 'dianekeaton', 'martinshort']   \n\n                                                crew  \\\n0  [{'credit_id': '52fe4284c3a36847f8024f49', 'de...   \n1  [{'credit_id': '52fe44bfc3a36847f80a7cd1', 'de...   \n2  [{'credit_id': '52fe466a9251416c75077a89', 'de...   \n3  [{'credit_id': '52fe44779251416c91011acb', 'de...   \n4  [{'credit_id': '52fe44959251416c75039ed7', 'de...   \n\n                                            keywords        director  \\\n0                         ['jealousy', 'toy', 'boy']    johnlasseter   \n1  ['boardgame', 'disappearance', \"basedonchildre...     joejohnston   \n2  ['fishing', 'bestfriend', 'duringcreditsstinger']    howarddeutch   \n3  ['basedonnovel', 'interracialrelationship', 's...  forestwhitaker   \n4            ['baby', 'midlifecrisis', 'confidence']    charlesshyer   \n\n                                                soup  \n0  jealousy toy boy tomhanks timallen donrickles ...  \n1  boardgame disappearance basedonchildren'sbook ...  \n2  fishing bestfriend duringcreditsstinger walter...  \n3  basedonnovel interracialrelationship singlemot...  \n4  baby midlifecrisis confidence stevemartin dian...  \n\n[5 rows x 30 columns]",
      "text/html": "<div>\n<style scoped>\n    .dataframe tbody tr th:only-of-type {\n        vertical-align: middle;\n    }\n\n    .dataframe tbody tr th {\n        vertical-align: top;\n    }\n\n    .dataframe thead th {\n        text-align: right;\n    }\n</style>\n<table border=\"1\" class=\"dataframe\">\n  <thead>\n    <tr style=\"text-align: right;\">\n      <th></th>\n      <th>Unnamed: 0</th>\n      <th>adult</th>\n      <th>belongs_to_collection</th>\n      <th>budget</th>\n      <th>genres</th>\n      <th>homepage</th>\n      <th>id</th>\n      <th>imdb_id</th>\n      <th>original_language</th>\n      <th>original_title</th>\n      <th>...</th>\n      <th>tagline</th>\n      <th>title</th>\n      <th>video</th>\n      <th>vote_average</th>\n      <th>vote_count</th>\n      <th>cast</th>\n      <th>crew</th>\n      <th>keywords</th>\n      <th>director</th>\n      <th>soup</th>\n    </tr>\n  </thead>\n  <tbody>\n    <tr>\n      <th>0</th>\n      <td>0</td>\n      <td>False</td>\n      <td>{'id': 10194, 'name': 'Toy Story Collection', ...</td>\n      <td>30000000</td>\n      <td>['animation', 'comedy', 'family']</td>\n      <td>http://toystory.disney.com/toy-story</td>\n      <td>862</td>\n      <td>tt0114709</td>\n      <td>en</td>\n      <td>Toy Story</td>\n      <td>...</td>\n      <td>NaN</td>\n      <td>Toy Story</td>\n      <td>False</td>\n      <td>7.7</td>\n      <td>5415.0</td>\n      <td>['tomhanks', 'timallen', 'donrickles']</td>\n      <td>[{'credit_id': '52fe4284c3a36847f8024f49', 'de...</td>\n      <td>['jealousy', 'toy', 'boy']</td>\n      <td>johnlasseter</td>\n      <td>jealousy toy boy tomhanks timallen donrickles ...</td>\n    </tr>\n    <tr>\n      <th>1</th>\n      <td>1</td>\n      <td>False</td>\n      <td>NaN</td>\n      <td>65000000</td>\n      <td>['adventure', 'fantasy', 'family']</td>\n      <td>NaN</td>\n      <td>8844</td>\n      <td>tt0113497</td>\n      <td>en</td>\n      <td>Jumanji</td>\n      <td>...</td>\n      <td>Roll the dice and unleash the excitement!</td>\n      <td>Jumanji</td>\n      <td>False</td>\n      <td>6.9</td>\n      <td>2413.0</td>\n      <td>['robinwilliams', 'jonathanhyde', 'kirstendunst']</td>\n      <td>[{'credit_id': '52fe44bfc3a36847f80a7cd1', 'de...</td>\n      <td>['boardgame', 'disappearance', \"basedonchildre...</td>\n      <td>joejohnston</td>\n      <td>boardgame disappearance basedonchildren'sbook ...</td>\n    </tr>\n    <tr>\n      <th>2</th>\n      <td>2</td>\n      <td>False</td>\n      <td>{'id': 119050, 'name': 'Grumpy Old Men Collect...</td>\n      <td>0</td>\n      <td>['romance', 'comedy']</td>\n      <td>NaN</td>\n      <td>15602</td>\n      <td>tt0113228</td>\n      <td>en</td>\n      <td>Grumpier Old Men</td>\n      <td>...</td>\n      <td>Still Yelling. Still Fighting. Still Ready for...</td>\n      <td>Grumpier Old Men</td>\n      <td>False</td>\n      <td>6.5</td>\n      <td>92.0</td>\n      <td>['waltermatthau', 'jacklemmon', 'ann-margret']</td>\n      <td>[{'credit_id': '52fe466a9251416c75077a89', 'de...</td>\n      <td>['fishing', 'bestfriend', 'duringcreditsstinger']</td>\n      <td>howarddeutch</td>\n      <td>fishing bestfriend duringcreditsstinger walter...</td>\n    </tr>\n    <tr>\n      <th>3</th>\n      <td>3</td>\n      <td>False</td>\n      <td>NaN</td>\n      <td>16000000</td>\n      <td>['comedy', 'drama', 'romance']</td>\n      <td>NaN</td>\n      <td>31357</td>\n      <td>tt0114885</td>\n      <td>en</td>\n      <td>Waiting to Exhale</td>\n      <td>...</td>\n      <td>Friends are the people who let you be yourself...</td>\n      <td>Waiting to Exhale</td>\n      <td>False</td>\n      <td>6.1</td>\n      <td>34.0</td>\n      <td>['whitneyhouston', 'angelabassett', 'lorettade...</td>\n      <td>[{'credit_id': '52fe44779251416c91011acb', 'de...</td>\n      <td>['basedonnovel', 'interracialrelationship', 's...</td>\n      <td>forestwhitaker</td>\n      <td>basedonnovel interracialrelationship singlemot...</td>\n    </tr>\n    <tr>\n      <th>4</th>\n      <td>4</td>\n      <td>False</td>\n      <td>{'id': 96871, 'name': 'Father of the Bride Col...</td>\n      <td>0</td>\n      <td>['comedy']</td>\n      <td>NaN</td>\n      <td>11862</td>\n      <td>tt0113041</td>\n      <td>en</td>\n      <td>Father of the Bride Part II</td>\n      <td>...</td>\n      <td>Just When His World Is Back To Normal... He's ...</td>\n      <td>Father of the Bride Part II</td>\n      <td>False</td>\n      <td>5.7</td>\n      <td>173.0</td>\n      <td>['stevemartin', 'dianekeaton', 'martinshort']</td>\n      <td>[{'credit_id': '52fe44959251416c75039ed7', 'de...</td>\n      <td>['baby', 'midlifecrisis', 'confidence']</td>\n      <td>charlesshyer</td>\n      <td>baby midlifecrisis confidence stevemartin dian...</td>\n    </tr>\n  </tbody>\n</table>\n<p>5 rows × 30 columns</p>\n</div>"
     },
     "execution_count": 69,
     "metadata": {},
     "output_type": "execute_result"
    }
   ],
   "source": [
    "movie_metadata = pd.read_csv(\"data/movie_metadata_soup.csv\", low_memory=False)\n",
    "movie_metadata.head()"
   ],
   "metadata": {
    "collapsed": false,
    "ExecuteTime": {
     "end_time": "2024-05-02T13:54:11.865667Z",
     "start_time": "2024-05-02T13:54:10.600080Z"
    }
   },
   "id": "399207b6ee3125e",
   "execution_count": 69
  },
  {
   "cell_type": "code",
   "outputs": [
    {
     "data": {
      "text/plain": "(46488, 73881)"
     },
     "execution_count": 70,
     "metadata": {},
     "output_type": "execute_result"
    }
   ],
   "source": [
    "count = CountVectorizer(stop_words='english')\n",
    "count_matrix = count.fit_transform(movie_metadata['soup'])\n",
    "count_matrix.shape"
   ],
   "metadata": {
    "collapsed": false,
    "ExecuteTime": {
     "end_time": "2024-05-02T13:54:12.317161Z",
     "start_time": "2024-05-02T13:54:11.890881Z"
    }
   },
   "id": "2e78763bd02aec1e",
   "execution_count": 70
  },
  {
   "cell_type": "code",
   "outputs": [
    {
     "data": {
      "text/plain": "(46488, 46488)"
     },
     "execution_count": 71,
     "metadata": {},
     "output_type": "execute_result"
    }
   ],
   "source": [
    "cosine_sim = cosine_similarity(count_matrix, count_matrix)\n",
    "cosine_sim.shape"
   ],
   "metadata": {
    "collapsed": false,
    "ExecuteTime": {
     "end_time": "2024-05-02T13:54:31.065821Z",
     "start_time": "2024-05-02T13:54:12.319012Z"
    }
   },
   "id": "8a56ece420dd8953",
   "execution_count": 71
  },
  {
   "cell_type": "code",
   "outputs": [],
   "source": [
    "indices = pd.Series(movie_metadata.index, index=movie_metadata['id'])\n",
    "indices = indices.sort_values(ascending=False)"
   ],
   "metadata": {
    "collapsed": false,
    "ExecuteTime": {
     "end_time": "2024-05-02T13:54:31.085455Z",
     "start_time": "2024-05-02T13:54:31.074652Z"
    }
   },
   "id": "c63bc5c55135d6f2",
   "execution_count": 72
  },
  {
   "cell_type": "code",
   "outputs": [],
   "source": [
    "def estimate_content_based(user_id, movies):\n",
    "    user_ratings = pd.merge(ratings[ratings['userId'] == user_id],\n",
    "                            movie_metadata[['id', 'title']],\n",
    "                            left_on='movieId',\n",
    "                            right_on='id',\n",
    "                            how='inner')\n",
    "    user_ratings = user_ratings.drop('id', axis=1)\n",
    "    user_ratings['movieId'] = user_ratings['movieId'].astype(int)\n",
    "\n",
    "    reviewed_movie_ids = set(user_ratings['movieId'])\n",
    "    pred_series = []\n",
    "    for movie_id in movies['id']:\n",
    "        if movie_id in reviewed_movie_ids:\n",
    "            continue\n",
    "        simTotal = weightedSum = 0\n",
    "        sim_scores_row = list(enumerate(cosine_sim[indices[movie_id]]))\n",
    "        for reviewed_id in reviewed_movie_ids:\n",
    "            idx = indices[reviewed_id]\n",
    "            if len(sim_scores_row) < 46488:\n",
    "                continue\n",
    "            if type(idx) != np.int64:\n",
    "                continue\n",
    "            sim_score = sim_scores_row[idx]\n",
    "            simTotal += float(sim_score[1])\n",
    "            weightedSum += float(sim_score[1]) * float(user_ratings[user_ratings['movieId'] == reviewed_id]['rating'])\n",
    "        predictedRating = weightedSum / simTotal if simTotal != 0 else 0\n",
    "        pred_series.append((movie_id, predictedRating))\n",
    "\n",
    "    pred_series = sorted(pred_series, key=lambda x: x[1], reverse=True)[:10]\n",
    "    return pred_series"
   ],
   "metadata": {
    "collapsed": false,
    "ExecuteTime": {
     "end_time": "2024-05-02T13:55:54.509757Z",
     "start_time": "2024-05-02T13:55:54.502220Z"
    }
   },
   "id": "fb95fec8ff877013",
   "execution_count": 81
  },
  {
   "cell_type": "code",
   "outputs": [],
   "source": [
    "def get_recommendations_single_movie_content(id, rating, cosine_sim=cosine_sim):\n",
    "    idx = indices[id]\n",
    "    sim_scores = list(enumerate(cosine_sim[idx]))\n",
    "    sim_scores = [(i, score * rating) for i, score in sim_scores]\n",
    "    sim_scores = sorted(sim_scores, key=lambda x: x[1].any(), reverse=True)\n",
    "    sim_scores = sim_scores[1:11]\n",
    "    movie_indices = [i[0] for i in sim_scores]\n",
    "    movie_metadata1 = movie_metadata[['id', 'title']].iloc[movie_indices]\n",
    "    sim_scores_values = [i[1] for i in sim_scores]\n",
    "    movie_metadata1['similarity_score'] = sim_scores_values\n",
    "    return movie_metadata1"
   ],
   "metadata": {
    "collapsed": false,
    "ExecuteTime": {
     "end_time": "2024-05-02T13:54:31.176775Z",
     "start_time": "2024-05-02T13:54:31.092440Z"
    }
   },
   "id": "2d507f6430b78472",
   "execution_count": 74
  },
  {
   "cell_type": "code",
   "outputs": [],
   "source": [
    "def get_recommendations_content(user_id):\n",
    "    pred_series = []\n",
    "    user_ratings = ratings.loc[ratings['userId'] == user_id]\n",
    "    merged_ratings = pd.merge(user_ratings, movie_metadata[['id']], left_on='movieId', right_on='id', how='inner')\n",
    "    top_10_user_ratings = merged_ratings.sort_values(by='rating', ascending=False).head(10)\n",
    "    top_10_user_ratings['movieId'] = top_10_user_ratings['movieId'].astype(int)\n",
    "    top_10_movie_ids = top_10_user_ratings[['movieId', 'rating']]\n",
    "    for index, row in top_10_movie_ids.iterrows():\n",
    "        movie_id = row['movieId']\n",
    "        rating = row['rating']\n",
    "        pred_series.append(get_recommendations_single_movie_content(movie_id, rating))\n",
    "    df = pd.concat(pred_series)\n",
    "    df = df.drop_duplicates(subset=['id'])\n",
    "    df = df[pd.to_numeric(df['similarity_score'], errors='coerce').notnull()]\n",
    "    df = df.sort_values(by='similarity_score', ascending=False)\n",
    "    return pd.merge(pd.DataFrame(estimate_content_based(user_id, df),\n",
    "                                 columns=['id', 'predicted_rating']), movie_metadata[['id', 'title']], on='id',\n",
    "                    how='inner')"
   ],
   "metadata": {
    "collapsed": false,
    "ExecuteTime": {
     "end_time": "2024-05-02T13:54:31.188909Z",
     "start_time": "2024-05-02T13:54:31.184627Z"
    }
   },
   "id": "909f8d77770e7248",
   "execution_count": 75
  },
  {
   "cell_type": "code",
   "outputs": [
    {
     "data": {
      "text/plain": "   userId  movieId  rating   id\n0     472      750     5.0  750\n1     575      750     5.0  750\n2     118      750     5.0  750\n3     520      750     4.5  750\n4     549      750     5.0  750",
      "text/html": "<div>\n<style scoped>\n    .dataframe tbody tr th:only-of-type {\n        vertical-align: middle;\n    }\n\n    .dataframe tbody tr th {\n        vertical-align: top;\n    }\n\n    .dataframe thead th {\n        text-align: right;\n    }\n</style>\n<table border=\"1\" class=\"dataframe\">\n  <thead>\n    <tr style=\"text-align: right;\">\n      <th></th>\n      <th>userId</th>\n      <th>movieId</th>\n      <th>rating</th>\n      <th>id</th>\n    </tr>\n  </thead>\n  <tbody>\n    <tr>\n      <th>0</th>\n      <td>472</td>\n      <td>750</td>\n      <td>5.0</td>\n      <td>750</td>\n    </tr>\n    <tr>\n      <th>1</th>\n      <td>575</td>\n      <td>750</td>\n      <td>5.0</td>\n      <td>750</td>\n    </tr>\n    <tr>\n      <th>2</th>\n      <td>118</td>\n      <td>750</td>\n      <td>5.0</td>\n      <td>750</td>\n    </tr>\n    <tr>\n      <th>3</th>\n      <td>520</td>\n      <td>750</td>\n      <td>4.5</td>\n      <td>750</td>\n    </tr>\n    <tr>\n      <th>4</th>\n      <td>549</td>\n      <td>750</td>\n      <td>5.0</td>\n      <td>750</td>\n    </tr>\n  </tbody>\n</table>\n</div>"
     },
     "execution_count": 76,
     "metadata": {},
     "output_type": "execute_result"
    }
   ],
   "source": [
    "ratings_test = pd.merge(test_df, movie_metadata[['id']], left_on='movieId', right_on='id', how='inner')\n",
    "ratings_test.head()"
   ],
   "metadata": {
    "collapsed": false,
    "ExecuteTime": {
     "end_time": "2024-05-02T13:54:31.211550Z",
     "start_time": "2024-05-02T13:54:31.192166Z"
    }
   },
   "id": "596d82a61479dde3",
   "execution_count": 76
  },
  {
   "cell_type": "code",
   "outputs": [],
   "source": [
    "svd_model = SVD()\n",
    "svd_model_trained = svd_model.fit(ratings_train)"
   ],
   "metadata": {
    "collapsed": false,
    "ExecuteTime": {
     "end_time": "2024-05-02T13:54:31.858799Z",
     "start_time": "2024-05-02T13:54:31.213262Z"
    }
   },
   "id": "900465a16537eb75",
   "execution_count": 77
  },
  {
   "cell_type": "code",
   "outputs": [],
   "source": [
    "def get_recommendations_user(user_id):\n",
    "    pred_series = []\n",
    "    users_ratings = ratings[ratings['userId'] == user_id]\n",
    "    for movie_id, name in zip(movie_metadata.index, movie_metadata['title']):\n",
    "        rating_real = ratings.query(f'movieId == {movie_id}')['rating'].values[0] if movie_id in users_ratings[\n",
    "            'movieId'].values else 0\n",
    "        rating_pred = svd_model_trained.predict(user_id, movie_id, rating_real, verbose=False)\n",
    "        pred_series.append([movie_id, name, rating_pred.est, rating_real])\n",
    "\n",
    "    df_recommendations = pd.DataFrame(pred_series, columns=['movieId', 'title', 'predicted_rating', 'actual_rating'])\n",
    "    return df_recommendations.sort_values(by='predicted_rating', ascending=False)"
   ],
   "metadata": {
    "collapsed": false,
    "ExecuteTime": {
     "end_time": "2024-05-02T13:54:31.865085Z",
     "start_time": "2024-05-02T13:54:31.862858Z"
    }
   },
   "id": "eb4b7a5f9dec39fe",
   "execution_count": 78
  },
  {
   "cell_type": "code",
   "outputs": [
    {
     "ename": "KeyboardInterrupt",
     "evalue": "",
     "output_type": "error",
     "traceback": [
      "\u001B[0;31m---------------------------------------------------------------------------\u001B[0m",
      "\u001B[0;31mKeyboardInterrupt\u001B[0m                         Traceback (most recent call last)",
      "Cell \u001B[0;32mIn[36], line 15\u001B[0m\n\u001B[1;32m     13\u001B[0m movie_id \u001B[38;5;241m=\u001B[39m row[\u001B[38;5;124m'\u001B[39m\u001B[38;5;124mmovieId\u001B[39m\u001B[38;5;124m'\u001B[39m]\n\u001B[1;32m     14\u001B[0m rating \u001B[38;5;241m=\u001B[39m row[\u001B[38;5;124m'\u001B[39m\u001B[38;5;124mrating\u001B[39m\u001B[38;5;124m'\u001B[39m]\n\u001B[0;32m---> 15\u001B[0m predicted \u001B[38;5;241m=\u001B[39m \u001B[43mpredict_switching\u001B[49m\u001B[43m(\u001B[49m\u001B[43muser_id\u001B[49m\u001B[43m,\u001B[49m\u001B[43m \u001B[49m\u001B[43mmovie_id\u001B[49m\u001B[43m,\u001B[49m\u001B[43m \u001B[49m\u001B[43mrating\u001B[49m\u001B[43m)\u001B[49m\n\u001B[1;32m     16\u001B[0m data\u001B[38;5;241m.\u001B[39mappend((rating, predicted))\n",
      "Cell \u001B[0;32mIn[36], line 7\u001B[0m, in \u001B[0;36mpredict_switching\u001B[0;34m(user_id, movie_id, rating)\u001B[0m\n\u001B[1;32m      5\u001B[0m     \u001B[38;5;28;01mreturn\u001B[39;00m svd_model_trained\u001B[38;5;241m.\u001B[39mpredict(user_id, movie_id, rating, verbose\u001B[38;5;241m=\u001B[39m\u001B[38;5;28;01mFalse\u001B[39;00m)\u001B[38;5;241m.\u001B[39mest\n\u001B[1;32m      6\u001B[0m \u001B[38;5;28;01melse\u001B[39;00m:\n\u001B[0;32m----> 7\u001B[0m     \u001B[38;5;28;01mreturn\u001B[39;00m \u001B[43mestimate_content_based\u001B[49m\u001B[43m(\u001B[49m\u001B[43muser_id\u001B[49m\u001B[43m,\u001B[49m\u001B[43m \u001B[49m\u001B[43mmovie_metadata\u001B[49m\u001B[43m[\u001B[49m\u001B[43mmovie_metadata\u001B[49m\u001B[43m[\u001B[49m\u001B[38;5;124;43m'\u001B[39;49m\u001B[38;5;124;43mid\u001B[39;49m\u001B[38;5;124;43m'\u001B[39;49m\u001B[43m]\u001B[49m\u001B[43m \u001B[49m\u001B[38;5;241;43m==\u001B[39;49m\u001B[43m \u001B[49m\u001B[43mmovie_id\u001B[49m\u001B[43m]\u001B[49m\u001B[43m)\u001B[49m[\u001B[38;5;241m0\u001B[39m][\u001B[38;5;241m1\u001B[39m]\n",
      "Cell \u001B[0;32mIn[33], line 25\u001B[0m, in \u001B[0;36mestimate_content_based\u001B[0;34m(user_id, movies)\u001B[0m\n\u001B[1;32m     23\u001B[0m     sim_score \u001B[38;5;241m=\u001B[39m sim_scores_row[idx]\n\u001B[1;32m     24\u001B[0m     simTotal \u001B[38;5;241m+\u001B[39m\u001B[38;5;241m=\u001B[39m \u001B[38;5;28mfloat\u001B[39m(sim_score[\u001B[38;5;241m1\u001B[39m])\n\u001B[0;32m---> 25\u001B[0m     weightedSum \u001B[38;5;241m+\u001B[39m\u001B[38;5;241m=\u001B[39m \u001B[38;5;28mfloat\u001B[39m(sim_score[\u001B[38;5;241m1\u001B[39m]) \u001B[38;5;241m*\u001B[39m \u001B[38;5;28mfloat\u001B[39m(user_ratings[\u001B[43muser_ratings\u001B[49m\u001B[43m[\u001B[49m\u001B[38;5;124;43m'\u001B[39;49m\u001B[38;5;124;43mmovieId\u001B[39;49m\u001B[38;5;124;43m'\u001B[39;49m\u001B[43m]\u001B[49m\u001B[43m \u001B[49m\u001B[38;5;241;43m==\u001B[39;49m\u001B[43m \u001B[49m\u001B[43mreviewed_id\u001B[49m][\u001B[38;5;124m'\u001B[39m\u001B[38;5;124mrating\u001B[39m\u001B[38;5;124m'\u001B[39m])\n\u001B[1;32m     26\u001B[0m predictedRating \u001B[38;5;241m=\u001B[39m weightedSum \u001B[38;5;241m/\u001B[39m simTotal \u001B[38;5;28;01mif\u001B[39;00m simTotal \u001B[38;5;241m!=\u001B[39m \u001B[38;5;241m0\u001B[39m \u001B[38;5;28;01melse\u001B[39;00m \u001B[38;5;241m0\u001B[39m\n\u001B[1;32m     27\u001B[0m pred_series\u001B[38;5;241m.\u001B[39mappend((movie_id, predictedRating))\n",
      "File \u001B[0;32m~/anaconda3/lib/python3.10/site-packages/pandas/core/ops/common.py:72\u001B[0m, in \u001B[0;36m_unpack_zerodim_and_defer.<locals>.new_method\u001B[0;34m(self, other)\u001B[0m\n\u001B[1;32m     68\u001B[0m             \u001B[38;5;28;01mreturn\u001B[39;00m \u001B[38;5;28mNotImplemented\u001B[39m\n\u001B[1;32m     70\u001B[0m other \u001B[38;5;241m=\u001B[39m item_from_zerodim(other)\n\u001B[0;32m---> 72\u001B[0m \u001B[38;5;28;01mreturn\u001B[39;00m \u001B[43mmethod\u001B[49m\u001B[43m(\u001B[49m\u001B[38;5;28;43mself\u001B[39;49m\u001B[43m,\u001B[49m\u001B[43m \u001B[49m\u001B[43mother\u001B[49m\u001B[43m)\u001B[49m\n",
      "File \u001B[0;32m~/anaconda3/lib/python3.10/site-packages/pandas/core/arraylike.py:42\u001B[0m, in \u001B[0;36mOpsMixin.__eq__\u001B[0;34m(self, other)\u001B[0m\n\u001B[1;32m     40\u001B[0m \u001B[38;5;129m@unpack_zerodim_and_defer\u001B[39m(\u001B[38;5;124m\"\u001B[39m\u001B[38;5;124m__eq__\u001B[39m\u001B[38;5;124m\"\u001B[39m)\n\u001B[1;32m     41\u001B[0m \u001B[38;5;28;01mdef\u001B[39;00m \u001B[38;5;21m__eq__\u001B[39m(\u001B[38;5;28mself\u001B[39m, other):\n\u001B[0;32m---> 42\u001B[0m     \u001B[38;5;28;01mreturn\u001B[39;00m \u001B[38;5;28;43mself\u001B[39;49m\u001B[38;5;241;43m.\u001B[39;49m\u001B[43m_cmp_method\u001B[49m\u001B[43m(\u001B[49m\u001B[43mother\u001B[49m\u001B[43m,\u001B[49m\u001B[43m \u001B[49m\u001B[43moperator\u001B[49m\u001B[38;5;241;43m.\u001B[39;49m\u001B[43meq\u001B[49m\u001B[43m)\u001B[49m\n",
      "File \u001B[0;32m~/anaconda3/lib/python3.10/site-packages/pandas/core/series.py:6243\u001B[0m, in \u001B[0;36mSeries._cmp_method\u001B[0;34m(self, other, op)\u001B[0m\n\u001B[1;32m   6240\u001B[0m rvalues \u001B[38;5;241m=\u001B[39m extract_array(other, extract_numpy\u001B[38;5;241m=\u001B[39m\u001B[38;5;28;01mTrue\u001B[39;00m, extract_range\u001B[38;5;241m=\u001B[39m\u001B[38;5;28;01mTrue\u001B[39;00m)\n\u001B[1;32m   6242\u001B[0m \u001B[38;5;28;01mwith\u001B[39;00m np\u001B[38;5;241m.\u001B[39merrstate(\u001B[38;5;28mall\u001B[39m\u001B[38;5;241m=\u001B[39m\u001B[38;5;124m\"\u001B[39m\u001B[38;5;124mignore\u001B[39m\u001B[38;5;124m\"\u001B[39m):\n\u001B[0;32m-> 6243\u001B[0m     res_values \u001B[38;5;241m=\u001B[39m \u001B[43mops\u001B[49m\u001B[38;5;241;43m.\u001B[39;49m\u001B[43mcomparison_op\u001B[49m\u001B[43m(\u001B[49m\u001B[43mlvalues\u001B[49m\u001B[43m,\u001B[49m\u001B[43m \u001B[49m\u001B[43mrvalues\u001B[49m\u001B[43m,\u001B[49m\u001B[43m \u001B[49m\u001B[43mop\u001B[49m\u001B[43m)\u001B[49m\n\u001B[1;32m   6245\u001B[0m \u001B[38;5;28;01mreturn\u001B[39;00m \u001B[38;5;28mself\u001B[39m\u001B[38;5;241m.\u001B[39m_construct_result(res_values, name\u001B[38;5;241m=\u001B[39mres_name)\n",
      "File \u001B[0;32m~/anaconda3/lib/python3.10/site-packages/pandas/core/ops/array_ops.py:290\u001B[0m, in \u001B[0;36mcomparison_op\u001B[0;34m(left, right, op)\u001B[0m\n\u001B[1;32m    287\u001B[0m     res_values \u001B[38;5;241m=\u001B[39m comp_method_OBJECT_ARRAY(op, lvalues, rvalues)\n\u001B[1;32m    289\u001B[0m \u001B[38;5;28;01melse\u001B[39;00m:\n\u001B[0;32m--> 290\u001B[0m     res_values \u001B[38;5;241m=\u001B[39m \u001B[43m_na_arithmetic_op\u001B[49m\u001B[43m(\u001B[49m\u001B[43mlvalues\u001B[49m\u001B[43m,\u001B[49m\u001B[43m \u001B[49m\u001B[43mrvalues\u001B[49m\u001B[43m,\u001B[49m\u001B[43m \u001B[49m\u001B[43mop\u001B[49m\u001B[43m,\u001B[49m\u001B[43m \u001B[49m\u001B[43mis_cmp\u001B[49m\u001B[38;5;241;43m=\u001B[39;49m\u001B[38;5;28;43;01mTrue\u001B[39;49;00m\u001B[43m)\u001B[49m\n\u001B[1;32m    292\u001B[0m \u001B[38;5;28;01mreturn\u001B[39;00m res_values\n",
      "File \u001B[0;32m~/anaconda3/lib/python3.10/site-packages/pandas/core/ops/array_ops.py:165\u001B[0m, in \u001B[0;36m_na_arithmetic_op\u001B[0;34m(left, right, op, is_cmp)\u001B[0m\n\u001B[1;32m    162\u001B[0m     func \u001B[38;5;241m=\u001B[39m partial(expressions\u001B[38;5;241m.\u001B[39mevaluate, op)\n\u001B[1;32m    164\u001B[0m \u001B[38;5;28;01mtry\u001B[39;00m:\n\u001B[0;32m--> 165\u001B[0m     result \u001B[38;5;241m=\u001B[39m \u001B[43mfunc\u001B[49m\u001B[43m(\u001B[49m\u001B[43mleft\u001B[49m\u001B[43m,\u001B[49m\u001B[43m \u001B[49m\u001B[43mright\u001B[49m\u001B[43m)\u001B[49m\n\u001B[1;32m    166\u001B[0m \u001B[38;5;28;01mexcept\u001B[39;00m \u001B[38;5;167;01mTypeError\u001B[39;00m:\n\u001B[1;32m    167\u001B[0m     \u001B[38;5;28;01mif\u001B[39;00m \u001B[38;5;129;01mnot\u001B[39;00m is_cmp \u001B[38;5;129;01mand\u001B[39;00m (is_object_dtype(left\u001B[38;5;241m.\u001B[39mdtype) \u001B[38;5;129;01mor\u001B[39;00m is_object_dtype(right)):\n\u001B[1;32m    168\u001B[0m         \u001B[38;5;66;03m# For object dtype, fallback to a masked operation (only operating\u001B[39;00m\n\u001B[1;32m    169\u001B[0m         \u001B[38;5;66;03m#  on the non-missing values)\u001B[39;00m\n\u001B[1;32m    170\u001B[0m         \u001B[38;5;66;03m# Don't do this for comparisons, as that will handle complex numbers\u001B[39;00m\n\u001B[1;32m    171\u001B[0m         \u001B[38;5;66;03m#  incorrectly, see GH#32047\u001B[39;00m\n",
      "File \u001B[0;32m~/anaconda3/lib/python3.10/site-packages/pandas/core/computation/expressions.py:225\u001B[0m, in \u001B[0;36mevaluate\u001B[0;34m(op, a, b, use_numexpr)\u001B[0m\n\u001B[1;32m    221\u001B[0m             \u001B[38;5;28;01mreturn\u001B[39;00m \u001B[38;5;28;01mTrue\u001B[39;00m\n\u001B[1;32m    222\u001B[0m     \u001B[38;5;28;01mreturn\u001B[39;00m \u001B[38;5;28;01mFalse\u001B[39;00m\n\u001B[0;32m--> 225\u001B[0m \u001B[38;5;28;01mdef\u001B[39;00m \u001B[38;5;21mevaluate\u001B[39m(op, a, b, use_numexpr: \u001B[38;5;28mbool\u001B[39m \u001B[38;5;241m=\u001B[39m \u001B[38;5;28;01mTrue\u001B[39;00m):\n\u001B[1;32m    226\u001B[0m     \u001B[38;5;124;03m\"\"\"\u001B[39;00m\n\u001B[1;32m    227\u001B[0m \u001B[38;5;124;03m    Evaluate and return the expression of the op on a and b.\u001B[39;00m\n\u001B[1;32m    228\u001B[0m \n\u001B[0;32m   (...)\u001B[0m\n\u001B[1;32m    235\u001B[0m \u001B[38;5;124;03m        Whether to try to use numexpr.\u001B[39;00m\n\u001B[1;32m    236\u001B[0m \u001B[38;5;124;03m    \"\"\"\u001B[39;00m\n\u001B[1;32m    237\u001B[0m     op_str \u001B[38;5;241m=\u001B[39m _op_str_mapping[op]\n",
      "\u001B[0;31mKeyboardInterrupt\u001B[0m: "
     ]
    }
   ],
   "source": [
    "def predict_switching(user_id, movie_id, rating):\n",
    "    num_user_ratings = len(ratings[ratings['userId'] == user_id])\n",
    "    num_movie_ratings = len(ratings[ratings['movieId'] == movie_id])\n",
    "    if num_user_ratings > 5 and num_movie_ratings > 30:\n",
    "        return svd_model_trained.predict(user_id, movie_id, rating, verbose=False).est\n",
    "    else:\n",
    "        return estimate_content_based(user_id, movie_metadata[movie_metadata['id'] == movie_id])[0][1]\n",
    "\n",
    "\n",
    "data = []\n",
    "for index, row in ratings_test.iterrows():\n",
    "    user_id = row['userId']\n",
    "    movie_id = row['movieId']\n",
    "    rating = row['rating']\n",
    "    predicted = predict_switching(user_id, movie_id, rating)\n",
    "    data.append((rating, predicted))\n"
   ],
   "metadata": {
    "collapsed": false,
    "ExecuteTime": {
     "end_time": "2024-04-25T13:20:20.852615Z",
     "start_time": "2024-04-25T13:20:16.706203Z"
    }
   },
   "id": "118eb5162c2d015d",
   "execution_count": 36
  },
  {
   "cell_type": "code",
   "outputs": [
    {
     "name": "stdout",
     "output_type": "stream",
     "text": [
      "MSE: 0.9363272887437245\n",
      "RMSE: 0.9676400615640738\n"
     ]
    }
   ],
   "source": [
    "mse, rmse = calculate_mse_and_rmse(data)\n",
    "print(\"MSE:\", mse)\n",
    "print(\"RMSE:\", rmse)"
   ],
   "metadata": {
    "collapsed": false,
    "ExecuteTime": {
     "end_time": "2024-04-24T14:32:10.544958Z",
     "start_time": "2024-04-24T14:32:10.541814Z"
    }
   },
   "id": "c3012dfdbf00185f",
   "execution_count": 12
  },
  {
   "cell_type": "code",
   "outputs": [
    {
     "ename": "KeyboardInterrupt",
     "evalue": "",
     "output_type": "error",
     "traceback": [
      "\u001B[0;31m---------------------------------------------------------------------------\u001B[0m",
      "\u001B[0;31mKeyboardInterrupt\u001B[0m                         Traceback (most recent call last)",
      "Cell \u001B[0;32mIn[64], line 13\u001B[0m\n\u001B[1;32m     11\u001B[0m movie_id \u001B[38;5;241m=\u001B[39m row[\u001B[38;5;124m'\u001B[39m\u001B[38;5;124mmovieId\u001B[39m\u001B[38;5;124m'\u001B[39m]\n\u001B[1;32m     12\u001B[0m rating \u001B[38;5;241m=\u001B[39m row[\u001B[38;5;124m'\u001B[39m\u001B[38;5;124mrating\u001B[39m\u001B[38;5;124m'\u001B[39m]\n\u001B[0;32m---> 13\u001B[0m predicted \u001B[38;5;241m=\u001B[39m \u001B[43mpredict_weighted\u001B[49m\u001B[43m(\u001B[49m\u001B[43muser_id\u001B[49m\u001B[43m,\u001B[49m\u001B[43m \u001B[49m\u001B[43mmovie_id\u001B[49m\u001B[43m,\u001B[49m\u001B[43m \u001B[49m\u001B[43mrating\u001B[49m\u001B[43m)\u001B[49m\n\u001B[1;32m     14\u001B[0m data\u001B[38;5;241m.\u001B[39mappend((rating, predicted))\n",
      "Cell \u001B[0;32mIn[64], line 3\u001B[0m, in \u001B[0;36mpredict_weighted\u001B[0;34m(user_id, movie_id, rating)\u001B[0m\n\u001B[1;32m      1\u001B[0m \u001B[38;5;28;01mdef\u001B[39;00m \u001B[38;5;21mpredict_weighted\u001B[39m(user_id, movie_id, rating):\n\u001B[1;32m      2\u001B[0m     prediction_cf \u001B[38;5;241m=\u001B[39m svd_model_trained\u001B[38;5;241m.\u001B[39mpredict(user_id, movie_id, rating, verbose\u001B[38;5;241m=\u001B[39m\u001B[38;5;28;01mFalse\u001B[39;00m)\u001B[38;5;241m.\u001B[39mest\n\u001B[0;32m----> 3\u001B[0m     prediction_cn \u001B[38;5;241m=\u001B[39m \u001B[43mestimate_content_based\u001B[49m\u001B[43m(\u001B[49m\u001B[43muser_id\u001B[49m\u001B[43m,\u001B[49m\u001B[43m \u001B[49m\u001B[43mmovie_metadata\u001B[49m\u001B[43m[\u001B[49m\u001B[43mmovie_metadata\u001B[49m\u001B[43m[\u001B[49m\u001B[38;5;124;43m'\u001B[39;49m\u001B[38;5;124;43mid\u001B[39;49m\u001B[38;5;124;43m'\u001B[39;49m\u001B[43m]\u001B[49m\u001B[43m \u001B[49m\u001B[38;5;241;43m==\u001B[39;49m\u001B[43m \u001B[49m\u001B[43mmovie_id\u001B[49m\u001B[43m]\u001B[49m\u001B[43m)\u001B[49m[\u001B[38;5;241m0\u001B[39m][\u001B[38;5;241m1\u001B[39m]\n\u001B[1;32m      4\u001B[0m     prediction \u001B[38;5;241m=\u001B[39m \u001B[38;5;241m0.6\u001B[39m \u001B[38;5;241m*\u001B[39m prediction_cf \u001B[38;5;241m+\u001B[39m \u001B[38;5;241m0.4\u001B[39m \u001B[38;5;241m*\u001B[39m prediction_cn\n\u001B[1;32m      5\u001B[0m     \u001B[38;5;28;01mreturn\u001B[39;00m prediction\n",
      "Cell \u001B[0;32mIn[8], line 18\u001B[0m, in \u001B[0;36mestimate_content_based\u001B[0;34m(user_id, movies)\u001B[0m\n\u001B[1;32m     16\u001B[0m sim_scores_row \u001B[38;5;241m=\u001B[39m \u001B[38;5;28mlist\u001B[39m(\u001B[38;5;28menumerate\u001B[39m(cosine_sim[indices[movie_id]]))\n\u001B[1;32m     17\u001B[0m \u001B[38;5;28;01mfor\u001B[39;00m reviewed_id \u001B[38;5;129;01min\u001B[39;00m reviewed_movie_ids:\n\u001B[0;32m---> 18\u001B[0m     idx \u001B[38;5;241m=\u001B[39m \u001B[43mindices\u001B[49m\u001B[43m[\u001B[49m\u001B[43mreviewed_id\u001B[49m\u001B[43m]\u001B[49m\n\u001B[1;32m     19\u001B[0m     \u001B[38;5;28;01mif\u001B[39;00m \u001B[38;5;28mlen\u001B[39m(sim_scores_row) \u001B[38;5;241m<\u001B[39m \u001B[38;5;241m46488\u001B[39m:\n\u001B[1;32m     20\u001B[0m         \u001B[38;5;28;01mcontinue\u001B[39;00m\n",
      "File \u001B[0;32m~/anaconda3/lib/python3.10/site-packages/pandas/core/series.py:981\u001B[0m, in \u001B[0;36mSeries.__getitem__\u001B[0;34m(self, key)\u001B[0m\n\u001B[1;32m    978\u001B[0m     \u001B[38;5;28;01mreturn\u001B[39;00m \u001B[38;5;28mself\u001B[39m\u001B[38;5;241m.\u001B[39m_values[key]\n\u001B[1;32m    980\u001B[0m \u001B[38;5;28;01melif\u001B[39;00m key_is_scalar:\n\u001B[0;32m--> 981\u001B[0m     \u001B[38;5;28;01mreturn\u001B[39;00m \u001B[38;5;28;43mself\u001B[39;49m\u001B[38;5;241;43m.\u001B[39;49m\u001B[43m_get_value\u001B[49m\u001B[43m(\u001B[49m\u001B[43mkey\u001B[49m\u001B[43m)\u001B[49m\n\u001B[1;32m    983\u001B[0m \u001B[38;5;28;01mif\u001B[39;00m is_hashable(key):\n\u001B[1;32m    984\u001B[0m     \u001B[38;5;66;03m# Otherwise index.get_value will raise InvalidIndexError\u001B[39;00m\n\u001B[1;32m    985\u001B[0m     \u001B[38;5;28;01mtry\u001B[39;00m:\n\u001B[1;32m    986\u001B[0m         \u001B[38;5;66;03m# For labels that don't resolve as scalars like tuples and frozensets\u001B[39;00m\n",
      "File \u001B[0;32m~/anaconda3/lib/python3.10/site-packages/pandas/core/series.py:1089\u001B[0m, in \u001B[0;36mSeries._get_value\u001B[0;34m(self, label, takeable)\u001B[0m\n\u001B[1;32m   1086\u001B[0m     \u001B[38;5;28;01mreturn\u001B[39;00m \u001B[38;5;28mself\u001B[39m\u001B[38;5;241m.\u001B[39m_values[label]\n\u001B[1;32m   1088\u001B[0m \u001B[38;5;66;03m# Similar to Index.get_value, but we do not fall back to positional\u001B[39;00m\n\u001B[0;32m-> 1089\u001B[0m loc \u001B[38;5;241m=\u001B[39m \u001B[38;5;28;43mself\u001B[39;49m\u001B[38;5;241;43m.\u001B[39;49m\u001B[43mindex\u001B[49m\u001B[38;5;241;43m.\u001B[39;49m\u001B[43mget_loc\u001B[49m\u001B[43m(\u001B[49m\u001B[43mlabel\u001B[49m\u001B[43m)\u001B[49m\n\u001B[1;32m   1090\u001B[0m \u001B[38;5;28;01mreturn\u001B[39;00m \u001B[38;5;28mself\u001B[39m\u001B[38;5;241m.\u001B[39mindex\u001B[38;5;241m.\u001B[39m_get_values_for_loc(\u001B[38;5;28mself\u001B[39m, loc, label)\n",
      "File \u001B[0;32m~/anaconda3/lib/python3.10/site-packages/pandas/core/indexes/base.py:3802\u001B[0m, in \u001B[0;36mIndex.get_loc\u001B[0;34m(self, key, method, tolerance)\u001B[0m\n\u001B[1;32m   3800\u001B[0m casted_key \u001B[38;5;241m=\u001B[39m \u001B[38;5;28mself\u001B[39m\u001B[38;5;241m.\u001B[39m_maybe_cast_indexer(key)\n\u001B[1;32m   3801\u001B[0m \u001B[38;5;28;01mtry\u001B[39;00m:\n\u001B[0;32m-> 3802\u001B[0m     \u001B[38;5;28;01mreturn\u001B[39;00m \u001B[38;5;28;43mself\u001B[39;49m\u001B[38;5;241;43m.\u001B[39;49m\u001B[43m_engine\u001B[49m\u001B[38;5;241;43m.\u001B[39;49m\u001B[43mget_loc\u001B[49m\u001B[43m(\u001B[49m\u001B[43mcasted_key\u001B[49m\u001B[43m)\u001B[49m\n\u001B[1;32m   3803\u001B[0m \u001B[38;5;28;01mexcept\u001B[39;00m \u001B[38;5;167;01mKeyError\u001B[39;00m \u001B[38;5;28;01mas\u001B[39;00m err:\n\u001B[1;32m   3804\u001B[0m     \u001B[38;5;28;01mraise\u001B[39;00m \u001B[38;5;167;01mKeyError\u001B[39;00m(key) \u001B[38;5;28;01mfrom\u001B[39;00m \u001B[38;5;21;01merr\u001B[39;00m\n",
      "File \u001B[0;32m~/anaconda3/lib/python3.10/site-packages/pandas/_libs/index.pyx:138\u001B[0m, in \u001B[0;36mpandas._libs.index.IndexEngine.get_loc\u001B[0;34m()\u001B[0m\n",
      "File \u001B[0;32m~/anaconda3/lib/python3.10/site-packages/pandas/_libs/index.pyx:162\u001B[0m, in \u001B[0;36mpandas._libs.index.IndexEngine.get_loc\u001B[0;34m()\u001B[0m\n",
      "File \u001B[0;32m~/anaconda3/lib/python3.10/site-packages/pandas/_libs/index.pyx:203\u001B[0m, in \u001B[0;36mpandas._libs.index.IndexEngine._get_loc_duplicates\u001B[0;34m()\u001B[0m\n",
      "File \u001B[0;32m~/anaconda3/lib/python3.10/site-packages/pandas/_libs/index.pyx:211\u001B[0m, in \u001B[0;36mpandas._libs.index.IndexEngine._maybe_get_bool_indexer\u001B[0;34m()\u001B[0m\n",
      "File \u001B[0;32m~/anaconda3/lib/python3.10/site-packages/pandas/_libs/index.pyx:99\u001B[0m, in \u001B[0;36mpandas._libs.index._unpack_bool_indexer\u001B[0;34m()\u001B[0m\n",
      "File \u001B[0;32m<__array_function__ internals>:180\u001B[0m, in \u001B[0;36mwhere\u001B[0;34m(*args, **kwargs)\u001B[0m\n",
      "\u001B[0;31mKeyboardInterrupt\u001B[0m: "
     ]
    }
   ],
   "source": [
    "def predict_weighted(user_id, movie_id, rating):\n",
    "    prediction_cf = svd_model_trained.predict(user_id, movie_id, rating, verbose=False).est\n",
    "    prediction_cn = estimate_content_based(user_id, movie_metadata[movie_metadata['id'] == movie_id])[0][1]\n",
    "    prediction = 0.6 * prediction_cf + 0.4 * prediction_cn\n",
    "    return prediction\n",
    "\n",
    "\n",
    "data = []\n",
    "for index, row in ratings_test.iterrows():\n",
    "    user_id = row['userId']\n",
    "    movie_id = row['movieId']\n",
    "    rating = row['rating']\n",
    "    predicted = predict_weighted(user_id, movie_id, rating)\n",
    "    data.append((rating, predicted))"
   ],
   "metadata": {
    "collapsed": false,
    "ExecuteTime": {
     "end_time": "2024-05-02T13:52:37.570713Z",
     "start_time": "2024-05-02T13:50:52.513005Z"
    }
   },
   "id": "d4f1fd9a2396acda",
   "execution_count": 64
  },
  {
   "cell_type": "code",
   "outputs": [
    {
     "name": "stdout",
     "output_type": "stream",
     "text": [
      "MSE: 0.7922374599279963\n",
      "RMSE: 0.8900772213285746\n"
     ]
    }
   ],
   "source": [
    "mse, rmse = calculate_mse_and_rmse(data)\n",
    "print(\"MSE:\", mse)\n",
    "print(\"RMSE:\", rmse)"
   ],
   "metadata": {
    "collapsed": false,
    "ExecuteTime": {
     "end_time": "2024-05-02T13:52:58.462004Z",
     "start_time": "2024-05-02T13:52:58.456777Z"
    }
   },
   "id": "b9906d67d7945123",
   "execution_count": 65
  },
  {
   "cell_type": "code",
   "outputs": [
    {
     "name": "stdout",
     "output_type": "stream",
     "text": [
      "Coefficient: 0.0\n",
      "MSE: 1.133211195319508\n",
      "RMSE: 1.064523928955807\n",
      "Coefficient: 0.05\n",
      "MSE: 1.1000802167359647\n",
      "RMSE: 1.0488470893013742\n",
      "Coefficient: 0.1\n",
      "MSE: 1.0687029697955646\n",
      "RMSE: 1.0337809099589548\n",
      "Coefficient: 0.15\n",
      "MSE: 1.0390794544982984\n",
      "RMSE: 1.0193524682357415\n",
      "Coefficient: 0.2\n",
      "MSE: 1.0112096708441796\n",
      "RMSE: 1.0055892157557078\n",
      "Coefficient: 0.25\n",
      "MSE: 0.985093618833202\n",
      "RMSE: 0.9925188254301286\n",
      "Coefficient: 0.3\n",
      "MSE: 0.9607312984653646\n",
      "RMSE: 0.9801690152546981\n",
      "Coefficient: 0.35\n",
      "MSE: 0.9381227097406685\n",
      "RMSE: 0.9685673490990022\n",
      "Coefficient: 0.4\n",
      "MSE: 0.9172678526591115\n",
      "RMSE: 0.9577410154416023\n",
      "Coefficient: 0.45\n",
      "MSE: 0.898166727220696\n",
      "RMSE: 0.94771658591622\n",
      "Coefficient: 0.5\n",
      "MSE: 0.8808193334254255\n",
      "RMSE: 0.9385197565450742\n",
      "Coefficient: 0.55\n",
      "MSE: 0.8652256712732921\n",
      "RMSE: 0.9301750756031318\n",
      "Coefficient: 0.6\n",
      "MSE: 0.8513857407642995\n",
      "RMSE: 0.9227056631257334\n",
      "Coefficient: 0.65\n",
      "MSE: 0.8392995418984506\n",
      "RMSE: 0.916132928072368\n",
      "Coefficient: 0.7\n",
      "MSE: 0.8289670746757478\n",
      "RMSE: 0.9104762900129513\n",
      "Coefficient: 0.75\n",
      "MSE: 0.8203883390961805\n",
      "RMSE: 0.9057529128278752\n",
      "Coefficient: 0.8\n",
      "MSE: 0.8135633351597572\n",
      "RMSE: 0.9019774582326086\n",
      "Coefficient: 0.85\n",
      "MSE: 0.8084920628664694\n",
      "RMSE: 0.8991618668885316\n",
      "Coefficient: 0.9\n",
      "MSE: 0.8051745222163257\n",
      "RMSE: 0.8973151744043593\n",
      "Coefficient: 0.95\n",
      "MSE: 0.8036107132093252\n",
      "RMSE: 0.89644336865712\n",
      "Coefficient: 1.0\n",
      "MSE: 0.8038006358454635\n",
      "RMSE: 0.8965492935948717\n"
     ]
    }
   ],
   "source": [
    "for x in range(0, 21):\n",
    "    data = []\n",
    "    coef1 = x * 5 / 100\n",
    "    coef2 = 1 - coef1\n",
    "    for index, row in ratings_test.iterrows():\n",
    "        user_id = row['userId']\n",
    "        movie_id = row['movieId']\n",
    "        rating = row['rating']\n",
    "        prediction_cf = svd_model_trained.predict(user_id, movie_id, rating, verbose=False).est\n",
    "        prediction_cn = estimate_content_based(user_id, movie_metadata[movie_metadata['id'] == movie_id])[0][1]\n",
    "        prediction = coef1 * prediction_cf + coef2 * prediction_cn\n",
    "        data.append((rating, prediction))\n",
    "    mse, rmse = calculate_mse_and_rmse(data)\n",
    "    del data\n",
    "    print(\"Coefficient:\", coef1)\n",
    "    print(\"MSE:\", mse)\n",
    "    print(\"RMSE:\", rmse)"
   ],
   "metadata": {
    "collapsed": false,
    "ExecuteTime": {
     "end_time": "2024-04-24T16:37:11.324093Z",
     "start_time": "2024-04-24T15:01:34.030875Z"
    }
   },
   "id": "1dde4edb265625c4",
   "execution_count": 24
  },
  {
   "cell_type": "code",
   "outputs": [
    {
     "name": "stdout",
     "output_type": "stream",
     "text": [
      "Coefficient1: 0\n",
      "Coefficient2: 0\n",
      "MSE: 0.8253854453662386\n",
      "RMSE: 0.9085072621428177\n",
      "Coefficient1: 0\n",
      "Coefficient2: 1\n",
      "MSE: 0.8324274195639649\n",
      "RMSE: 0.9123746048438465\n",
      "Coefficient1: 0\n",
      "Coefficient2: 2\n",
      "MSE: 0.8340758031947922\n",
      "RMSE: 0.9132775061254889\n",
      "Coefficient1: 0\n",
      "Coefficient2: 3\n",
      "MSE: 0.8369052723864036\n",
      "RMSE: 0.9148252687734437\n",
      "Coefficient1: 0\n",
      "Coefficient2: 4\n",
      "MSE: 0.8457604954811824\n",
      "RMSE: 0.9196523775216277\n",
      "Coefficient1: 1\n",
      "Coefficient2: 0\n",
      "MSE: 0.8253854453662386\n",
      "RMSE: 0.9085072621428177\n",
      "Coefficient1: 1\n",
      "Coefficient2: 1\n",
      "MSE: 0.8324274195639649\n",
      "RMSE: 0.9123746048438465\n",
      "Coefficient1: 1\n",
      "Coefficient2: 2\n",
      "MSE: 0.8340758031947922\n",
      "RMSE: 0.9132775061254889\n",
      "Coefficient1: 1\n",
      "Coefficient2: 3\n",
      "MSE: 0.8369052723864036\n",
      "RMSE: 0.9148252687734437\n",
      "Coefficient1: 1\n",
      "Coefficient2: 4\n",
      "MSE: 0.8457604954811824\n",
      "RMSE: 0.9196523775216277\n",
      "Coefficient1: 2\n",
      "Coefficient2: 0\n",
      "MSE: 0.8253854453662386\n",
      "RMSE: 0.9085072621428177\n",
      "Coefficient1: 2\n",
      "Coefficient2: 1\n",
      "MSE: 0.8324274195639649\n",
      "RMSE: 0.9123746048438465\n",
      "Coefficient1: 2\n",
      "Coefficient2: 2\n",
      "MSE: 0.8340758031947922\n",
      "RMSE: 0.9132775061254889\n",
      "Coefficient1: 2\n",
      "Coefficient2: 3\n",
      "MSE: 0.8369052723864036\n",
      "RMSE: 0.9148252687734437\n",
      "Coefficient1: 2\n",
      "Coefficient2: 4\n",
      "MSE: 0.8457604954811824\n",
      "RMSE: 0.9196523775216277\n",
      "Coefficient1: 3\n",
      "Coefficient2: 0\n",
      "MSE: 0.8253854453662386\n",
      "RMSE: 0.9085072621428177\n",
      "Coefficient1: 3\n",
      "Coefficient2: 1\n",
      "MSE: 0.8324274195639649\n",
      "RMSE: 0.9123746048438465\n",
      "Coefficient1: 3\n",
      "Coefficient2: 2\n",
      "MSE: 0.8340758031947922\n",
      "RMSE: 0.9132775061254889\n",
      "Coefficient1: 3\n",
      "Coefficient2: 3\n",
      "MSE: 0.8369052723864036\n",
      "RMSE: 0.9148252687734437\n",
      "Coefficient1: 3\n",
      "Coefficient2: 4\n",
      "MSE: 0.8457604954811824\n",
      "RMSE: 0.9196523775216277\n",
      "Coefficient1: 4\n",
      "Coefficient2: 0\n",
      "MSE: 0.8253854453662386\n",
      "RMSE: 0.9085072621428177\n",
      "Coefficient1: 4\n",
      "Coefficient2: 1\n",
      "MSE: 0.8324274195639649\n",
      "RMSE: 0.9123746048438465\n",
      "Coefficient1: 4\n",
      "Coefficient2: 2\n",
      "MSE: 0.8340758031947922\n",
      "RMSE: 0.9132775061254889\n",
      "Coefficient1: 4\n",
      "Coefficient2: 3\n",
      "MSE: 0.8369052723864036\n",
      "RMSE: 0.9148252687734437\n",
      "Coefficient1: 4\n",
      "Coefficient2: 4\n",
      "MSE: 0.8457604954811824\n",
      "RMSE: 0.9196523775216277\n"
     ]
    }
   ],
   "source": [
    "graphData = []\n",
    "for x in range(0, 5):\n",
    "    for y in range(0, 5):\n",
    "        data = []\n",
    "        coef1 = x\n",
    "        coef2 = y\n",
    "        for index, row in ratings_test.iterrows():\n",
    "            user_id = row['userId']\n",
    "            movie_id = row['movieId']\n",
    "            rating = row['rating']\n",
    "            num_user_ratings = len(ratings[ratings['userId'] == user_id])\n",
    "            num_movie_ratings = len(ratings[ratings['movieId'] == movie_id])\n",
    "            if num_user_ratings > coef1 and num_movie_ratings > coef2:\n",
    "                prediction = svd_model_trained.predict(user_id, movie_id, rating, verbose=False).est\n",
    "            else:\n",
    "                prediction = estimate_content_based(user_id, movie_metadata[movie_metadata['id'] == movie_id])[0][1]\n",
    "            data.append((rating, prediction))\n",
    "        mse, rmse = calculate_mse_and_rmse(data)\n",
    "        graphData.append((coef1, coef2, mse, rmse))\n",
    "        del data\n",
    "        print(\"Coefficient1:\", coef1)\n",
    "        print(\"Coefficient2:\", coef2)\n",
    "        print(\"MSE:\", mse)\n",
    "        print(\"RMSE:\", rmse)"
   ],
   "metadata": {
    "collapsed": false,
    "ExecuteTime": {
     "end_time": "2024-04-29T17:17:16.228998Z",
     "start_time": "2024-04-29T17:06:24.146222Z"
    }
   },
   "id": "1c0b97c52bde12be",
   "execution_count": 14
  },
  {
   "cell_type": "code",
   "outputs": [
    {
     "data": {
      "text/plain": "<Figure size 1000x600 with 1 Axes>",
      "image/png": "[encoded data removed]"
     },
     "metadata": {},
     "output_type": "display_data"
    }
   ],
   "source": [
    "coef1_values = [item[0] for item in graphData]\n",
    "coef2_values = [item[1] for item in graphData]\n",
    "rmse_values = [item[2] for item in graphData]\n",
    "\n",
    "# Plotting\n",
    "plt.figure(figsize=(10, 6))\n",
    "plt.plot(coef1_values, rmse_values, marker='o', label='Coefficient1')\n",
    "plt.plot(coef2_values, rmse_values, marker='s', label='Coefficient2')\n",
    "plt.xlabel('Coefficient Values')\n",
    "plt.ylabel('RMSE')\n",
    "plt.title('RMSE vs Coefficient Values')\n",
    "plt.legend()\n",
    "plt.grid(True)\n",
    "plt.show()"
   ],
   "metadata": {
    "collapsed": false,
    "ExecuteTime": {
     "end_time": "2024-04-29T17:17:16.402843Z",
     "start_time": "2024-04-29T17:17:16.225700Z"
    }
   },
   "id": "e5dac0db49a9f2e6",
   "execution_count": 15
  },
  {
   "cell_type": "code",
   "outputs": [],
   "source": [
    "def estimate_augment(user_id, movies):\n",
    "    user_ratings = pd.merge(ratings[ratings['userId'] == user_id],\n",
    "                            movie_metadata[['id', 'title']],\n",
    "                            left_on='movieId',\n",
    "                            right_on='id',\n",
    "                            how='inner')\n",
    "    user_ratings = user_ratings.drop('id', axis=1)\n",
    "    user_ratings['movieId'] = user_ratings['movieId'].astype(int)\n",
    "\n",
    "    reviewed_movie_ids = set(user_ratings['movieId'])\n",
    "    pred_series = []\n",
    "    for movie_id in movies['id']:\n",
    "        if movie_id in reviewed_movie_ids:\n",
    "            continue\n",
    "        simTotal = weightedSum = 0\n",
    "        sim_scores_row = list(enumerate(cosine_sim[indices[movie_id]]))\n",
    "        for reviewed_id in reviewed_movie_ids:\n",
    "            idx = indices[reviewed_id]\n",
    "            if len(sim_scores_row) < 46488:\n",
    "                continue\n",
    "            if type(idx) != np.int64:\n",
    "                continue\n",
    "            sim_score = sim_scores_row[idx]\n",
    "            simTotal += float(sim_score[1])\n",
    "            weightedSum += float(sim_score[1]) * float(user_ratings[user_ratings['movieId'] == reviewed_id]['rating'])\n",
    "        predictedRating = weightedSum / simTotal if simTotal != 0 else 0\n",
    "        predictedRating = (predictedRating + svd_model_trained.predict(user_id, movie_id, rating,\n",
    "                                                                       verbose=False).est) / 2\n",
    "        pred_series.append((movie_id, predictedRating))\n",
    "\n",
    "    pred_series = sorted(pred_series, key=lambda x: x[1], reverse=True)[:10]\n",
    "    return pred_series"
   ],
   "metadata": {
    "collapsed": false,
    "ExecuteTime": {
     "end_time": "2024-04-25T13:31:21.480054Z",
     "start_time": "2024-04-25T13:31:21.478473Z"
    }
   },
   "id": "167d8569baf5717",
   "execution_count": 46
  },
  {
   "cell_type": "code",
   "outputs": [],
   "source": [
    "data = []\n",
    "ratings_test = pd.merge(ratings_test, movie_metadata[['id']], left_on='movieId', right_on='id', how='inner')\n",
    "\n",
    "for index, row in ratings_test.iterrows():\n",
    "    user_id = row['userId']\n",
    "    movie_id = row['movieId']\n",
    "    rating = row['rating']\n",
    "    predicted = estimate_augment(user_id, movie_metadata[movie_metadata['id'] == movie_id])[0][1]\n",
    "    data.append((rating, predicted))"
   ],
   "metadata": {
    "collapsed": false,
    "ExecuteTime": {
     "end_time": "2024-04-25T13:36:16.556742Z",
     "start_time": "2024-04-25T13:31:21.489074Z"
    }
   },
   "id": "749cceef0327338e",
   "execution_count": 47
  },
  {
   "cell_type": "code",
   "outputs": [
    {
     "name": "stdout",
     "output_type": "stream",
     "text": [
      "MSE: 0.8862322669774335\n",
      "RMSE: 0.9413991007948932\n"
     ]
    }
   ],
   "source": [
    "mse, rmse = calculate_mse_and_rmse(data)\n",
    "print(\"MSE:\", mse)\n",
    "print(\"RMSE:\", rmse)"
   ],
   "metadata": {
    "collapsed": false,
    "ExecuteTime": {
     "end_time": "2024-04-25T13:36:16.567305Z",
     "start_time": "2024-04-25T13:36:16.561939Z"
    }
   },
   "id": "d69efc27de6ce59e",
   "execution_count": 48
  },
  {
   "cell_type": "code",
   "outputs": [],
   "source": [
    "def recommend_switching(user_id):\n",
    "    num_user_ratings = len(ratings[ratings['userId'] == user_id])\n",
    "    if num_user_ratings > 7:\n",
    "        return get_recommendations_user(user_id)\n",
    "    else:\n",
    "        return get_recommendations_content(user_id)"
   ],
   "metadata": {
    "collapsed": false,
    "ExecuteTime": {
     "end_time": "2024-05-02T13:03:40.098674Z",
     "start_time": "2024-05-02T13:03:40.087480Z"
    }
   },
   "id": "e07be80144bcecb5",
   "execution_count": 33
  },
  {
   "cell_type": "code",
   "outputs": [
    {
     "name": "stderr",
     "output_type": "stream",
     "text": [
      "/var/folders/p8/ty6b1zbn4tq7l692h6f8ncpw0000gn/T/ipykernel_1754/1085163213.py:2: FutureWarning: Passing 'suffixes' which cause duplicate columns {'id_x'} in the result is deprecated and will raise a MergeError in a future version.\n",
      "  ratings_test = pd.merge(ratings_test, movie_metadata[['id']], left_on='movieId', right_on='id', how='inner')\n"
     ]
    },
    {
     "name": "stdout",
     "output_type": "stream",
     "text": [
      "HitRatio:  0.992412746585736\n",
      "Hit: 654\n",
      "Total:  659\n"
     ]
    }
   ],
   "source": [
    "user_ids = ratings_test['userId'].unique()\n",
    "ratings_test = pd.merge(ratings_test, movie_metadata[['id']], left_on='movieId', right_on='id', how='inner')\n",
    "total, hit = 0, 0\n",
    "for user_id in user_ids:\n",
    "    first_row = recommend_switching(user_id).iloc[0]\n",
    "    predicted_rating = first_row['predicted_rating']\n",
    "    total = total + 1\n",
    "    if predicted_rating > 3.5:\n",
    "        hit = hit + 1\n",
    "print(\"HitRatio: \", hit / total)\n",
    "print(\"Hit:\", hit)\n",
    "print(\"Total: \", total)"
   ],
   "metadata": {
    "collapsed": false,
    "ExecuteTime": {
     "end_time": "2024-05-02T13:09:27.426316Z",
     "start_time": "2024-05-02T13:03:40.534239Z"
    }
   },
   "id": "150d26ecb5bf7d01",
   "execution_count": 34
  },
  {
   "cell_type": "code",
   "outputs": [],
   "source": [
    "def recommend_weighted(user_id):\n",
    "    predictions = []\n",
    "    predictions_cf = get_recommendations_user(user_id)\n",
    "    for index, row in predictions_cf.iterrows():\n",
    "        prediction_cn = estimate_content_based(user_id, movie_metadata[movie_metadata['id'] == row['movieId']])\n",
    "        if len(prediction_cn) != 0:\n",
    "            prediction = pd.DataFrame(columns=['movieId', 'title', 'predicted_rating', 'actual_rating'])\n",
    "            prediction['movieId'] = row['movieId']\n",
    "            prediction['title'] = row['title']\n",
    "            prediction_cn_val = prediction_cn[0][1]\n",
    "            prediction['predicted_rating'] = 0.95 * row['predicted_rating'] + 0.05 * prediction_cn_val\n",
    "            predictions.append(prediction)\n",
    "\n",
    "    return pd.concat(predictions, ignore_index=True).sort_values(by='predicted_rating', ascending=False)"
   ],
   "metadata": {
    "collapsed": false,
    "ExecuteTime": {
     "end_time": "2024-05-02T14:04:33.437018Z",
     "start_time": "2024-05-02T14:04:33.418606Z"
    }
   },
   "id": "b69634f5efbb9b9b",
   "execution_count": 94
  },
  {
   "cell_type": "code",
   "outputs": [
    {
     "name": "stderr",
     "output_type": "stream",
     "text": [
      "/var/folders/p8/ty6b1zbn4tq7l692h6f8ncpw0000gn/T/ipykernel_1754/2099459743.py:2: FutureWarning: Passing 'suffixes' which cause duplicate columns {'id_x'} in the result is deprecated and will raise a MergeError in a future version.\n",
      "  ratings_test = pd.merge(ratings_test, movie_metadata[['id']], left_on='movieId', right_on='id', how='inner')\n"
     ]
    },
    {
     "ename": "KeyboardInterrupt",
     "evalue": "",
     "output_type": "error",
     "traceback": [
      "\u001B[0;31m---------------------------------------------------------------------------\u001B[0m",
      "\u001B[0;31mKeyboardInterrupt\u001B[0m                         Traceback (most recent call last)",
      "Cell \u001B[0;32mIn[96], line 5\u001B[0m\n\u001B[1;32m      3\u001B[0m total, hit \u001B[38;5;241m=\u001B[39m \u001B[38;5;241m0\u001B[39m, \u001B[38;5;241m0\u001B[39m\n\u001B[1;32m      4\u001B[0m \u001B[38;5;28;01mfor\u001B[39;00m user_id \u001B[38;5;129;01min\u001B[39;00m user_ids:\n\u001B[0;32m----> 5\u001B[0m     prediction \u001B[38;5;241m=\u001B[39m \u001B[43mrecommend_weighted\u001B[49m\u001B[43m(\u001B[49m\u001B[43muser_id\u001B[49m\u001B[43m)\u001B[49m\n\u001B[1;32m      6\u001B[0m     \u001B[38;5;28;01mif\u001B[39;00m \u001B[38;5;28mlen\u001B[39m(prediction) \u001B[38;5;241m!=\u001B[39m \u001B[38;5;241m0\u001B[39m:\n\u001B[1;32m      7\u001B[0m         first_row \u001B[38;5;241m=\u001B[39m prediction\u001B[38;5;241m.\u001B[39miloc[\u001B[38;5;241m0\u001B[39m]\n",
      "Cell \u001B[0;32mIn[94], line 5\u001B[0m, in \u001B[0;36mrecommend_weighted\u001B[0;34m(user_id)\u001B[0m\n\u001B[1;32m      3\u001B[0m predictions_cf \u001B[38;5;241m=\u001B[39m get_recommendations_user(user_id)\n\u001B[1;32m      4\u001B[0m \u001B[38;5;28;01mfor\u001B[39;00m index, row \u001B[38;5;129;01min\u001B[39;00m predictions_cf\u001B[38;5;241m.\u001B[39miterrows():\n\u001B[0;32m----> 5\u001B[0m     prediction_cn \u001B[38;5;241m=\u001B[39m \u001B[43mestimate_content_based\u001B[49m\u001B[43m(\u001B[49m\u001B[43muser_id\u001B[49m\u001B[43m,\u001B[49m\u001B[43m \u001B[49m\u001B[43mmovie_metadata\u001B[49m\u001B[43m[\u001B[49m\u001B[43mmovie_metadata\u001B[49m\u001B[43m[\u001B[49m\u001B[38;5;124;43m'\u001B[39;49m\u001B[38;5;124;43mid\u001B[39;49m\u001B[38;5;124;43m'\u001B[39;49m\u001B[43m]\u001B[49m\u001B[43m \u001B[49m\u001B[38;5;241;43m==\u001B[39;49m\u001B[43m \u001B[49m\u001B[43mrow\u001B[49m\u001B[43m[\u001B[49m\u001B[38;5;124;43m'\u001B[39;49m\u001B[38;5;124;43mmovieId\u001B[39;49m\u001B[38;5;124;43m'\u001B[39;49m\u001B[43m]\u001B[49m\u001B[43m]\u001B[49m\u001B[43m)\u001B[49m\n\u001B[1;32m      6\u001B[0m     \u001B[38;5;28;01mif\u001B[39;00m \u001B[38;5;28mlen\u001B[39m(prediction_cn) \u001B[38;5;241m!=\u001B[39m \u001B[38;5;241m0\u001B[39m:\n\u001B[1;32m      7\u001B[0m         prediction \u001B[38;5;241m=\u001B[39m pd\u001B[38;5;241m.\u001B[39mDataFrame(columns\u001B[38;5;241m=\u001B[39m[\u001B[38;5;124m'\u001B[39m\u001B[38;5;124mmovieId\u001B[39m\u001B[38;5;124m'\u001B[39m, \u001B[38;5;124m'\u001B[39m\u001B[38;5;124mtitle\u001B[39m\u001B[38;5;124m'\u001B[39m, \u001B[38;5;124m'\u001B[39m\u001B[38;5;124mpredicted_rating\u001B[39m\u001B[38;5;124m'\u001B[39m, \u001B[38;5;124m'\u001B[39m\u001B[38;5;124mactual_rating\u001B[39m\u001B[38;5;124m'\u001B[39m])\n",
      "Cell \u001B[0;32mIn[81], line 16\u001B[0m, in \u001B[0;36mestimate_content_based\u001B[0;34m(user_id, movies)\u001B[0m\n\u001B[1;32m     14\u001B[0m     \u001B[38;5;28;01mcontinue\u001B[39;00m\n\u001B[1;32m     15\u001B[0m simTotal \u001B[38;5;241m=\u001B[39m weightedSum \u001B[38;5;241m=\u001B[39m \u001B[38;5;241m0\u001B[39m\n\u001B[0;32m---> 16\u001B[0m sim_scores_row \u001B[38;5;241m=\u001B[39m \u001B[38;5;28;43mlist\u001B[39;49m\u001B[43m(\u001B[49m\u001B[38;5;28;43menumerate\u001B[39;49m\u001B[43m(\u001B[49m\u001B[43mcosine_sim\u001B[49m\u001B[43m[\u001B[49m\u001B[43mindices\u001B[49m\u001B[43m[\u001B[49m\u001B[43mmovie_id\u001B[49m\u001B[43m]\u001B[49m\u001B[43m]\u001B[49m\u001B[43m)\u001B[49m\u001B[43m)\u001B[49m\n\u001B[1;32m     17\u001B[0m \u001B[38;5;28;01mfor\u001B[39;00m reviewed_id \u001B[38;5;129;01min\u001B[39;00m reviewed_movie_ids:\n\u001B[1;32m     18\u001B[0m     idx \u001B[38;5;241m=\u001B[39m indices[reviewed_id]\n",
      "\u001B[0;31mKeyboardInterrupt\u001B[0m: "
     ]
    }
   ],
   "source": [
    "user_ids = ratings_test['userId'].unique()\n",
    "ratings_test = pd.merge(ratings_test, movie_metadata[['id']], left_on='movieId', right_on='id', how='inner')\n",
    "total, hit = 0, 0\n",
    "for user_id in user_ids:\n",
    "    prediction = recommend_weighted(user_id)\n",
    "    if len(prediction) != 0:\n",
    "        first_row = prediction.iloc[0]\n",
    "        predicted_rating = first_row['predicted_rating']\n",
    "        total = total + 1\n",
    "        if predicted_rating > 3.5:\n",
    "            hit = hit + 1\n"
   ],
   "metadata": {
    "collapsed": false,
    "ExecuteTime": {
     "end_time": "2024-05-02T15:41:27.105507Z",
     "start_time": "2024-05-02T14:28:02.078116Z"
    }
   },
   "id": "883dead886a7eff4",
   "execution_count": 96
  },
  {
   "cell_type": "code",
   "outputs": [
    {
     "ename": "ZeroDivisionError",
     "evalue": "division by zero",
     "output_type": "error",
     "traceback": [
      "\u001B[0;31m---------------------------------------------------------------------------\u001B[0m",
      "\u001B[0;31mZeroDivisionError\u001B[0m                         Traceback (most recent call last)",
      "Cell \u001B[0;32mIn[97], line 1\u001B[0m\n\u001B[0;32m----> 1\u001B[0m \u001B[38;5;28mprint\u001B[39m(\u001B[38;5;124m\"\u001B[39m\u001B[38;5;124mHitRatio: \u001B[39m\u001B[38;5;124m\"\u001B[39m, \u001B[43mhit\u001B[49m\u001B[43m \u001B[49m\u001B[38;5;241;43m/\u001B[39;49m\u001B[43m \u001B[49m\u001B[43mtotal\u001B[49m)\n\u001B[1;32m      2\u001B[0m \u001B[38;5;28mprint\u001B[39m(\u001B[38;5;124m\"\u001B[39m\u001B[38;5;124mHit:\u001B[39m\u001B[38;5;124m\"\u001B[39m, hit)\n\u001B[1;32m      3\u001B[0m \u001B[38;5;28mprint\u001B[39m(\u001B[38;5;124m\"\u001B[39m\u001B[38;5;124mTotal: \u001B[39m\u001B[38;5;124m\"\u001B[39m, total)\n",
      "\u001B[0;31mZeroDivisionError\u001B[0m: division by zero"
     ]
    }
   ],
   "source": [
    "print(\"HitRatio: \", hit / total)\n",
    "print(\"Hit:\", hit)\n",
    "print(\"Total: \", total)"
   ],
   "metadata": {
    "collapsed": false,
    "ExecuteTime": {
     "end_time": "2024-05-02T15:41:39.587940Z",
     "start_time": "2024-05-02T15:41:39.583218Z"
    }
   },
   "id": "ca0c90b0ac497ecf",
   "execution_count": 97
  },
  {
   "cell_type": "code",
   "outputs": [],
   "source": [],
   "metadata": {
    "collapsed": false
   },
   "id": "aa17ab82a534b42d"
  }
 ],
 "metadata": {
  "kernelspec": {
   "display_name": "Python 3",
   "language": "python",
   "name": "python3"
  },
  "language_info": {
   "codemirror_mode": {
    "name": "ipython",
    "version": 2
   },
   "file_extension": ".py",
   "mimetype": "text/x-python",
   "name": "python",
   "nbconvert_exporter": "python",
   "pygments_lexer": "ipython2",
   "version": "2.7.6"
  }
 },
 "nbformat": 4,
 "nbformat_minor": 5
}

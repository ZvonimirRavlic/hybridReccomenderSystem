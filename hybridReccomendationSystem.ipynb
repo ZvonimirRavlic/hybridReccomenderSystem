{
 "cells": [
  {
   "cell_type": "markdown",
   "source": [
    "# Hybrid recomendation system"
   ],
   "metadata": {
    "collapsed": false
   },
   "id": "441f5f01bec648fe"
  },
  {
   "cell_type": "code",
   "outputs": [],
   "source": [
    "import pandas as pd\n",
    "import numpy as np\n",
    "import matplotlib.pyplot as plt\n",
    "from sklearn.feature_extraction.text import CountVectorizer\n",
    "from sklearn.metrics.pairwise import cosine_similarity\n",
    "from surprise import SVD, Dataset, Reader\n",
    "from surprise.model_selection import train_test_split\n",
    "from evaluation import calculate_mse_and_rmse\n",
    "from converter import to_df"
   ],
   "metadata": {
    "collapsed": false,
    "ExecuteTime": {
     "end_time": "2024-06-06T16:34:49.066715Z",
     "start_time": "2024-06-06T16:34:48.974574Z"
    }
   },
   "id": "bb6d92e90afb932c",
   "execution_count": 14
  },
  {
   "cell_type": "code",
   "outputs": [],
   "source": [
    "ratings = pd.read_csv('data/ratings_small.csv', low_memory=False)\n",
    "ratings = ratings.drop('timestamp', axis=1)\n",
    "df_movies_cnt = pd.DataFrame(ratings.groupby('movieId').size(), columns=['count'])\n",
    "popular_movies = list(set(df_movies_cnt.query('count >= 0').index))\n",
    "movies_filter = ratings.movieId.isin(popular_movies).values\n",
    "\n",
    "df_users_cnt = pd.DataFrame(ratings.groupby('userId').size(), columns=['count'])\n",
    "active_users = list(set(df_users_cnt.query('count >= 0').index))\n",
    "users_filter = ratings.userId.isin(active_users).values\n",
    "\n",
    "ratings = ratings[movies_filter & users_filter]\n",
    "reader = Reader()\n",
    "ratings_by_users = Dataset.load_from_df(ratings[['userId', 'movieId', 'rating']], reader)\n",
    "ratings_train, ratings_test = train_test_split(ratings_by_users, test_size=0.2, random_state=41)"
   ],
   "metadata": {
    "collapsed": false,
    "ExecuteTime": {
     "end_time": "2024-06-06T16:34:49.405674Z",
     "start_time": "2024-06-06T16:34:48.989067Z"
    }
   },
   "id": "5a34b7e021e3fba4",
   "execution_count": 15
  },
  {
   "cell_type": "code",
   "outputs": [],
   "source": [
    "ratings = to_df(ratings_train)\n",
    "test_df = [{'userId': obj[0], 'movieId': obj[1], 'rating': obj[2]} for obj in ratings_test]\n",
    "test_df = pd.DataFrame(test_df)"
   ],
   "metadata": {
    "collapsed": false,
    "ExecuteTime": {
     "end_time": "2024-06-06T16:34:49.518125Z",
     "start_time": "2024-06-06T16:34:49.431324Z"
    }
   },
   "id": "567ce5723a69ec3b",
   "execution_count": 16
  },
  {
   "cell_type": "code",
   "outputs": [
    {
     "data": {
      "text/plain": "   adult                              belongs_to_collection    budget  \\\n0  False  {'id': 10194, 'name': 'Toy Story Collection', ...  30000000   \n1  False                                                NaN  65000000   \n2  False  {'id': 119050, 'name': 'Grumpy Old Men Collect...         0   \n3  False                                                NaN  16000000   \n4  False  {'id': 96871, 'name': 'Father of the Bride Col...         0   \n\n                               genres                              homepage  \\\n0   ['animation', 'comedy', 'family']  http://toystory.disney.com/toy-story   \n1  ['adventure', 'fantasy', 'family']                                   NaN   \n2               ['romance', 'comedy']                                   NaN   \n3      ['comedy', 'drama', 'romance']                                   NaN   \n4                          ['comedy']                                   NaN   \n\n      id    imdb_id original_language               original_title  \\\n0    862  tt0114709                en                    Toy Story   \n1   8844  tt0113497                en                      Jumanji   \n2  15602  tt0113228                en             Grumpier Old Men   \n3  31357  tt0114885                en            Waiting to Exhale   \n4  11862  tt0113041                en  Father of the Bride Part II   \n\n                                            overview  ...  \\\n0  Led by Woody, Andy's toys live happily in his ...  ...   \n1  When siblings Judy and Peter discover an encha...  ...   \n2  A family wedding reignites the ancient feud be...  ...   \n3  Cheated on, mistreated and stepped on, the wom...  ...   \n4  Just when George Banks has recovered from his ...  ...   \n\n                                             tagline  \\\n0                                                NaN   \n1          Roll the dice and unleash the excitement!   \n2  Still Yelling. Still Fighting. Still Ready for...   \n3  Friends are the people who let you be yourself...   \n4  Just When His World Is Back To Normal... He's ...   \n\n                         title  video vote_average vote_count  \\\n0                    Toy Story  False          7.7     5415.0   \n1                      Jumanji  False          6.9     2413.0   \n2             Grumpier Old Men  False          6.5       92.0   \n3            Waiting to Exhale  False          6.1       34.0   \n4  Father of the Bride Part II  False          5.7      173.0   \n\n                                                cast  \\\n0  ['tomhanks', 'timallen', 'donrickles', 'jimvar...   \n1  ['robinwilliams', 'jonathanhyde', 'kirstenduns...   \n2  ['waltermatthau', 'jacklemmon', 'ann-margret',...   \n3  ['whitneyhouston', 'angelabassett', 'lorettade...   \n4  ['stevemartin', 'dianekeaton', 'martinshort', ...   \n\n                                                crew  \\\n0  [{'credit_id': '52fe4284c3a36847f8024f49', 'de...   \n1  [{'credit_id': '52fe44bfc3a36847f80a7cd1', 'de...   \n2  [{'credit_id': '52fe466a9251416c75077a89', 'de...   \n3  [{'credit_id': '52fe44779251416c91011acb', 'de...   \n4  [{'credit_id': '52fe44959251416c75039ed7', 'de...   \n\n                                            keywords        director  \\\n0  ['jealousy', 'toy', 'boy', 'friendship', 'frie...    johnlasseter   \n1  ['boardgame', 'disappearance', \"basedonchildre...     joejohnston   \n2  ['fishing', 'bestfriend', 'duringcreditsstinge...    howarddeutch   \n3  ['basedonnovel', 'interracialrelationship', 's...  forestwhitaker   \n4  ['baby', 'midlifecrisis', 'confidence', 'aging...    charlesshyer   \n\n                                                soup  \n0  jealousy toy boy friendship friends tomhanks t...  \n1  boardgame disappearance basedonchildren'sbook ...  \n2  fishing bestfriend duringcreditsstinger oldmen...  \n3  basedonnovel interracialrelationship singlemot...  \n4  baby midlifecrisis confidence aging daughter s...  \n\n[5 rows x 29 columns]",
      "text/html": "<div>\n<style scoped>\n    .dataframe tbody tr th:only-of-type {\n        vertical-align: middle;\n    }\n\n    .dataframe tbody tr th {\n        vertical-align: top;\n    }\n\n    .dataframe thead th {\n        text-align: right;\n    }\n</style>\n<table border=\"1\" class=\"dataframe\">\n  <thead>\n    <tr style=\"text-align: right;\">\n      <th></th>\n      <th>adult</th>\n      <th>belongs_to_collection</th>\n      <th>budget</th>\n      <th>genres</th>\n      <th>homepage</th>\n      <th>id</th>\n      <th>imdb_id</th>\n      <th>original_language</th>\n      <th>original_title</th>\n      <th>overview</th>\n      <th>...</th>\n      <th>tagline</th>\n      <th>title</th>\n      <th>video</th>\n      <th>vote_average</th>\n      <th>vote_count</th>\n      <th>cast</th>\n      <th>crew</th>\n      <th>keywords</th>\n      <th>director</th>\n      <th>soup</th>\n    </tr>\n  </thead>\n  <tbody>\n    <tr>\n      <th>0</th>\n      <td>False</td>\n      <td>{'id': 10194, 'name': 'Toy Story Collection', ...</td>\n      <td>30000000</td>\n      <td>['animation', 'comedy', 'family']</td>\n      <td>http://toystory.disney.com/toy-story</td>\n      <td>862</td>\n      <td>tt0114709</td>\n      <td>en</td>\n      <td>Toy Story</td>\n      <td>Led by Woody, Andy's toys live happily in his ...</td>\n      <td>...</td>\n      <td>NaN</td>\n      <td>Toy Story</td>\n      <td>False</td>\n      <td>7.7</td>\n      <td>5415.0</td>\n      <td>['tomhanks', 'timallen', 'donrickles', 'jimvar...</td>\n      <td>[{'credit_id': '52fe4284c3a36847f8024f49', 'de...</td>\n      <td>['jealousy', 'toy', 'boy', 'friendship', 'frie...</td>\n      <td>johnlasseter</td>\n      <td>jealousy toy boy friendship friends tomhanks t...</td>\n    </tr>\n    <tr>\n      <th>1</th>\n      <td>False</td>\n      <td>NaN</td>\n      <td>65000000</td>\n      <td>['adventure', 'fantasy', 'family']</td>\n      <td>NaN</td>\n      <td>8844</td>\n      <td>tt0113497</td>\n      <td>en</td>\n      <td>Jumanji</td>\n      <td>When siblings Judy and Peter discover an encha...</td>\n      <td>...</td>\n      <td>Roll the dice and unleash the excitement!</td>\n      <td>Jumanji</td>\n      <td>False</td>\n      <td>6.9</td>\n      <td>2413.0</td>\n      <td>['robinwilliams', 'jonathanhyde', 'kirstenduns...</td>\n      <td>[{'credit_id': '52fe44bfc3a36847f80a7cd1', 'de...</td>\n      <td>['boardgame', 'disappearance', \"basedonchildre...</td>\n      <td>joejohnston</td>\n      <td>boardgame disappearance basedonchildren'sbook ...</td>\n    </tr>\n    <tr>\n      <th>2</th>\n      <td>False</td>\n      <td>{'id': 119050, 'name': 'Grumpy Old Men Collect...</td>\n      <td>0</td>\n      <td>['romance', 'comedy']</td>\n      <td>NaN</td>\n      <td>15602</td>\n      <td>tt0113228</td>\n      <td>en</td>\n      <td>Grumpier Old Men</td>\n      <td>A family wedding reignites the ancient feud be...</td>\n      <td>...</td>\n      <td>Still Yelling. Still Fighting. Still Ready for...</td>\n      <td>Grumpier Old Men</td>\n      <td>False</td>\n      <td>6.5</td>\n      <td>92.0</td>\n      <td>['waltermatthau', 'jacklemmon', 'ann-margret',...</td>\n      <td>[{'credit_id': '52fe466a9251416c75077a89', 'de...</td>\n      <td>['fishing', 'bestfriend', 'duringcreditsstinge...</td>\n      <td>howarddeutch</td>\n      <td>fishing bestfriend duringcreditsstinger oldmen...</td>\n    </tr>\n    <tr>\n      <th>3</th>\n      <td>False</td>\n      <td>NaN</td>\n      <td>16000000</td>\n      <td>['comedy', 'drama', 'romance']</td>\n      <td>NaN</td>\n      <td>31357</td>\n      <td>tt0114885</td>\n      <td>en</td>\n      <td>Waiting to Exhale</td>\n      <td>Cheated on, mistreated and stepped on, the wom...</td>\n      <td>...</td>\n      <td>Friends are the people who let you be yourself...</td>\n      <td>Waiting to Exhale</td>\n      <td>False</td>\n      <td>6.1</td>\n      <td>34.0</td>\n      <td>['whitneyhouston', 'angelabassett', 'lorettade...</td>\n      <td>[{'credit_id': '52fe44779251416c91011acb', 'de...</td>\n      <td>['basedonnovel', 'interracialrelationship', 's...</td>\n      <td>forestwhitaker</td>\n      <td>basedonnovel interracialrelationship singlemot...</td>\n    </tr>\n    <tr>\n      <th>4</th>\n      <td>False</td>\n      <td>{'id': 96871, 'name': 'Father of the Bride Col...</td>\n      <td>0</td>\n      <td>['comedy']</td>\n      <td>NaN</td>\n      <td>11862</td>\n      <td>tt0113041</td>\n      <td>en</td>\n      <td>Father of the Bride Part II</td>\n      <td>Just when George Banks has recovered from his ...</td>\n      <td>...</td>\n      <td>Just When His World Is Back To Normal... He's ...</td>\n      <td>Father of the Bride Part II</td>\n      <td>False</td>\n      <td>5.7</td>\n      <td>173.0</td>\n      <td>['stevemartin', 'dianekeaton', 'martinshort', ...</td>\n      <td>[{'credit_id': '52fe44959251416c75039ed7', 'de...</td>\n      <td>['baby', 'midlifecrisis', 'confidence', 'aging...</td>\n      <td>charlesshyer</td>\n      <td>baby midlifecrisis confidence aging daughter s...</td>\n    </tr>\n  </tbody>\n</table>\n<p>5 rows × 29 columns</p>\n</div>"
     },
     "execution_count": 17,
     "metadata": {},
     "output_type": "execute_result"
    }
   ],
   "source": [
    "movie_metadata = pd.read_csv(\"data/movie_metadata_soup.csv\", low_memory=False)\n",
    "movie_metadata.head()"
   ],
   "metadata": {
    "collapsed": false,
    "ExecuteTime": {
     "end_time": "2024-06-06T16:34:50.851018Z",
     "start_time": "2024-06-06T16:34:49.519647Z"
    }
   },
   "id": "399207b6ee3125e",
   "execution_count": 17
  },
  {
   "cell_type": "code",
   "outputs": [
    {
     "data": {
      "text/plain": "(46488, 102487)"
     },
     "execution_count": 18,
     "metadata": {},
     "output_type": "execute_result"
    }
   ],
   "source": [
    "count = CountVectorizer(stop_words='english')\n",
    "count_matrix = count.fit_transform(movie_metadata['soup'])\n",
    "count_matrix.shape"
   ],
   "metadata": {
    "collapsed": false,
    "ExecuteTime": {
     "end_time": "2024-06-06T16:34:51.485434Z",
     "start_time": "2024-06-06T16:34:50.877780Z"
    }
   },
   "id": "2e78763bd02aec1e",
   "execution_count": 18
  },
  {
   "cell_type": "code",
   "outputs": [
    {
     "data": {
      "text/plain": "(46488, 46488)"
     },
     "execution_count": 19,
     "metadata": {},
     "output_type": "execute_result"
    }
   ],
   "source": [
    "cosine_sim = cosine_similarity(count_matrix, count_matrix)\n",
    "cosine_sim.shape"
   ],
   "metadata": {
    "collapsed": false,
    "ExecuteTime": {
     "end_time": "2024-06-06T16:35:18.745070Z",
     "start_time": "2024-06-06T16:34:51.477193Z"
    }
   },
   "id": "8a56ece420dd8953",
   "execution_count": 19
  },
  {
   "cell_type": "code",
   "outputs": [],
   "source": [
    "indices = pd.Series(movie_metadata.index, index=movie_metadata['id'])\n",
    "indices = indices.sort_values(ascending=False)"
   ],
   "metadata": {
    "collapsed": false,
    "ExecuteTime": {
     "end_time": "2024-06-06T16:35:19.041422Z",
     "start_time": "2024-06-06T16:35:18.711915Z"
    }
   },
   "id": "c63bc5c55135d6f2",
   "execution_count": 20
  },
  {
   "cell_type": "code",
   "outputs": [],
   "source": [
    "def estimate_content_based(user_id, movies):\n",
    "    user_ratings = pd.merge(ratings[ratings['userId'] == user_id],\n",
    "                            movie_metadata[['id', 'title']],\n",
    "                            left_on='movieId',\n",
    "                            right_on='id',\n",
    "                            how='inner')\n",
    "    user_ratings = user_ratings.drop('id', axis=1)\n",
    "    user_ratings['movieId'] = user_ratings['movieId'].astype(int)\n",
    "\n",
    "    reviewed_movie_ids = set(user_ratings['movieId'])\n",
    "    pred_series = []\n",
    "    for movie_id in movies['id']:\n",
    "        if movie_id in reviewed_movie_ids:\n",
    "            continue\n",
    "        simTotal = weightedSum = 0\n",
    "        sim_scores_row = list(enumerate(cosine_sim[indices[movie_id]]))\n",
    "        for reviewed_id in reviewed_movie_ids:\n",
    "            idx = indices[reviewed_id]\n",
    "            if len(sim_scores_row) < 46488:\n",
    "                continue\n",
    "            if type(idx) != np.int64:\n",
    "                continue\n",
    "            sim_score = sim_scores_row[idx]\n",
    "            simTotal += float(sim_score[1])\n",
    "            weightedSum += float(sim_score[1]) * float(user_ratings[user_ratings['movieId'] == reviewed_id]['rating'])\n",
    "        predictedRating = weightedSum / simTotal if simTotal != 0 else 0\n",
    "        pred_series.append((movie_id, predictedRating))\n",
    "\n",
    "    pred_series = sorted(pred_series, key=lambda x: x[1], reverse=True)[:10]\n",
    "    return pred_series"
   ],
   "metadata": {
    "collapsed": false,
    "ExecuteTime": {
     "end_time": "2024-06-06T16:35:19.103192Z",
     "start_time": "2024-06-06T16:35:18.807658Z"
    }
   },
   "id": "fb95fec8ff877013",
   "execution_count": 21
  },
  {
   "cell_type": "code",
   "outputs": [],
   "source": [
    "def get_recommendations_single_movie_content(id, rating, cosine_sim=cosine_sim):\n",
    "    idx = indices[id]\n",
    "    sim_scores = list(enumerate(cosine_sim[idx]))\n",
    "    sim_scores = [(i, score * rating) for i, score in sim_scores]\n",
    "    sim_scores = sorted(sim_scores, key=lambda x: x[1].any(), reverse=True)\n",
    "    sim_scores = sim_scores[1:11]\n",
    "    movie_indices = [i[0] for i in sim_scores]\n",
    "    movie_metadata1 = movie_metadata[['id', 'title']].iloc[movie_indices]\n",
    "    sim_scores_values = [i[1] for i in sim_scores]\n",
    "    movie_metadata1['similarity_score'] = sim_scores_values\n",
    "    return movie_metadata1"
   ],
   "metadata": {
    "collapsed": false,
    "ExecuteTime": {
     "end_time": "2024-06-06T16:35:19.104976Z",
     "start_time": "2024-06-06T16:35:18.815620Z"
    }
   },
   "id": "2d507f6430b78472",
   "execution_count": 22
  },
  {
   "cell_type": "code",
   "outputs": [],
   "source": [
    "def get_recommendations_content(user_id):\n",
    "    pred_series = []\n",
    "    user_ratings = ratings.loc[ratings['userId'] == user_id]\n",
    "    merged_ratings = pd.merge(user_ratings, movie_metadata[['id']], left_on='movieId', right_on='id', how='inner')\n",
    "    top_10_user_ratings = merged_ratings.sort_values(by='rating', ascending=False).head(10)\n",
    "    top_10_user_ratings['movieId'] = top_10_user_ratings['movieId'].astype(int)\n",
    "    top_10_movie_ids = top_10_user_ratings[['movieId', 'rating']]\n",
    "    for index, row in top_10_movie_ids.iterrows():\n",
    "        movie_id = row['movieId']\n",
    "        rating = row['rating']\n",
    "        pred_series.append(get_recommendations_single_movie_content(movie_id, rating))\n",
    "    df = pd.concat(pred_series)\n",
    "    df = df.drop_duplicates(subset=['id'])\n",
    "    df = df[pd.to_numeric(df['similarity_score'], errors='coerce').notnull()]\n",
    "    df = df.sort_values(by='similarity_score', ascending=False)\n",
    "    return pd.merge(pd.DataFrame(estimate_content_based(user_id, df),\n",
    "                                 columns=['id', 'predicted_rating']), movie_metadata[['id', 'title']], on='id',\n",
    "                    how='inner')"
   ],
   "metadata": {
    "collapsed": false,
    "ExecuteTime": {
     "end_time": "2024-06-06T16:35:19.106065Z",
     "start_time": "2024-06-06T16:35:18.823431Z"
    }
   },
   "id": "909f8d77770e7248",
   "execution_count": 23
  },
  {
   "cell_type": "code",
   "outputs": [
    {
     "data": {
      "text/plain": "   userId  movieId  rating   id\n0     472      750     5.0  750\n1     575      750     5.0  750\n2     118      750     5.0  750\n3     520      750     4.5  750\n4     549      750     5.0  750",
      "text/html": "<div>\n<style scoped>\n    .dataframe tbody tr th:only-of-type {\n        vertical-align: middle;\n    }\n\n    .dataframe tbody tr th {\n        vertical-align: top;\n    }\n\n    .dataframe thead th {\n        text-align: right;\n    }\n</style>\n<table border=\"1\" class=\"dataframe\">\n  <thead>\n    <tr style=\"text-align: right;\">\n      <th></th>\n      <th>userId</th>\n      <th>movieId</th>\n      <th>rating</th>\n      <th>id</th>\n    </tr>\n  </thead>\n  <tbody>\n    <tr>\n      <th>0</th>\n      <td>472</td>\n      <td>750</td>\n      <td>5.0</td>\n      <td>750</td>\n    </tr>\n    <tr>\n      <th>1</th>\n      <td>575</td>\n      <td>750</td>\n      <td>5.0</td>\n      <td>750</td>\n    </tr>\n    <tr>\n      <th>2</th>\n      <td>118</td>\n      <td>750</td>\n      <td>5.0</td>\n      <td>750</td>\n    </tr>\n    <tr>\n      <th>3</th>\n      <td>520</td>\n      <td>750</td>\n      <td>4.5</td>\n      <td>750</td>\n    </tr>\n    <tr>\n      <th>4</th>\n      <td>549</td>\n      <td>750</td>\n      <td>5.0</td>\n      <td>750</td>\n    </tr>\n  </tbody>\n</table>\n</div>"
     },
     "execution_count": 24,
     "metadata": {},
     "output_type": "execute_result"
    }
   ],
   "source": [
    "ratings_test = pd.merge(test_df, movie_metadata[['id']], left_on='movieId', right_on='id', how='inner')\n",
    "ratings_test.head()"
   ],
   "metadata": {
    "collapsed": false,
    "ExecuteTime": {
     "end_time": "2024-06-06T16:35:19.147665Z",
     "start_time": "2024-06-06T16:35:18.837737Z"
    }
   },
   "id": "596d82a61479dde3",
   "execution_count": 24
  },
  {
   "cell_type": "code",
   "outputs": [],
   "source": [
    "svd_model = SVD()\n",
    "svd_model_trained = svd_model.fit(ratings_train)"
   ],
   "metadata": {
    "collapsed": false,
    "ExecuteTime": {
     "end_time": "2024-06-06T16:35:19.628669Z",
     "start_time": "2024-06-06T16:35:18.922234Z"
    }
   },
   "id": "900465a16537eb75",
   "execution_count": 25
  },
  {
   "cell_type": "code",
   "outputs": [],
   "source": [
    "def get_recommendations_user(user_id):\n",
    "    pred_series = []\n",
    "    users_ratings = ratings[ratings['userId'] == user_id]\n",
    "    for movie_id, name in zip(movie_metadata.index, movie_metadata['title']):\n",
    "        rating_real = ratings.query(f'movieId == {movie_id}')['rating'].values[0] if movie_id in users_ratings[\n",
    "            'movieId'].values else 0\n",
    "        rating_pred = svd_model_trained.predict(user_id, movie_id, rating_real, verbose=False)\n",
    "        pred_series.append([movie_id, name, rating_pred.est, rating_real])\n",
    "\n",
    "    df_recommendations = pd.DataFrame(pred_series, columns=['movieId', 'title', 'predicted_rating', 'actual_rating'])\n",
    "    return df_recommendations.sort_values(by='predicted_rating', ascending=False)"
   ],
   "metadata": {
    "collapsed": false,
    "ExecuteTime": {
     "end_time": "2024-06-06T16:35:19.630945Z",
     "start_time": "2024-06-06T16:35:19.626298Z"
    }
   },
   "id": "eb4b7a5f9dec39fe",
   "execution_count": 26
  },
  {
   "cell_type": "code",
   "outputs": [],
   "source": [
    "def predict_switching(user_id, movie_id, rating):\n",
    "    num_user_ratings = len(ratings[ratings['userId'] == user_id])\n",
    "    num_movie_ratings = len(ratings[ratings['movieId'] == movie_id])\n",
    "    if num_user_ratings > 5 and num_movie_ratings > 30:\n",
    "        return svd_model_trained.predict(user_id, movie_id, rating, verbose=False).est\n",
    "    else:\n",
    "        return estimate_content_based(user_id, movie_metadata[movie_metadata['id'] == movie_id])[0][1]\n",
    "\n",
    "\n",
    "data = []\n",
    "for index, row in ratings_test.iterrows():\n",
    "    user_id = row['userId']\n",
    "    movie_id = row['movieId']\n",
    "    rating = row['rating']\n",
    "    predicted = predict_switching(user_id, movie_id, rating)\n",
    "    data.append((rating, predicted))\n"
   ],
   "metadata": {
    "collapsed": false,
    "ExecuteTime": {
     "end_time": "2024-06-06T16:37:46.305849Z",
     "start_time": "2024-06-06T16:35:19.627682Z"
    }
   },
   "id": "118eb5162c2d015d",
   "execution_count": 27
  },
  {
   "cell_type": "code",
   "outputs": [
    {
     "name": "stdout",
     "output_type": "stream",
     "text": [
      "MSE: 0.9150904342091895\n",
      "RMSE: 0.9566035930358977\n"
     ]
    }
   ],
   "source": [
    "mse, rmse = calculate_mse_and_rmse(data)\n",
    "print(\"MSE:\", mse)\n",
    "print(\"RMSE:\", rmse)"
   ],
   "metadata": {
    "collapsed": false,
    "ExecuteTime": {
     "end_time": "2024-06-06T16:37:46.315554Z",
     "start_time": "2024-06-06T16:37:46.309736Z"
    }
   },
   "id": "c3012dfdbf00185f",
   "execution_count": 28
  },
  {
   "cell_type": "code",
   "outputs": [],
   "source": [
    "def predict_weighted(user_id, movie_id, rating):\n",
    "    prediction_cf = svd_model_trained.predict(user_id, movie_id, rating, verbose=False).est\n",
    "    prediction_cn = estimate_content_based(user_id, movie_metadata[movie_metadata['id'] == movie_id])[0][1]\n",
    "    prediction = 0.6 * prediction_cf + 0.4 * prediction_cn\n",
    "    return prediction\n",
    "\n",
    "\n",
    "data = []\n",
    "for index, row in ratings_test.iterrows():\n",
    "    user_id = row['userId']\n",
    "    movie_id = row['movieId']\n",
    "    rating = row['rating']\n",
    "    predicted = predict_weighted(user_id, movie_id, rating)\n",
    "    data.append((rating, predicted))"
   ],
   "metadata": {
    "collapsed": false,
    "ExecuteTime": {
     "end_time": "2024-06-06T16:42:42.135342Z",
     "start_time": "2024-06-06T16:37:46.315258Z"
    }
   },
   "id": "d4f1fd9a2396acda",
   "execution_count": 29
  },
  {
   "cell_type": "code",
   "outputs": [
    {
     "name": "stdout",
     "output_type": "stream",
     "text": [
      "MSE: 0.8296591921967096\n",
      "RMSE: 0.9108562961283792\n"
     ]
    }
   ],
   "source": [
    "mse, rmse = calculate_mse_and_rmse(data)\n",
    "print(\"MSE:\", mse)\n",
    "print(\"RMSE:\", rmse)"
   ],
   "metadata": {
    "collapsed": false,
    "ExecuteTime": {
     "end_time": "2024-06-06T16:42:42.142800Z",
     "start_time": "2024-06-06T16:42:42.135489Z"
    }
   },
   "id": "b9906d67d7945123",
   "execution_count": 30
  },
  {
   "cell_type": "code",
   "outputs": [
    {
     "name": "stdout",
     "output_type": "stream",
     "text": [
      "Coefficient: 0.0\n",
      "MSE: 1.088748690822297\n",
      "RMSE: 1.0434312103930459\n",
      "Coefficient: 0.05\n",
      "MSE: 1.0579048905533162\n",
      "RMSE: 1.0285450357438493\n",
      "Coefficient: 0.1\n",
      "MSE: 1.02874345550558\n",
      "RMSE: 1.014269912550688\n",
      "Coefficient: 0.15\n",
      "MSE: 1.0012643856790884\n",
      "RMSE: 1.0006319931318848\n",
      "Coefficient: 0.2\n",
      "MSE: 0.9754676810738344\n",
      "RMSE: 0.9876576740317641\n",
      "Coefficient: 0.25\n",
      "MSE: 0.9513533416898385\n",
      "RMSE: 0.9753734370433914\n",
      "Coefficient: 0.3\n",
      "MSE: 0.9289213675270815\n",
      "RMSE: 0.9638056689639678\n",
      "Coefficient: 0.35\n",
      "MSE: 0.9081717585855706\n",
      "RMSE: 0.9529804607574967\n",
      "Coefficient: 0.4\n",
      "MSE: 0.8891045148653062\n",
      "RMSE: 0.9429233875905858\n",
      "Coefficient: 0.45\n",
      "MSE: 0.871719636366289\n",
      "RMSE: 0.9336592720935668\n",
      "Coefficient: 0.5\n",
      "MSE: 0.8560171230885184\n",
      "RMSE: 0.9252119341472625\n",
      "Coefficient: 0.55\n",
      "MSE: 0.8419969750319917\n",
      "RMSE: 0.917603931460623\n",
      "Coefficient: 0.6\n",
      "MSE: 0.8296591921967096\n",
      "RMSE: 0.9108562961283792\n",
      "Coefficient: 0.65\n",
      "MSE: 0.8190037745826749\n",
      "RMSE: 0.9049882731741196\n",
      "Coefficient: 0.7\n",
      "MSE: 0.8100307221898845\n",
      "RMSE: 0.9000170677214319\n",
      "Coefficient: 0.75\n",
      "MSE: 0.8027400350183453\n",
      "RMSE: 0.8959576078243576\n",
      "Coefficient: 0.8\n",
      "MSE: 0.7971317130680411\n",
      "RMSE: 0.8928223300679935\n",
      "Coefficient: 0.85\n",
      "MSE: 0.793205756338996\n",
      "RMSE: 0.8906209947777989\n",
      "Coefficient: 0.9\n",
      "MSE: 0.7909621648311891\n",
      "RMSE: 0.8893605370327543\n",
      "Coefficient: 0.95\n",
      "MSE: 0.7904009385446303\n",
      "RMSE: 0.8890449586745489\n",
      "Coefficient: 1.0\n",
      "MSE: 0.7915220774793131\n",
      "RMSE: 0.8896752651834899\n"
     ]
    }
   ],
   "source": [
    "for x in range(0, 21):\n",
    "    data = []\n",
    "    coef1 = x * 5 / 100\n",
    "    coef2 = 1 - coef1\n",
    "    for index, row in ratings_test.iterrows():\n",
    "        user_id = row['userId']\n",
    "        movie_id = row['movieId']\n",
    "        rating = row['rating']\n",
    "        prediction_cf = svd_model_trained.predict(user_id, movie_id, rating, verbose=False).est\n",
    "        prediction_cn = estimate_content_based(user_id, movie_metadata[movie_metadata['id'] == movie_id])[0][1]\n",
    "        prediction = coef1 * prediction_cf + coef2 * prediction_cn\n",
    "        data.append((rating, prediction))\n",
    "    mse, rmse = calculate_mse_and_rmse(data)\n",
    "    del data\n",
    "    print(\"Coefficient:\", coef1)\n",
    "    print(\"MSE:\", mse)\n",
    "    print(\"RMSE:\", rmse)"
   ],
   "metadata": {
    "collapsed": false,
    "ExecuteTime": {
     "end_time": "2024-06-06T18:22:06.978229Z",
     "start_time": "2024-06-06T16:42:42.146245Z"
    }
   },
   "id": "1dde4edb265625c4",
   "execution_count": 31
  },
  {
   "cell_type": "code",
   "outputs": [
    {
     "name": "stdout",
     "output_type": "stream",
     "text": [
      "Coefficient1: 0\n",
      "Coefficient2: 0\n",
      "MSE: 0.7963139281453679\n",
      "RMSE: 0.8923642351334841\n",
      "Coefficient1: 0\n",
      "Coefficient2: 1\n",
      "MSE: 0.8025989655925323\n",
      "RMSE: 0.8958788788628361\n",
      "Coefficient1: 0\n",
      "Coefficient2: 2\n",
      "MSE: 0.8161578195048276\n",
      "RMSE: 0.9034145335917657\n",
      "Coefficient1: 0\n",
      "Coefficient2: 3\n",
      "MSE: 0.8234650466932673\n",
      "RMSE: 0.9074497488529418\n",
      "Coefficient1: 0\n",
      "Coefficient2: 4\n",
      "MSE: 0.8259217151516115\n",
      "RMSE: 0.9088023520830101\n",
      "Coefficient1: 1\n",
      "Coefficient2: 0\n",
      "MSE: 0.7963139281453679\n",
      "RMSE: 0.8923642351334841\n",
      "Coefficient1: 1\n",
      "Coefficient2: 1\n",
      "MSE: 0.8025989655925323\n",
      "RMSE: 0.8958788788628361\n",
      "Coefficient1: 1\n",
      "Coefficient2: 2\n",
      "MSE: 0.8161578195048276\n",
      "RMSE: 0.9034145335917657\n",
      "Coefficient1: 1\n",
      "Coefficient2: 3\n",
      "MSE: 0.8234650466932673\n",
      "RMSE: 0.9074497488529418\n",
      "Coefficient1: 1\n",
      "Coefficient2: 4\n",
      "MSE: 0.8259217151516115\n",
      "RMSE: 0.9088023520830101\n",
      "Coefficient1: 2\n",
      "Coefficient2: 0\n",
      "MSE: 0.7963139281453679\n",
      "RMSE: 0.8923642351334841\n",
      "Coefficient1: 2\n",
      "Coefficient2: 1\n",
      "MSE: 0.8025989655925323\n",
      "RMSE: 0.8958788788628361\n",
      "Coefficient1: 2\n",
      "Coefficient2: 2\n",
      "MSE: 0.8161578195048276\n",
      "RMSE: 0.9034145335917657\n",
      "Coefficient1: 2\n",
      "Coefficient2: 3\n",
      "MSE: 0.8234650466932673\n",
      "RMSE: 0.9074497488529418\n",
      "Coefficient1: 2\n",
      "Coefficient2: 4\n",
      "MSE: 0.8259217151516115\n",
      "RMSE: 0.9088023520830101\n",
      "Coefficient1: 3\n",
      "Coefficient2: 0\n",
      "MSE: 0.7963139281453679\n",
      "RMSE: 0.8923642351334841\n",
      "Coefficient1: 3\n",
      "Coefficient2: 1\n",
      "MSE: 0.8025989655925323\n",
      "RMSE: 0.8958788788628361\n",
      "Coefficient1: 3\n",
      "Coefficient2: 2\n",
      "MSE: 0.8161578195048276\n",
      "RMSE: 0.9034145335917657\n",
      "Coefficient1: 3\n",
      "Coefficient2: 3\n",
      "MSE: 0.8234650466932673\n",
      "RMSE: 0.9074497488529418\n",
      "Coefficient1: 3\n",
      "Coefficient2: 4\n",
      "MSE: 0.8259217151516115\n",
      "RMSE: 0.9088023520830101\n",
      "Coefficient1: 4\n",
      "Coefficient2: 0\n",
      "MSE: 0.7963139281453679\n",
      "RMSE: 0.8923642351334841\n",
      "Coefficient1: 4\n",
      "Coefficient2: 1\n",
      "MSE: 0.8025989655925323\n",
      "RMSE: 0.8958788788628361\n",
      "Coefficient1: 4\n",
      "Coefficient2: 2\n",
      "MSE: 0.8161578195048276\n",
      "RMSE: 0.9034145335917657\n",
      "Coefficient1: 4\n",
      "Coefficient2: 3\n",
      "MSE: 0.8234650466932673\n",
      "RMSE: 0.9074497488529418\n",
      "Coefficient1: 4\n",
      "Coefficient2: 4\n",
      "MSE: 0.8259217151516115\n",
      "RMSE: 0.9088023520830101\n"
     ]
    }
   ],
   "source": [
    "graphData = []\n",
    "for x in range(0, 5):\n",
    "    for y in range(0, 5):\n",
    "        data = []\n",
    "        coef1 = x\n",
    "        coef2 = y\n",
    "        for index, row in ratings_test.iterrows():\n",
    "            user_id = row['userId']\n",
    "            movie_id = row['movieId']\n",
    "            rating = row['rating']\n",
    "            num_user_ratings = len(ratings[ratings['userId'] == user_id])\n",
    "            num_movie_ratings = len(ratings[ratings['movieId'] == movie_id])\n",
    "            if num_user_ratings > coef1 and num_movie_ratings > coef2:\n",
    "                prediction = svd_model_trained.predict(user_id, movie_id, rating, verbose=False).est\n",
    "            else:\n",
    "                prediction = estimate_content_based(user_id, movie_metadata[movie_metadata['id'] == movie_id])[0][1]\n",
    "            data.append((rating, prediction))\n",
    "        mse, rmse = calculate_mse_and_rmse(data)\n",
    "        graphData.append((coef1, coef2, mse, rmse))\n",
    "        del data\n",
    "        print(\"Coefficient1:\", coef1)\n",
    "        print(\"Coefficient2:\", coef2)\n",
    "        print(\"MSE:\", mse)\n",
    "        print(\"RMSE:\", rmse)"
   ],
   "metadata": {
    "collapsed": false,
    "ExecuteTime": {
     "end_time": "2024-06-06T18:33:01.757832Z",
     "start_time": "2024-06-06T18:22:06.979791Z"
    }
   },
   "id": "1c0b97c52bde12be",
   "execution_count": 32
  },
  {
   "cell_type": "code",
   "outputs": [
    {
     "data": {
      "text/plain": "<Figure size 1000x600 with 1 Axes>",
      "image/png": "[encoded data removed]"
     },
     "metadata": {},
     "output_type": "display_data"
    }
   ],
   "source": [
    "coef1_values = [item[0] for item in graphData]\n",
    "coef2_values = [item[1] for item in graphData]\n",
    "rmse_values = [item[2] for item in graphData]\n",
    "\n",
    "# Plotting\n",
    "plt.figure(figsize=(10, 6))\n",
    "plt.plot(coef1_values, rmse_values, marker='o', label='Coefficient1')\n",
    "plt.plot(coef2_values, rmse_values, marker='s', label='Coefficient2')\n",
    "plt.xlabel('Coefficient Values')\n",
    "plt.ylabel('RMSE')\n",
    "plt.title('RMSE vs Coefficient Values')\n",
    "plt.legend()\n",
    "plt.grid(True)\n",
    "plt.show()"
   ],
   "metadata": {
    "collapsed": false,
    "ExecuteTime": {
     "end_time": "2024-06-06T18:33:01.959859Z",
     "start_time": "2024-06-06T18:33:01.758215Z"
    }
   },
   "id": "e5dac0db49a9f2e6",
   "execution_count": 33
  },
  {
   "cell_type": "code",
   "outputs": [],
   "source": [
    "def estimate_augment(user_id, movies):\n",
    "    user_ratings = pd.merge(ratings[ratings['userId'] == user_id],\n",
    "                            movie_metadata[['id', 'title']],\n",
    "                            left_on='movieId',\n",
    "                            right_on='id',\n",
    "                            how='inner')\n",
    "    user_ratings = user_ratings.drop('id', axis=1)\n",
    "    user_ratings['movieId'] = user_ratings['movieId'].astype(int)\n",
    "\n",
    "    reviewed_movie_ids = set(user_ratings['movieId'])\n",
    "    pred_series = []\n",
    "    for movie_id in movies['id']:\n",
    "        if movie_id in reviewed_movie_ids:\n",
    "            continue\n",
    "        simTotal = weightedSum = 0\n",
    "        sim_scores_row = list(enumerate(cosine_sim[indices[movie_id]]))\n",
    "        for reviewed_id in reviewed_movie_ids:\n",
    "            idx = indices[reviewed_id]\n",
    "            if len(sim_scores_row) < 46488:\n",
    "                continue\n",
    "            if type(idx) != np.int64:\n",
    "                continue\n",
    "            sim_score = sim_scores_row[idx]\n",
    "            simTotal += float(sim_score[1])\n",
    "            weightedSum += float(sim_score[1]) * float(user_ratings[user_ratings['movieId'] == reviewed_id]['rating'])\n",
    "        predictedRating = weightedSum / simTotal if simTotal != 0 else 0\n",
    "        predictedRating = (predictedRating + svd_model_trained.predict(user_id, movie_id, rating,\n",
    "                                                                       verbose=False).est) / 2\n",
    "        pred_series.append((movie_id, predictedRating))\n",
    "\n",
    "    pred_series = sorted(pred_series, key=lambda x: x[1], reverse=True)[:10]\n",
    "    return pred_series"
   ],
   "metadata": {
    "collapsed": false,
    "ExecuteTime": {
     "end_time": "2024-06-06T18:33:01.963214Z",
     "start_time": "2024-06-06T18:33:01.959505Z"
    }
   },
   "id": "167d8569baf5717",
   "execution_count": 34
  },
  {
   "cell_type": "code",
   "outputs": [],
   "source": [
    "data = []\n",
    "ratings_test = pd.merge(ratings_test, movie_metadata[['id']], left_on='movieId', right_on='id', how='inner')\n",
    "\n",
    "for index, row in ratings_test.iterrows():\n",
    "    user_id = row['userId']\n",
    "    movie_id = row['movieId']\n",
    "    rating = row['rating']\n",
    "    predicted = estimate_augment(user_id, movie_metadata[movie_metadata['id'] == movie_id])[0][1]\n",
    "    data.append((rating, predicted))"
   ],
   "metadata": {
    "collapsed": false,
    "ExecuteTime": {
     "end_time": "2024-06-06T18:37:34.029171Z",
     "start_time": "2024-06-06T18:33:01.965434Z"
    }
   },
   "id": "749cceef0327338e",
   "execution_count": 35
  },
  {
   "cell_type": "code",
   "outputs": [
    {
     "name": "stdout",
     "output_type": "stream",
     "text": [
      "MSE: 0.8631379885255805\n",
      "RMSE: 0.9290521990316694\n"
     ]
    }
   ],
   "source": [
    "mse, rmse = calculate_mse_and_rmse(data)\n",
    "print(\"MSE:\", mse)\n",
    "print(\"RMSE:\", rmse)"
   ],
   "metadata": {
    "collapsed": false,
    "ExecuteTime": {
     "end_time": "2024-06-06T18:37:34.036938Z",
     "start_time": "2024-06-06T18:37:34.031549Z"
    }
   },
   "id": "d69efc27de6ce59e",
   "execution_count": 36
  },
  {
   "cell_type": "code",
   "outputs": [],
   "source": [
    "def recommend_switching(user_id):\n",
    "    num_user_ratings = len(ratings[ratings['userId'] == user_id])\n",
    "    if num_user_ratings > 7:\n",
    "        return get_recommendations_user(user_id)\n",
    "    else:\n",
    "        return get_recommendations_content(user_id)"
   ],
   "metadata": {
    "collapsed": false,
    "ExecuteTime": {
     "end_time": "2024-06-06T18:37:34.049054Z",
     "start_time": "2024-06-06T18:37:34.040649Z"
    }
   },
   "id": "e07be80144bcecb5",
   "execution_count": 37
  },
  {
   "cell_type": "code",
   "outputs": [
    {
     "name": "stdout",
     "output_type": "stream",
     "text": [
      "HitRatio:  0.9954545454545455\n",
      "Hit: 657\n",
      "Total:  660\n"
     ]
    }
   ],
   "source": [
    "user_ids = ratings_test['userId'].unique()\n",
    "ratings_test = pd.merge(ratings_test, movie_metadata[['id']], left_on='movieId', right_on='id', how='inner')\n",
    "total, hit = 0, 0\n",
    "for user_id in user_ids:\n",
    "    first_row = recommend_switching(user_id).iloc[0]\n",
    "    predicted_rating = first_row['predicted_rating']\n",
    "    total = total + 1\n",
    "    if predicted_rating > 3.5:\n",
    "        hit = hit + 1\n",
    "print(\"HitRatio: \", hit / total)\n",
    "print(\"Hit:\", hit)\n",
    "print(\"Total: \", total)"
   ],
   "metadata": {
    "collapsed": false,
    "ExecuteTime": {
     "end_time": "2024-06-06T18:43:04.488650Z",
     "start_time": "2024-06-06T18:37:34.045284Z"
    }
   },
   "id": "150d26ecb5bf7d01",
   "execution_count": 38
  },
  {
   "cell_type": "code",
   "outputs": [],
   "source": [
    "def recommend_weighted(user_id):\n",
    "    predictions = []\n",
    "    predictions_cf = get_recommendations_user(user_id)\n",
    "    for index, row in predictions_cf.iterrows():\n",
    "        prediction_cn = estimate_content_based(user_id, movie_metadata[movie_metadata['id'] == row['movieId']])\n",
    "        if len(prediction_cn) != 0:\n",
    "            prediction = pd.DataFrame(columns=['movieId', 'title', 'predicted_rating', 'actual_rating'])\n",
    "            prediction['movieId'] = row['movieId']\n",
    "            prediction['title'] = row['title']\n",
    "            prediction_cn_val = prediction_cn[0][1]\n",
    "            prediction['predicted_rating'] = 0.95 * row['predicted_rating'] + 0.05 * prediction_cn_val\n",
    "            predictions.append(prediction)\n",
    "\n",
    "    return pd.concat(predictions, ignore_index=True).sort_values(by='predicted_rating', ascending=False)"
   ],
   "metadata": {
    "collapsed": false,
    "ExecuteTime": {
     "end_time": "2024-06-06T18:43:04.496967Z",
     "start_time": "2024-06-06T18:43:04.489753Z"
    }
   },
   "id": "b69634f5efbb9b9b",
   "execution_count": 39
  },
  {
   "cell_type": "code",
   "outputs": [
    {
     "name": "stderr",
     "output_type": "stream",
     "text": [
      "/var/folders/p8/ty6b1zbn4tq7l692h6f8ncpw0000gn/T/ipykernel_2618/2785693600.py:2: FutureWarning: Passing 'suffixes' which cause duplicate columns {'id_x'} in the result is deprecated and will raise a MergeError in a future version.\n",
      "  ratings_test = pd.merge(ratings_test, movie_metadata[['id']], left_on='movieId', right_on='id', how='inner')\n"
     ]
    },
    {
     "ename": "KeyboardInterrupt",
     "evalue": "",
     "output_type": "error",
     "traceback": [
      "\u001B[0;31m---------------------------------------------------------------------------\u001B[0m",
      "\u001B[0;31mKeyboardInterrupt\u001B[0m                         Traceback (most recent call last)",
      "Cell \u001B[0;32mIn[40], line 5\u001B[0m\n\u001B[1;32m      3\u001B[0m total, hit \u001B[38;5;241m=\u001B[39m \u001B[38;5;241m0\u001B[39m, \u001B[38;5;241m0\u001B[39m\n\u001B[1;32m      4\u001B[0m \u001B[38;5;28;01mfor\u001B[39;00m user_id \u001B[38;5;129;01min\u001B[39;00m user_ids:\n\u001B[0;32m----> 5\u001B[0m     prediction \u001B[38;5;241m=\u001B[39m \u001B[43mrecommend_weighted\u001B[49m\u001B[43m(\u001B[49m\u001B[43muser_id\u001B[49m\u001B[43m)\u001B[49m\n\u001B[1;32m      6\u001B[0m     \u001B[38;5;28;01mif\u001B[39;00m \u001B[38;5;28mlen\u001B[39m(prediction) \u001B[38;5;241m!=\u001B[39m \u001B[38;5;241m0\u001B[39m:\n\u001B[1;32m      7\u001B[0m         first_row \u001B[38;5;241m=\u001B[39m prediction\u001B[38;5;241m.\u001B[39miloc[\u001B[38;5;241m0\u001B[39m]\n",
      "Cell \u001B[0;32mIn[39], line 5\u001B[0m, in \u001B[0;36mrecommend_weighted\u001B[0;34m(user_id)\u001B[0m\n\u001B[1;32m      3\u001B[0m predictions_cf \u001B[38;5;241m=\u001B[39m get_recommendations_user(user_id)\n\u001B[1;32m      4\u001B[0m \u001B[38;5;28;01mfor\u001B[39;00m index, row \u001B[38;5;129;01min\u001B[39;00m predictions_cf\u001B[38;5;241m.\u001B[39miterrows():\n\u001B[0;32m----> 5\u001B[0m     prediction_cn \u001B[38;5;241m=\u001B[39m \u001B[43mestimate_content_based\u001B[49m\u001B[43m(\u001B[49m\u001B[43muser_id\u001B[49m\u001B[43m,\u001B[49m\u001B[43m \u001B[49m\u001B[43mmovie_metadata\u001B[49m\u001B[43m[\u001B[49m\u001B[43mmovie_metadata\u001B[49m\u001B[43m[\u001B[49m\u001B[38;5;124;43m'\u001B[39;49m\u001B[38;5;124;43mid\u001B[39;49m\u001B[38;5;124;43m'\u001B[39;49m\u001B[43m]\u001B[49m\u001B[43m \u001B[49m\u001B[38;5;241;43m==\u001B[39;49m\u001B[43m \u001B[49m\u001B[43mrow\u001B[49m\u001B[43m[\u001B[49m\u001B[38;5;124;43m'\u001B[39;49m\u001B[38;5;124;43mmovieId\u001B[39;49m\u001B[38;5;124;43m'\u001B[39;49m\u001B[43m]\u001B[49m\u001B[43m]\u001B[49m\u001B[43m)\u001B[49m\n\u001B[1;32m      6\u001B[0m     \u001B[38;5;28;01mif\u001B[39;00m \u001B[38;5;28mlen\u001B[39m(prediction_cn) \u001B[38;5;241m!=\u001B[39m \u001B[38;5;241m0\u001B[39m:\n\u001B[1;32m      7\u001B[0m         prediction \u001B[38;5;241m=\u001B[39m pd\u001B[38;5;241m.\u001B[39mDataFrame(columns\u001B[38;5;241m=\u001B[39m[\u001B[38;5;124m'\u001B[39m\u001B[38;5;124mmovieId\u001B[39m\u001B[38;5;124m'\u001B[39m, \u001B[38;5;124m'\u001B[39m\u001B[38;5;124mtitle\u001B[39m\u001B[38;5;124m'\u001B[39m, \u001B[38;5;124m'\u001B[39m\u001B[38;5;124mpredicted_rating\u001B[39m\u001B[38;5;124m'\u001B[39m, \u001B[38;5;124m'\u001B[39m\u001B[38;5;124mactual_rating\u001B[39m\u001B[38;5;124m'\u001B[39m])\n",
      "Cell \u001B[0;32mIn[21], line 16\u001B[0m, in \u001B[0;36mestimate_content_based\u001B[0;34m(user_id, movies)\u001B[0m\n\u001B[1;32m     14\u001B[0m     \u001B[38;5;28;01mcontinue\u001B[39;00m\n\u001B[1;32m     15\u001B[0m simTotal \u001B[38;5;241m=\u001B[39m weightedSum \u001B[38;5;241m=\u001B[39m \u001B[38;5;241m0\u001B[39m\n\u001B[0;32m---> 16\u001B[0m sim_scores_row \u001B[38;5;241m=\u001B[39m \u001B[38;5;28;43mlist\u001B[39;49m\u001B[43m(\u001B[49m\u001B[38;5;28;43menumerate\u001B[39;49m\u001B[43m(\u001B[49m\u001B[43mcosine_sim\u001B[49m\u001B[43m[\u001B[49m\u001B[43mindices\u001B[49m\u001B[43m[\u001B[49m\u001B[43mmovie_id\u001B[49m\u001B[43m]\u001B[49m\u001B[43m]\u001B[49m\u001B[43m)\u001B[49m\u001B[43m)\u001B[49m\n\u001B[1;32m     17\u001B[0m \u001B[38;5;28;01mfor\u001B[39;00m reviewed_id \u001B[38;5;129;01min\u001B[39;00m reviewed_movie_ids:\n\u001B[1;32m     18\u001B[0m     idx \u001B[38;5;241m=\u001B[39m indices[reviewed_id]\n",
      "\u001B[0;31mKeyboardInterrupt\u001B[0m: "
     ]
    }
   ],
   "source": [
    "user_ids = ratings_test['userId'].unique()\n",
    "ratings_test = pd.merge(ratings_test, movie_metadata[['id']], left_on='movieId', right_on='id', how='inner')\n",
    "total, hit = 0, 0\n",
    "for user_id in user_ids:\n",
    "    prediction = recommend_weighted(user_id)\n",
    "    if len(prediction) != 0:\n",
    "        first_row = prediction.iloc[0]\n",
    "        predicted_rating = first_row['predicted_rating']\n",
    "        total = total + 1\n",
    "        if predicted_rating > 3.5:\n",
    "            hit = hit + 1\n"
   ],
   "metadata": {
    "collapsed": false,
    "ExecuteTime": {
     "end_time": "2024-06-06T22:03:05.641453Z",
     "start_time": "2024-06-06T18:43:04.492881Z"
    }
   },
   "id": "883dead886a7eff4",
   "execution_count": 40
  },
  {
   "cell_type": "code",
   "outputs": [],
   "source": [
    "print(\"HitRatio: \", hit / total)\n",
    "print(\"Hit:\", hit)\n",
    "print(\"Total: \", total)"
   ],
   "metadata": {
    "collapsed": false,
    "ExecuteTime": {
     "end_time": "2024-06-06T22:03:05.649271Z",
     "start_time": "2024-06-06T22:03:05.641745Z"
    }
   },
   "id": "ca0c90b0ac497ecf",
   "execution_count": null
  },
  {
   "cell_type": "code",
   "outputs": [],
   "source": [
    "def reccommend_mix(user_id):\n",
    "    predictions_ub = get_recommendations_user(user_id).iloc[:5]\n",
    "    predictions_cn = get_recommendations_content(user_id).iloc[:5]\n",
    "    predictions_cn  = predictions_cn.rename({'id': 'movieId'}, axis=1)\n",
    "    return predictions_ub.append(predictions_cn).sort_values(by='predicted_rating', ascending=False)"
   ],
   "metadata": {
    "collapsed": false,
    "ExecuteTime": {
     "start_time": "2024-06-06T22:03:05.647989Z"
    }
   },
   "id": "aa17ab82a534b42d",
   "execution_count": null
  },
  {
   "cell_type": "code",
   "outputs": [],
   "source": [
    "user_ids = ratings_test['userId'].unique()\n",
    "ratings_test = pd.merge(ratings_test, movie_metadata[['id']], left_on='movieId', right_on='id', how='inner')\n",
    "total, hit = 0, 0\n",
    "for user_id in user_ids:\n",
    "    prediction = reccommend_mix(user_id)\n",
    "    if len(prediction) != 0:\n",
    "        first_row = prediction.iloc[0]\n",
    "        predicted_rating = first_row['predicted_rating']\n",
    "        total = total + 1\n",
    "        if predicted_rating > 3.5:\n",
    "            hit = hit + 1"
   ],
   "metadata": {
    "collapsed": false,
    "ExecuteTime": {
     "start_time": "2024-06-06T22:03:05.648069Z"
    }
   },
   "id": "8cb1f6d6acd7c1d7",
   "execution_count": null
  },
  {
   "cell_type": "code",
   "outputs": [],
   "source": [
    "print(\"HitRatio: \", hit / total)\n",
    "print(\"Hit:\", hit)\n",
    "print(\"Total: \", total)"
   ],
   "metadata": {
    "collapsed": false,
    "ExecuteTime": {
     "start_time": "2024-06-06T22:03:05.648131Z"
    }
   },
   "id": "24591e5e841333e",
   "execution_count": null
  }
 ],
 "metadata": {
  "kernelspec": {
   "display_name": "Python 3",
   "language": "python",
   "name": "python3"
  },
  "language_info": {
   "codemirror_mode": {
    "name": "ipython",
    "version": 2
   },
   "file_extension": ".py",
   "mimetype": "text/x-python",
   "name": "python",
   "nbconvert_exporter": "python",
   "pygments_lexer": "ipython2",
   "version": "2.7.6"
  }
 },
 "nbformat": 4,
 "nbformat_minor": 5
}

{
 "cells": [
  {
   "cell_type": "markdown",
   "source": [
    "# Recomendation system\n",
    "## Content based filtering"
   ],
   "metadata": {
    "collapsed": false
   }
  },
  {
   "cell_type": "code",
   "execution_count": 1,
   "outputs": [],
   "source": [
    "import pandas as pd\n",
    "from surprise import SVD, Dataset, Reader\n",
    "from surprise.model_selection import train_test_split\n",
    "from evaluation import calculate_mse_and_rmse"
   ],
   "metadata": {
    "collapsed": false,
    "ExecuteTime": {
     "end_time": "2024-06-03T16:00:06.089811Z",
     "start_time": "2024-06-03T16:00:05.352427Z"
    }
   }
  },
  {
   "cell_type": "code",
   "execution_count": 2,
   "outputs": [
    {
     "data": {
      "text/plain": "   userId  movieId  rating\n0       1       31     2.5\n1       1     1029     3.0\n2       1     1061     3.0\n3       1     1129     2.0\n4       1     1172     4.0",
      "text/html": "<div>\n<style scoped>\n    .dataframe tbody tr th:only-of-type {\n        vertical-align: middle;\n    }\n\n    .dataframe tbody tr th {\n        vertical-align: top;\n    }\n\n    .dataframe thead th {\n        text-align: right;\n    }\n</style>\n<table border=\"1\" class=\"dataframe\">\n  <thead>\n    <tr style=\"text-align: right;\">\n      <th></th>\n      <th>userId</th>\n      <th>movieId</th>\n      <th>rating</th>\n    </tr>\n  </thead>\n  <tbody>\n    <tr>\n      <th>0</th>\n      <td>1</td>\n      <td>31</td>\n      <td>2.5</td>\n    </tr>\n    <tr>\n      <th>1</th>\n      <td>1</td>\n      <td>1029</td>\n      <td>3.0</td>\n    </tr>\n    <tr>\n      <th>2</th>\n      <td>1</td>\n      <td>1061</td>\n      <td>3.0</td>\n    </tr>\n    <tr>\n      <th>3</th>\n      <td>1</td>\n      <td>1129</td>\n      <td>2.0</td>\n    </tr>\n    <tr>\n      <th>4</th>\n      <td>1</td>\n      <td>1172</td>\n      <td>4.0</td>\n    </tr>\n  </tbody>\n</table>\n</div>"
     },
     "execution_count": 2,
     "metadata": {},
     "output_type": "execute_result"
    }
   ],
   "source": [
    "ratings = pd.read_csv('data/ratings_small.csv', low_memory=False)\n",
    "ratings = ratings.drop('timestamp', axis=1)\n",
    "ratings.head()"
   ],
   "metadata": {
    "collapsed": false,
    "ExecuteTime": {
     "end_time": "2024-06-03T16:00:06.133778Z",
     "start_time": "2024-06-03T16:00:06.090848Z"
    }
   }
  },
  {
   "cell_type": "code",
   "execution_count": 3,
   "outputs": [
    {
     "data": {
      "text/plain": "   movieId                        title\n0      862                    Toy Story\n1     8844                      Jumanji\n2    15602             Grumpier Old Men\n3    31357            Waiting to Exhale\n4    11862  Father of the Bride Part II",
      "text/html": "<div>\n<style scoped>\n    .dataframe tbody tr th:only-of-type {\n        vertical-align: middle;\n    }\n\n    .dataframe tbody tr th {\n        vertical-align: top;\n    }\n\n    .dataframe thead th {\n        text-align: right;\n    }\n</style>\n<table border=\"1\" class=\"dataframe\">\n  <thead>\n    <tr style=\"text-align: right;\">\n      <th></th>\n      <th>movieId</th>\n      <th>title</th>\n    </tr>\n  </thead>\n  <tbody>\n    <tr>\n      <th>0</th>\n      <td>862</td>\n      <td>Toy Story</td>\n    </tr>\n    <tr>\n      <th>1</th>\n      <td>8844</td>\n      <td>Jumanji</td>\n    </tr>\n    <tr>\n      <th>2</th>\n      <td>15602</td>\n      <td>Grumpier Old Men</td>\n    </tr>\n    <tr>\n      <th>3</th>\n      <td>31357</td>\n      <td>Waiting to Exhale</td>\n    </tr>\n    <tr>\n      <th>4</th>\n      <td>11862</td>\n      <td>Father of the Bride Part II</td>\n    </tr>\n  </tbody>\n</table>\n</div>"
     },
     "execution_count": 3,
     "metadata": {},
     "output_type": "execute_result"
    }
   ],
   "source": [
    "movie_metadata = pd.read_csv(\"data/movies_metadata.csv\", low_memory=False)\n",
    "movie_metadata = movie_metadata[['id', 'title']]\n",
    "movie_metadata = movie_metadata.drop([19730, 29503, 35587])\n",
    "movie_metadata = movie_metadata[pd.to_numeric(movie_metadata['id'], errors='coerce').notnull()]\n",
    "movie_metadata = movie_metadata.rename(columns={'id': 'movieId'})\n",
    "movie_metadata['movieId'] = movie_metadata['movieId'].astype(int)\n",
    "movie_metadata.head()"
   ],
   "metadata": {
    "collapsed": false,
    "ExecuteTime": {
     "end_time": "2024-06-03T16:00:06.574281Z",
     "start_time": "2024-06-03T16:00:06.135638Z"
    }
   }
  },
  {
   "cell_type": "code",
   "execution_count": 4,
   "outputs": [
    {
     "data": {
      "text/plain": "   userId  movieId  rating title\n0       1       31     2.5   NaN\n1       1     1029     3.0   NaN\n2       1     1061     3.0   NaN\n3       1     1129     2.0   NaN\n4       1     1172     4.0   NaN",
      "text/html": "<div>\n<style scoped>\n    .dataframe tbody tr th:only-of-type {\n        vertical-align: middle;\n    }\n\n    .dataframe tbody tr th {\n        vertical-align: top;\n    }\n\n    .dataframe thead th {\n        text-align: right;\n    }\n</style>\n<table border=\"1\" class=\"dataframe\">\n  <thead>\n    <tr style=\"text-align: right;\">\n      <th></th>\n      <th>userId</th>\n      <th>movieId</th>\n      <th>rating</th>\n      <th>title</th>\n    </tr>\n  </thead>\n  <tbody>\n    <tr>\n      <th>0</th>\n      <td>1</td>\n      <td>31</td>\n      <td>2.5</td>\n      <td>NaN</td>\n    </tr>\n    <tr>\n      <th>1</th>\n      <td>1</td>\n      <td>1029</td>\n      <td>3.0</td>\n      <td>NaN</td>\n    </tr>\n    <tr>\n      <th>2</th>\n      <td>1</td>\n      <td>1061</td>\n      <td>3.0</td>\n      <td>NaN</td>\n    </tr>\n    <tr>\n      <th>3</th>\n      <td>1</td>\n      <td>1129</td>\n      <td>2.0</td>\n      <td>NaN</td>\n    </tr>\n    <tr>\n      <th>4</th>\n      <td>1</td>\n      <td>1172</td>\n      <td>4.0</td>\n      <td>NaN</td>\n    </tr>\n  </tbody>\n</table>\n</div>"
     },
     "execution_count": 4,
     "metadata": {},
     "output_type": "execute_result"
    }
   ],
   "source": [
    "movie_data = ratings.merge(movie_metadata, how='left', on='movieId')\n",
    "movie_data.head()"
   ],
   "metadata": {
    "collapsed": false,
    "ExecuteTime": {
     "end_time": "2024-06-03T16:00:06.590359Z",
     "start_time": "2024-06-03T16:00:06.570650Z"
    }
   }
  },
  {
   "cell_type": "code",
   "execution_count": 5,
   "outputs": [
    {
     "data": {
      "text/plain": "   userId  movieId  rating\n0       1       31     2.5\n1       1     1029     3.0\n2       1     1061     3.0\n3       1     1129     2.0\n4       1     1172     4.0",
      "text/html": "<div>\n<style scoped>\n    .dataframe tbody tr th:only-of-type {\n        vertical-align: middle;\n    }\n\n    .dataframe tbody tr th {\n        vertical-align: top;\n    }\n\n    .dataframe thead th {\n        text-align: right;\n    }\n</style>\n<table border=\"1\" class=\"dataframe\">\n  <thead>\n    <tr style=\"text-align: right;\">\n      <th></th>\n      <th>userId</th>\n      <th>movieId</th>\n      <th>rating</th>\n    </tr>\n  </thead>\n  <tbody>\n    <tr>\n      <th>0</th>\n      <td>1</td>\n      <td>31</td>\n      <td>2.5</td>\n    </tr>\n    <tr>\n      <th>1</th>\n      <td>1</td>\n      <td>1029</td>\n      <td>3.0</td>\n    </tr>\n    <tr>\n      <th>2</th>\n      <td>1</td>\n      <td>1061</td>\n      <td>3.0</td>\n    </tr>\n    <tr>\n      <th>3</th>\n      <td>1</td>\n      <td>1129</td>\n      <td>2.0</td>\n    </tr>\n    <tr>\n      <th>4</th>\n      <td>1</td>\n      <td>1172</td>\n      <td>4.0</td>\n    </tr>\n  </tbody>\n</table>\n</div>"
     },
     "execution_count": 5,
     "metadata": {},
     "output_type": "execute_result"
    }
   ],
   "source": [
    "df_movies_cnt = pd.DataFrame(ratings.groupby('movieId').size(), columns=['count'])\n",
    "popular_movies = list(set(df_movies_cnt.query('count >= 0').index))\n",
    "movies_filter = ratings.movieId.isin(popular_movies).values\n",
    "\n",
    "df_users_cnt = pd.DataFrame(ratings.groupby('userId').size(), columns=['count'])\n",
    "active_users = list(set(df_users_cnt.query('count >= 0').index))\n",
    "users_filter = ratings.userId.isin(active_users).values\n",
    "\n",
    "df_ratings_filtered = ratings[movies_filter & users_filter]\n",
    "df_ratings_filtered.head()"
   ],
   "metadata": {
    "collapsed": false,
    "ExecuteTime": {
     "end_time": "2024-06-03T16:00:06.629672Z",
     "start_time": "2024-06-03T16:00:06.589152Z"
    }
   }
  },
  {
   "cell_type": "code",
   "execution_count": 6,
   "outputs": [],
   "source": [
    "reader = Reader()\n",
    "ratings_by_users = Dataset.load_from_df(df_ratings_filtered[['userId', 'movieId', 'rating']], reader)\n",
    "train_df, test_df = train_test_split(ratings_by_users, test_size=.2)"
   ],
   "metadata": {
    "collapsed": false,
    "ExecuteTime": {
     "end_time": "2024-06-03T16:00:06.753078Z",
     "start_time": "2024-06-03T16:00:06.648049Z"
    }
   }
  },
  {
   "cell_type": "code",
   "outputs": [],
   "source": [],
   "metadata": {
    "collapsed": false,
    "ExecuteTime": {
     "end_time": "2024-06-03T16:00:06.758758Z",
     "start_time": "2024-06-03T16:00:06.753196Z"
    }
   },
   "execution_count": 6
  },
  {
   "cell_type": "code",
   "execution_count": 7,
   "outputs": [],
   "source": [
    "svd_model = SVD()\n",
    "svd_model_trained = svd_model.fit(train_df)"
   ],
   "metadata": {
    "collapsed": false,
    "ExecuteTime": {
     "end_time": "2024-06-03T16:00:07.286473Z",
     "start_time": "2024-06-03T16:00:06.759648Z"
    }
   }
  },
  {
   "cell_type": "code",
   "execution_count": 8,
   "outputs": [],
   "source": [
    "def get_recommendations(user_id):\n",
    "    pred_series = []\n",
    "    users_ratings = ratings[ratings['userId'] == user_id]\n",
    "    for movie_id, name in zip(movie_metadata.index, movie_metadata['title']):\n",
    "        rating_real = ratings.query(f'movieId == {movie_id}')['rating'].values[0] if movie_id in users_ratings[\n",
    "            'movieId'].values else 0\n",
    "        rating_pred = svd_model_trained.predict(user_id, movie_id, rating_real, verbose=False)\n",
    "        pred_series.append([movie_id, name, rating_pred.est, rating_real])\n",
    "\n",
    "    df_recommendations = pd.DataFrame(pred_series, columns=['movieId', 'title', 'predicted_rating', 'actual_rating'])\n",
    "    return df_recommendations.sort_values(by='predicted_rating', ascending=False).head(10)"
   ],
   "metadata": {
    "collapsed": false,
    "ExecuteTime": {
     "end_time": "2024-06-03T16:00:07.291908Z",
     "start_time": "2024-06-03T16:00:07.288944Z"
    }
   }
  },
  {
   "cell_type": "code",
   "execution_count": 9,
   "outputs": [
    {
     "data": {
      "text/plain": "      movieId                         title  predicted_rating  actual_rating\n969       969          2 Days in the Valley          4.966479            0.0\n318       318          Swimming with Sharks          4.949105            0.0\n1221     1221      The Manchurian Candidate          4.933624            0.0\n903       903                    Spellbound          4.929503            0.0\n1361     1361          The Whole Wide World          4.901392            0.0\n1254     1254              Forbidden Planet          4.891173            0.0\n3006     3006                  Agnes Browne          4.882168            0.0\n1250     1250                   Real Genius          4.869821            0.0\n912       912  The Adventures of Robin Hood          4.838500            5.0\n3462     3462    The Great Locomotive Chase          4.822801            0.0",
      "text/html": "<div>\n<style scoped>\n    .dataframe tbody tr th:only-of-type {\n        vertical-align: middle;\n    }\n\n    .dataframe tbody tr th {\n        vertical-align: top;\n    }\n\n    .dataframe thead th {\n        text-align: right;\n    }\n</style>\n<table border=\"1\" class=\"dataframe\">\n  <thead>\n    <tr style=\"text-align: right;\">\n      <th></th>\n      <th>movieId</th>\n      <th>title</th>\n      <th>predicted_rating</th>\n      <th>actual_rating</th>\n    </tr>\n  </thead>\n  <tbody>\n    <tr>\n      <th>969</th>\n      <td>969</td>\n      <td>2 Days in the Valley</td>\n      <td>4.966479</td>\n      <td>0.0</td>\n    </tr>\n    <tr>\n      <th>318</th>\n      <td>318</td>\n      <td>Swimming with Sharks</td>\n      <td>4.949105</td>\n      <td>0.0</td>\n    </tr>\n    <tr>\n      <th>1221</th>\n      <td>1221</td>\n      <td>The Manchurian Candidate</td>\n      <td>4.933624</td>\n      <td>0.0</td>\n    </tr>\n    <tr>\n      <th>903</th>\n      <td>903</td>\n      <td>Spellbound</td>\n      <td>4.929503</td>\n      <td>0.0</td>\n    </tr>\n    <tr>\n      <th>1361</th>\n      <td>1361</td>\n      <td>The Whole Wide World</td>\n      <td>4.901392</td>\n      <td>0.0</td>\n    </tr>\n    <tr>\n      <th>1254</th>\n      <td>1254</td>\n      <td>Forbidden Planet</td>\n      <td>4.891173</td>\n      <td>0.0</td>\n    </tr>\n    <tr>\n      <th>3006</th>\n      <td>3006</td>\n      <td>Agnes Browne</td>\n      <td>4.882168</td>\n      <td>0.0</td>\n    </tr>\n    <tr>\n      <th>1250</th>\n      <td>1250</td>\n      <td>Real Genius</td>\n      <td>4.869821</td>\n      <td>0.0</td>\n    </tr>\n    <tr>\n      <th>912</th>\n      <td>912</td>\n      <td>The Adventures of Robin Hood</td>\n      <td>4.838500</td>\n      <td>5.0</td>\n    </tr>\n    <tr>\n      <th>3462</th>\n      <td>3462</td>\n      <td>The Great Locomotive Chase</td>\n      <td>4.822801</td>\n      <td>0.0</td>\n    </tr>\n  </tbody>\n</table>\n</div>"
     },
     "execution_count": 9,
     "metadata": {},
     "output_type": "execute_result"
    }
   ],
   "source": [
    "get_recommendations(222)"
   ],
   "metadata": {
    "collapsed": false,
    "ExecuteTime": {
     "end_time": "2024-06-03T16:00:07.796689Z",
     "start_time": "2024-06-03T16:00:07.292142Z"
    }
   }
  },
  {
   "cell_type": "code",
   "outputs": [],
   "source": [
    "test_df = [{'userId': obj[0], 'movieId': obj[1], 'rating': obj[2]} for obj in test_df]\n",
    "test_df = pd.DataFrame(test_df)"
   ],
   "metadata": {
    "collapsed": false,
    "ExecuteTime": {
     "end_time": "2024-06-03T16:00:07.818471Z",
     "start_time": "2024-06-03T16:00:07.811015Z"
    }
   },
   "execution_count": 10
  },
  {
   "cell_type": "code",
   "execution_count": 11,
   "outputs": [],
   "source": [
    "data = []\n",
    "ratings_test = pd.merge(pd.DataFrame(test_df), movie_metadata[['movieId']], left_on='movieId', right_on='movieId', how='inner')\n",
    "\n",
    "for index, row in ratings_test.iterrows():\n",
    "    user_id = row['userId']\n",
    "    movie_id = row['movieId']\n",
    "    rating = row['rating']\n",
    "    predicted = svd_model_trained.predict(user_id, movie_id, rating, verbose=False).est\n",
    "    data.append((rating, predicted))"
   ],
   "metadata": {
    "collapsed": false,
    "ExecuteTime": {
     "end_time": "2024-06-03T16:00:08.045889Z",
     "start_time": "2024-06-03T16:00:07.818570Z"
    }
   }
  },
  {
   "cell_type": "code",
   "outputs": [
    {
     "name": "stdout",
     "output_type": "stream",
     "text": [
      "MSE: 0.8080378357530756\n",
      "RMSE: 0.8989092477848226\n"
     ]
    }
   ],
   "source": [
    "mse, rmse = calculate_mse_and_rmse(data)\n",
    "print(\"MSE:\", mse)\n",
    "print(\"RMSE:\", rmse)"
   ],
   "metadata": {
    "collapsed": false,
    "ExecuteTime": {
     "end_time": "2024-06-03T16:00:08.051665Z",
     "start_time": "2024-06-03T16:00:08.048835Z"
    }
   },
   "execution_count": 12
  },
  {
   "cell_type": "code",
   "outputs": [
    {
     "name": "stdout",
     "output_type": "stream",
     "text": [
      "HitRatio:  0.992548435171386\n",
      "Hit: 666\n",
      "Total:  671\n"
     ]
    }
   ],
   "source": [
    "user_ids = test_df['userId'].unique()\n",
    "ratings_test = pd.merge(test_df, movie_metadata[['movieId']], left_on='movieId', right_on='movieId', how='inner')\n",
    "total, hit = 0, 0\n",
    "for user_id in user_ids:\n",
    "    first_row = get_recommendations(user_id).iloc[0]\n",
    "    predicted_rating = first_row['predicted_rating']\n",
    "    total = total + 1\n",
    "    if predicted_rating > 3.5:\n",
    "        hit = hit + 1\n",
    "print(\"HitRatio: \", hit / total)\n",
    "print(\"Hit:\", hit)\n",
    "print(\"Total: \", total)"
   ],
   "metadata": {
    "collapsed": false,
    "ExecuteTime": {
     "end_time": "2024-06-03T16:05:54.488966Z",
     "start_time": "2024-06-03T16:00:08.055646Z"
    }
   },
   "execution_count": 13
  },
  {
   "cell_type": "code",
   "outputs": [],
   "source": [],
   "metadata": {
    "collapsed": false,
    "ExecuteTime": {
     "end_time": "2024-06-03T16:05:54.490733Z",
     "start_time": "2024-06-03T16:05:54.486647Z"
    }
   },
   "execution_count": 13
  }
 ],
 "metadata": {
  "kernelspec": {
   "display_name": "Python 3",
   "language": "python",
   "name": "python3"
  },
  "language_info": {
   "codemirror_mode": {
    "name": "ipython",
    "version": 2
   },
   "file_extension": ".py",
   "mimetype": "text/x-python",
   "name": "python",
   "nbconvert_exporter": "python",
   "pygments_lexer": "ipython2",
   "version": "2.7.6"
  }
 },
 "nbformat": 4,
 "nbformat_minor": 0
}

{
 "cells": [
  {
   "cell_type": "markdown",
   "source": [
    "# Recomendation system\n",
    "## Content based filtering"
   ],
   "metadata": {
    "collapsed": false
   }
  },
  {
   "cell_type": "code",
   "execution_count": 1,
   "outputs": [],
   "source": [
    "import pandas as pd\n",
    "from surprise import SVD, Dataset, Reader\n",
    "from surprise.model_selection import train_test_split\n",
    "from evaluation import calculate_mse_and_rmse"
   ],
   "metadata": {
    "collapsed": false,
    "ExecuteTime": {
     "end_time": "2024-05-02T12:46:26.235319Z",
     "start_time": "2024-05-02T12:46:25.810228Z"
    }
   }
  },
  {
   "cell_type": "code",
   "execution_count": 2,
   "outputs": [
    {
     "data": {
      "text/plain": "   userId  movieId  rating\n0       1       31     2.5\n1       1     1029     3.0\n2       1     1061     3.0\n3       1     1129     2.0\n4       1     1172     4.0",
      "text/html": "<div>\n<style scoped>\n    .dataframe tbody tr th:only-of-type {\n        vertical-align: middle;\n    }\n\n    .dataframe tbody tr th {\n        vertical-align: top;\n    }\n\n    .dataframe thead th {\n        text-align: right;\n    }\n</style>\n<table border=\"1\" class=\"dataframe\">\n  <thead>\n    <tr style=\"text-align: right;\">\n      <th></th>\n      <th>userId</th>\n      <th>movieId</th>\n      <th>rating</th>\n    </tr>\n  </thead>\n  <tbody>\n    <tr>\n      <th>0</th>\n      <td>1</td>\n      <td>31</td>\n      <td>2.5</td>\n    </tr>\n    <tr>\n      <th>1</th>\n      <td>1</td>\n      <td>1029</td>\n      <td>3.0</td>\n    </tr>\n    <tr>\n      <th>2</th>\n      <td>1</td>\n      <td>1061</td>\n      <td>3.0</td>\n    </tr>\n    <tr>\n      <th>3</th>\n      <td>1</td>\n      <td>1129</td>\n      <td>2.0</td>\n    </tr>\n    <tr>\n      <th>4</th>\n      <td>1</td>\n      <td>1172</td>\n      <td>4.0</td>\n    </tr>\n  </tbody>\n</table>\n</div>"
     },
     "execution_count": 2,
     "metadata": {},
     "output_type": "execute_result"
    }
   ],
   "source": [
    "ratings = pd.read_csv('data/ratings_small.csv', low_memory=False)\n",
    "ratings = ratings.drop('timestamp', axis=1)\n",
    "ratings.head()"
   ],
   "metadata": {
    "collapsed": false,
    "ExecuteTime": {
     "end_time": "2024-05-02T12:46:26.284120Z",
     "start_time": "2024-05-02T12:46:26.236553Z"
    }
   }
  },
  {
   "cell_type": "code",
   "execution_count": 3,
   "outputs": [
    {
     "data": {
      "text/plain": "   movieId                        title\n0      862                    Toy Story\n1     8844                      Jumanji\n2    15602             Grumpier Old Men\n3    31357            Waiting to Exhale\n4    11862  Father of the Bride Part II",
      "text/html": "<div>\n<style scoped>\n    .dataframe tbody tr th:only-of-type {\n        vertical-align: middle;\n    }\n\n    .dataframe tbody tr th {\n        vertical-align: top;\n    }\n\n    .dataframe thead th {\n        text-align: right;\n    }\n</style>\n<table border=\"1\" class=\"dataframe\">\n  <thead>\n    <tr style=\"text-align: right;\">\n      <th></th>\n      <th>movieId</th>\n      <th>title</th>\n    </tr>\n  </thead>\n  <tbody>\n    <tr>\n      <th>0</th>\n      <td>862</td>\n      <td>Toy Story</td>\n    </tr>\n    <tr>\n      <th>1</th>\n      <td>8844</td>\n      <td>Jumanji</td>\n    </tr>\n    <tr>\n      <th>2</th>\n      <td>15602</td>\n      <td>Grumpier Old Men</td>\n    </tr>\n    <tr>\n      <th>3</th>\n      <td>31357</td>\n      <td>Waiting to Exhale</td>\n    </tr>\n    <tr>\n      <th>4</th>\n      <td>11862</td>\n      <td>Father of the Bride Part II</td>\n    </tr>\n  </tbody>\n</table>\n</div>"
     },
     "execution_count": 3,
     "metadata": {},
     "output_type": "execute_result"
    }
   ],
   "source": [
    "movie_metadata = pd.read_csv(\"data/movies_metadata.csv\", low_memory=False)\n",
    "movie_metadata = movie_metadata[['id', 'title']]\n",
    "movie_metadata = movie_metadata.drop([19730, 29503, 35587])\n",
    "movie_metadata = movie_metadata[pd.to_numeric(movie_metadata['id'], errors='coerce').notnull()]\n",
    "movie_metadata = movie_metadata.rename(columns={'id': 'movieId'})\n",
    "movie_metadata['movieId'] = movie_metadata['movieId'].astype(int)\n",
    "movie_metadata.head()"
   ],
   "metadata": {
    "collapsed": false,
    "ExecuteTime": {
     "end_time": "2024-05-02T12:46:26.747423Z",
     "start_time": "2024-05-02T12:46:26.281790Z"
    }
   }
  },
  {
   "cell_type": "code",
   "execution_count": 4,
   "outputs": [
    {
     "data": {
      "text/plain": "   userId  movieId  rating title\n0       1       31     2.5   NaN\n1       1     1029     3.0   NaN\n2       1     1061     3.0   NaN\n3       1     1129     2.0   NaN\n4       1     1172     4.0   NaN",
      "text/html": "<div>\n<style scoped>\n    .dataframe tbody tr th:only-of-type {\n        vertical-align: middle;\n    }\n\n    .dataframe tbody tr th {\n        vertical-align: top;\n    }\n\n    .dataframe thead th {\n        text-align: right;\n    }\n</style>\n<table border=\"1\" class=\"dataframe\">\n  <thead>\n    <tr style=\"text-align: right;\">\n      <th></th>\n      <th>userId</th>\n      <th>movieId</th>\n      <th>rating</th>\n      <th>title</th>\n    </tr>\n  </thead>\n  <tbody>\n    <tr>\n      <th>0</th>\n      <td>1</td>\n      <td>31</td>\n      <td>2.5</td>\n      <td>NaN</td>\n    </tr>\n    <tr>\n      <th>1</th>\n      <td>1</td>\n      <td>1029</td>\n      <td>3.0</td>\n      <td>NaN</td>\n    </tr>\n    <tr>\n      <th>2</th>\n      <td>1</td>\n      <td>1061</td>\n      <td>3.0</td>\n      <td>NaN</td>\n    </tr>\n    <tr>\n      <th>3</th>\n      <td>1</td>\n      <td>1129</td>\n      <td>2.0</td>\n      <td>NaN</td>\n    </tr>\n    <tr>\n      <th>4</th>\n      <td>1</td>\n      <td>1172</td>\n      <td>4.0</td>\n      <td>NaN</td>\n    </tr>\n  </tbody>\n</table>\n</div>"
     },
     "execution_count": 4,
     "metadata": {},
     "output_type": "execute_result"
    }
   ],
   "source": [
    "movie_data = ratings.merge(movie_metadata, how='left', on='movieId')\n",
    "movie_data.head()"
   ],
   "metadata": {
    "collapsed": false,
    "ExecuteTime": {
     "end_time": "2024-05-02T12:46:26.763828Z",
     "start_time": "2024-05-02T12:46:26.744177Z"
    }
   }
  },
  {
   "cell_type": "code",
   "execution_count": 5,
   "outputs": [
    {
     "data": {
      "text/plain": "   userId  movieId  rating\n0       1       31     2.5\n1       1     1029     3.0\n2       1     1061     3.0\n3       1     1129     2.0\n4       1     1172     4.0",
      "text/html": "<div>\n<style scoped>\n    .dataframe tbody tr th:only-of-type {\n        vertical-align: middle;\n    }\n\n    .dataframe tbody tr th {\n        vertical-align: top;\n    }\n\n    .dataframe thead th {\n        text-align: right;\n    }\n</style>\n<table border=\"1\" class=\"dataframe\">\n  <thead>\n    <tr style=\"text-align: right;\">\n      <th></th>\n      <th>userId</th>\n      <th>movieId</th>\n      <th>rating</th>\n    </tr>\n  </thead>\n  <tbody>\n    <tr>\n      <th>0</th>\n      <td>1</td>\n      <td>31</td>\n      <td>2.5</td>\n    </tr>\n    <tr>\n      <th>1</th>\n      <td>1</td>\n      <td>1029</td>\n      <td>3.0</td>\n    </tr>\n    <tr>\n      <th>2</th>\n      <td>1</td>\n      <td>1061</td>\n      <td>3.0</td>\n    </tr>\n    <tr>\n      <th>3</th>\n      <td>1</td>\n      <td>1129</td>\n      <td>2.0</td>\n    </tr>\n    <tr>\n      <th>4</th>\n      <td>1</td>\n      <td>1172</td>\n      <td>4.0</td>\n    </tr>\n  </tbody>\n</table>\n</div>"
     },
     "execution_count": 5,
     "metadata": {},
     "output_type": "execute_result"
    }
   ],
   "source": [
    "df_movies_cnt = pd.DataFrame(ratings.groupby('movieId').size(), columns=['count'])\n",
    "popular_movies = list(set(df_movies_cnt.query('count >= 0').index))\n",
    "movies_filter = ratings.movieId.isin(popular_movies).values\n",
    "\n",
    "df_users_cnt = pd.DataFrame(ratings.groupby('userId').size(), columns=['count'])\n",
    "active_users = list(set(df_users_cnt.query('count >= 0').index))\n",
    "users_filter = ratings.userId.isin(active_users).values\n",
    "\n",
    "df_ratings_filtered = ratings[movies_filter & users_filter]\n",
    "df_ratings_filtered.head()"
   ],
   "metadata": {
    "collapsed": false,
    "ExecuteTime": {
     "end_time": "2024-05-02T12:46:29.304086Z",
     "start_time": "2024-05-02T12:46:29.277090Z"
    }
   }
  },
  {
   "cell_type": "code",
   "execution_count": 6,
   "outputs": [],
   "source": [
    "reader = Reader()\n",
    "ratings_by_users = Dataset.load_from_df(df_ratings_filtered[['userId', 'movieId', 'rating']], reader)\n",
    "train_df, test_df = train_test_split(ratings_by_users, test_size=.2)"
   ],
   "metadata": {
    "collapsed": false,
    "ExecuteTime": {
     "end_time": "2024-05-02T12:46:30.745975Z",
     "start_time": "2024-05-02T12:46:30.615486Z"
    }
   }
  },
  {
   "cell_type": "code",
   "execution_count": 7,
   "outputs": [],
   "source": [
    "svd_model = SVD()\n",
    "svd_model_trained = svd_model.fit(train_df)"
   ],
   "metadata": {
    "collapsed": false,
    "ExecuteTime": {
     "end_time": "2024-05-02T12:46:32.126062Z",
     "start_time": "2024-05-02T12:46:31.607166Z"
    }
   }
  },
  {
   "cell_type": "code",
   "execution_count": 8,
   "outputs": [],
   "source": [
    "def get_recommendations(user_id):\n",
    "    pred_series = []\n",
    "    users_ratings = ratings[ratings['userId'] == user_id]\n",
    "    for movie_id, name in zip(movie_metadata.index, movie_metadata['title']):\n",
    "        rating_real = ratings.query(f'movieId == {movie_id}')['rating'].values[0] if movie_id in users_ratings[\n",
    "            'movieId'].values else 0\n",
    "        rating_pred = svd_model_trained.predict(user_id, movie_id, rating_real, verbose=False)\n",
    "        pred_series.append([movie_id, name, rating_pred.est, rating_real])\n",
    "\n",
    "    df_recommendations = pd.DataFrame(pred_series, columns=['movieId', 'title', 'predicted_rating', 'actual_rating'])\n",
    "    return df_recommendations.sort_values(by='predicted_rating', ascending=False).head(10)"
   ],
   "metadata": {
    "collapsed": false,
    "ExecuteTime": {
     "end_time": "2024-05-02T12:46:32.217404Z",
     "start_time": "2024-05-02T12:46:32.213614Z"
    }
   }
  },
  {
   "cell_type": "code",
   "execution_count": 9,
   "outputs": [
    {
     "data": {
      "text/plain": "      movieId                         title  predicted_rating  actual_rating\n318       318          Swimming with Sharks          5.000000            0.0\n969       969          2 Days in the Valley          5.000000            0.0\n527       527                    Serial Mom          4.986997            0.0\n2289     2289                   First Blood          4.984052            0.0\n3462     3462    The Great Locomotive Chase          4.978476            0.0\n475       475                 Jurassic Park          4.972482            0.0\n1203     1203               La Femme Nikita          4.963855            0.0\n608       608                The Aristocats          4.958658            0.0\n926       926  Mr. Smith Goes to Washington          4.941766            0.0\n953       953                        Picnic          4.939971            3.0",
      "text/html": "<div>\n<style scoped>\n    .dataframe tbody tr th:only-of-type {\n        vertical-align: middle;\n    }\n\n    .dataframe tbody tr th {\n        vertical-align: top;\n    }\n\n    .dataframe thead th {\n        text-align: right;\n    }\n</style>\n<table border=\"1\" class=\"dataframe\">\n  <thead>\n    <tr style=\"text-align: right;\">\n      <th></th>\n      <th>movieId</th>\n      <th>title</th>\n      <th>predicted_rating</th>\n      <th>actual_rating</th>\n    </tr>\n  </thead>\n  <tbody>\n    <tr>\n      <th>318</th>\n      <td>318</td>\n      <td>Swimming with Sharks</td>\n      <td>5.000000</td>\n      <td>0.0</td>\n    </tr>\n    <tr>\n      <th>969</th>\n      <td>969</td>\n      <td>2 Days in the Valley</td>\n      <td>5.000000</td>\n      <td>0.0</td>\n    </tr>\n    <tr>\n      <th>527</th>\n      <td>527</td>\n      <td>Serial Mom</td>\n      <td>4.986997</td>\n      <td>0.0</td>\n    </tr>\n    <tr>\n      <th>2289</th>\n      <td>2289</td>\n      <td>First Blood</td>\n      <td>4.984052</td>\n      <td>0.0</td>\n    </tr>\n    <tr>\n      <th>3462</th>\n      <td>3462</td>\n      <td>The Great Locomotive Chase</td>\n      <td>4.978476</td>\n      <td>0.0</td>\n    </tr>\n    <tr>\n      <th>475</th>\n      <td>475</td>\n      <td>Jurassic Park</td>\n      <td>4.972482</td>\n      <td>0.0</td>\n    </tr>\n    <tr>\n      <th>1203</th>\n      <td>1203</td>\n      <td>La Femme Nikita</td>\n      <td>4.963855</td>\n      <td>0.0</td>\n    </tr>\n    <tr>\n      <th>608</th>\n      <td>608</td>\n      <td>The Aristocats</td>\n      <td>4.958658</td>\n      <td>0.0</td>\n    </tr>\n    <tr>\n      <th>926</th>\n      <td>926</td>\n      <td>Mr. Smith Goes to Washington</td>\n      <td>4.941766</td>\n      <td>0.0</td>\n    </tr>\n    <tr>\n      <th>953</th>\n      <td>953</td>\n      <td>Picnic</td>\n      <td>4.939971</td>\n      <td>3.0</td>\n    </tr>\n  </tbody>\n</table>\n</div>"
     },
     "execution_count": 9,
     "metadata": {},
     "output_type": "execute_result"
    }
   ],
   "source": [
    "get_recommendations(222)"
   ],
   "metadata": {
    "collapsed": false,
    "ExecuteTime": {
     "end_time": "2024-05-02T12:46:35.676996Z",
     "start_time": "2024-05-02T12:46:35.140488Z"
    }
   }
  },
  {
   "cell_type": "code",
   "outputs": [],
   "source": [
    "test_df = [{'userId': obj[0], 'movieId': obj[1], 'rating': obj[2]} for obj in test_df]\n",
    "test_df = pd.DataFrame(test_df)"
   ],
   "metadata": {
    "collapsed": false,
    "ExecuteTime": {
     "end_time": "2024-05-02T12:46:36.633198Z",
     "start_time": "2024-05-02T12:46:36.607825Z"
    }
   },
   "execution_count": 10
  },
  {
   "cell_type": "code",
   "execution_count": null,
   "outputs": [],
   "source": [
    "data = []\n",
    "ratings_test = pd.merge(pd.DataFrame(test_df), movie_metadata[['movieId']], left_on='movieId', right_on='movieId', how='inner')\n",
    "\n",
    "for index, row in ratings_test.iterrows():\n",
    "    user_id = row['userId']\n",
    "    movie_id = row['movieId']\n",
    "    rating = row['rating']\n",
    "    predicted = svd_model_trained.predict(user_id, movie_id, rating, verbose=False).est\n",
    "    data.append((rating, predicted))"
   ],
   "metadata": {
    "collapsed": false,
    "ExecuteTime": {
     "start_time": "2024-04-26T14:20:17.089985Z"
    }
   }
  },
  {
   "cell_type": "code",
   "outputs": [],
   "source": [
    "mse, rmse = calculate_mse_and_rmse(data)\n",
    "print(\"MSE:\", mse)\n",
    "print(\"RMSE:\", rmse)"
   ],
   "metadata": {
    "collapsed": false,
    "ExecuteTime": {
     "start_time": "2024-04-26T14:20:17.091981Z"
    }
   },
   "execution_count": null
  },
  {
   "cell_type": "code",
   "outputs": [
    {
     "name": "stdout",
     "output_type": "stream",
     "text": [
      "HitRatio:  0.992548435171386\n",
      "Hit: 666\n",
      "Total:  671\n"
     ]
    }
   ],
   "source": [
    "user_ids = test_df['userId'].unique()\n",
    "ratings_test = pd.merge(test_df, movie_metadata[['movieId']], left_on='movieId', right_on='movieId', how='inner')\n",
    "total, hit = 0, 0\n",
    "for user_id in user_ids:\n",
    "    first_row = get_recommendations(user_id).iloc[0]\n",
    "    predicted_rating = first_row['predicted_rating']\n",
    "    total = total + 1\n",
    "    if predicted_rating > 3.5:\n",
    "        hit = hit + 1\n",
    "print(\"HitRatio: \", hit / total)\n",
    "print(\"Hit:\", hit)\n",
    "print(\"Total: \", total)"
   ],
   "metadata": {
    "collapsed": false,
    "ExecuteTime": {
     "end_time": "2024-05-02T12:52:38.574806Z",
     "start_time": "2024-05-02T12:46:56.127623Z"
    }
   },
   "execution_count": 12
  },
  {
   "cell_type": "code",
   "outputs": [],
   "source": [],
   "metadata": {
    "collapsed": false,
    "ExecuteTime": {
     "start_time": "2024-04-26T14:20:17.096086Z"
    }
   },
   "execution_count": null
  }
 ],
 "metadata": {
  "kernelspec": {
   "display_name": "Python 3",
   "language": "python",
   "name": "python3"
  },
  "language_info": {
   "codemirror_mode": {
    "name": "ipython",
    "version": 2
   },
   "file_extension": ".py",
   "mimetype": "text/x-python",
   "name": "python",
   "nbconvert_exporter": "python",
   "pygments_lexer": "ipython2",
   "version": "2.7.6"
  }
 },
 "nbformat": 4,
 "nbformat_minor": 0
}

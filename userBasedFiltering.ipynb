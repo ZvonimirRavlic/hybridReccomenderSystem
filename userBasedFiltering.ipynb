{
 "cells": [
  {
   "cell_type": "markdown",
   "source": [
    "# Recomendation system\n",
    "## Content based filtering"
   ],
   "metadata": {
    "collapsed": false
   }
  },
  {
   "cell_type": "code",
   "execution_count": 3,
   "outputs": [],
   "source": [
    "import pandas as pd\n",
    "from surprise import SVD, Dataset, Reader\n",
    "from surprise.model_selection import train_test_split"
   ],
   "metadata": {
    "collapsed": false
   }
  },
  {
   "cell_type": "code",
   "execution_count": 4,
   "outputs": [
    {
     "data": {
      "text/plain": "   userId  movieId  rating\n0       1      110     1.0\n1       1      147     4.5\n2       1      858     5.0\n3       1     1221     5.0\n4       1     1246     5.0",
      "text/html": "<div>\n<style scoped>\n    .dataframe tbody tr th:only-of-type {\n        vertical-align: middle;\n    }\n\n    .dataframe tbody tr th {\n        vertical-align: top;\n    }\n\n    .dataframe thead th {\n        text-align: right;\n    }\n</style>\n<table border=\"1\" class=\"dataframe\">\n  <thead>\n    <tr style=\"text-align: right;\">\n      <th></th>\n      <th>userId</th>\n      <th>movieId</th>\n      <th>rating</th>\n    </tr>\n  </thead>\n  <tbody>\n    <tr>\n      <th>0</th>\n      <td>1</td>\n      <td>110</td>\n      <td>1.0</td>\n    </tr>\n    <tr>\n      <th>1</th>\n      <td>1</td>\n      <td>147</td>\n      <td>4.5</td>\n    </tr>\n    <tr>\n      <th>2</th>\n      <td>1</td>\n      <td>858</td>\n      <td>5.0</td>\n    </tr>\n    <tr>\n      <th>3</th>\n      <td>1</td>\n      <td>1221</td>\n      <td>5.0</td>\n    </tr>\n    <tr>\n      <th>4</th>\n      <td>1</td>\n      <td>1246</td>\n      <td>5.0</td>\n    </tr>\n  </tbody>\n</table>\n</div>"
     },
     "execution_count": 4,
     "metadata": {},
     "output_type": "execute_result"
    }
   ],
   "source": [
    "ratings = pd.read_csv('data/ratings.csv', low_memory=False)\n",
    "ratings = ratings.drop('timestamp', axis=1)\n",
    "ratings.head()"
   ],
   "metadata": {
    "collapsed": false
   }
  },
  {
   "cell_type": "code",
   "execution_count": 5,
   "outputs": [
    {
     "data": {
      "text/plain": "   movieId                        title\n0      862                    Toy Story\n1     8844                      Jumanji\n2    15602             Grumpier Old Men\n3    31357            Waiting to Exhale\n4    11862  Father of the Bride Part II",
      "text/html": "<div>\n<style scoped>\n    .dataframe tbody tr th:only-of-type {\n        vertical-align: middle;\n    }\n\n    .dataframe tbody tr th {\n        vertical-align: top;\n    }\n\n    .dataframe thead th {\n        text-align: right;\n    }\n</style>\n<table border=\"1\" class=\"dataframe\">\n  <thead>\n    <tr style=\"text-align: right;\">\n      <th></th>\n      <th>movieId</th>\n      <th>title</th>\n    </tr>\n  </thead>\n  <tbody>\n    <tr>\n      <th>0</th>\n      <td>862</td>\n      <td>Toy Story</td>\n    </tr>\n    <tr>\n      <th>1</th>\n      <td>8844</td>\n      <td>Jumanji</td>\n    </tr>\n    <tr>\n      <th>2</th>\n      <td>15602</td>\n      <td>Grumpier Old Men</td>\n    </tr>\n    <tr>\n      <th>3</th>\n      <td>31357</td>\n      <td>Waiting to Exhale</td>\n    </tr>\n    <tr>\n      <th>4</th>\n      <td>11862</td>\n      <td>Father of the Bride Part II</td>\n    </tr>\n  </tbody>\n</table>\n</div>"
     },
     "execution_count": 5,
     "metadata": {},
     "output_type": "execute_result"
    }
   ],
   "source": [
    "movie_metadata = pd.read_csv(\"data/movies_metadata.csv\", low_memory=False)\n",
    "movie_metadata = movie_metadata[['id', 'title']]\n",
    "movie_metadata =movie_metadata[pd.to_numeric(movie_metadata['id'], errors='coerce').notnull()]\n",
    "movie_metadata=movie_metadata.rename(columns = {'id':'movieId'})\n",
    "movie_metadata['movieId'] = movie_metadata['movieId'].astype(int)\n",
    "movie_metadata.head()"
   ],
   "metadata": {
    "collapsed": false
   }
  },
  {
   "cell_type": "code",
   "execution_count": 6,
   "outputs": [
    {
     "data": {
      "text/plain": "   userId  movieId  rating                 title\n0       1      110     1.0     Three Colors: Red\n1       1      147     4.5         The 400 Blows\n2       1      858     5.0  Sleepless in Seattle\n3       1     1221     5.0                   NaN\n4       1     1246     5.0          Rocky Balboa",
      "text/html": "<div>\n<style scoped>\n    .dataframe tbody tr th:only-of-type {\n        vertical-align: middle;\n    }\n\n    .dataframe tbody tr th {\n        vertical-align: top;\n    }\n\n    .dataframe thead th {\n        text-align: right;\n    }\n</style>\n<table border=\"1\" class=\"dataframe\">\n  <thead>\n    <tr style=\"text-align: right;\">\n      <th></th>\n      <th>userId</th>\n      <th>movieId</th>\n      <th>rating</th>\n      <th>title</th>\n    </tr>\n  </thead>\n  <tbody>\n    <tr>\n      <th>0</th>\n      <td>1</td>\n      <td>110</td>\n      <td>1.0</td>\n      <td>Three Colors: Red</td>\n    </tr>\n    <tr>\n      <th>1</th>\n      <td>1</td>\n      <td>147</td>\n      <td>4.5</td>\n      <td>The 400 Blows</td>\n    </tr>\n    <tr>\n      <th>2</th>\n      <td>1</td>\n      <td>858</td>\n      <td>5.0</td>\n      <td>Sleepless in Seattle</td>\n    </tr>\n    <tr>\n      <th>3</th>\n      <td>1</td>\n      <td>1221</td>\n      <td>5.0</td>\n      <td>NaN</td>\n    </tr>\n    <tr>\n      <th>4</th>\n      <td>1</td>\n      <td>1246</td>\n      <td>5.0</td>\n      <td>Rocky Balboa</td>\n    </tr>\n  </tbody>\n</table>\n</div>"
     },
     "execution_count": 6,
     "metadata": {},
     "output_type": "execute_result"
    }
   ],
   "source": [
    "movie_data = ratings.merge(movie_metadata, how='left', on='movieId')\n",
    "movie_data.head()"
   ],
   "metadata": {
    "collapsed": false
   }
  },
  {
   "cell_type": "code",
   "execution_count": 7,
   "outputs": [],
   "source": [
    "df_movies_cnt = pd.DataFrame(ratings.groupby('movieId').size(), columns=['count'])\n",
    "popular_movies = list(set(df_movies_cnt.query('count >= 150').index))\n",
    "movies_filter = ratings.movieId.isin(popular_movies).values\n",
    "\n",
    "df_users_cnt = pd.DataFrame(ratings.groupby('userId').size(),columns=['count'])\n",
    "active_users = list(set(df_users_cnt.query('count >= 15').index))\n",
    "users_filter = ratings.userId.isin(active_users).values\n",
    "\n",
    "df_ratings_filtered = ratings[movies_filter & users_filter]"
   ],
   "metadata": {
    "collapsed": false
   }
  },
  {
   "cell_type": "code",
   "execution_count": 8,
   "outputs": [],
   "source": [
    "reader = Reader()\n",
    "ratings_by_users = Dataset.load_from_df(df_ratings_filtered[['userId', 'movieId', 'rating']], reader)\n",
    "train_df, test_df = train_test_split(ratings_by_users, test_size=.2)"
   ],
   "metadata": {
    "collapsed": false
   }
  },
  {
   "cell_type": "markdown",
   "source": [],
   "metadata": {
    "collapsed": false
   }
  },
  {
   "cell_type": "code",
   "execution_count": 10,
   "outputs": [],
   "source": [
    "svd_model = SVD()\n",
    "svd_model_trained = svd_model.fit(train_df)"
   ],
   "metadata": {
    "collapsed": false
   }
  },
  {
   "cell_type": "code",
   "execution_count": 23,
   "outputs": [],
   "source": [
    "def get_recommendations(user_id):\n",
    "    pred_series= []\n",
    "    users_ratings = ratings[ratings['userId'] == user_id]\n",
    "    for movie_id, name in zip(movie_metadata.index, movie_metadata['title']):\n",
    "        rating_real = ratings.query(f'movieId == {movie_id}')['rating'].values[0] if movie_id in users_ratings['movieId'].values else 0\n",
    "        rating_pred = svd_model_trained.predict(user_id, movie_id, rating_real, verbose=False)\n",
    "        pred_series.append([movie_id, name, rating_pred.est, rating_real])\n",
    "\n",
    "    # print the results\n",
    "    df_recommendations = pd.DataFrame(pred_series, columns=['movieId', 'title', 'predicted_rating', 'actual_rating'])\n",
    "    return df_recommendations.sort_values(by='predicted_rating', ascending=False).head(10)"
   ],
   "metadata": {
    "collapsed": false
   }
  },
  {
   "cell_type": "code",
   "execution_count": 24,
   "outputs": [
    {
     "data": {
      "text/plain": "      movieId                                              title  \\\n260       260                                            L'Enfer   \n527       527                                         Serial Mom   \n912       912                            The Reluctant Debutante   \n1207     1207                                          Chinatown   \n17         17                                         Four Rooms   \n1196     1196                                          Braindead   \n7669     7669                                      The Way Ahead   \n62         62  Don't Be a Menace to South Central While Drink...   \n4427     4427                                 Torch Song Trilogy   \n1949     1949                                     The Negotiator   \n\n      predicted_rating  actual_rating  \n260           4.691972            4.0  \n527           4.623845            4.0  \n912           4.619116            4.0  \n1207          4.587651            0.0  \n17            4.537963            0.0  \n1196          4.535036            4.0  \n7669          4.526326            0.0  \n62            4.514157            2.0  \n4427          4.476415            0.0  \n1949          4.465953            0.0  ",
      "text/html": "<div>\n<style scoped>\n    .dataframe tbody tr th:only-of-type {\n        vertical-align: middle;\n    }\n\n    .dataframe tbody tr th {\n        vertical-align: top;\n    }\n\n    .dataframe thead th {\n        text-align: right;\n    }\n</style>\n<table border=\"1\" class=\"dataframe\">\n  <thead>\n    <tr style=\"text-align: right;\">\n      <th></th>\n      <th>movieId</th>\n      <th>title</th>\n      <th>predicted_rating</th>\n      <th>actual_rating</th>\n    </tr>\n  </thead>\n  <tbody>\n    <tr>\n      <th>260</th>\n      <td>260</td>\n      <td>L'Enfer</td>\n      <td>4.691972</td>\n      <td>4.0</td>\n    </tr>\n    <tr>\n      <th>527</th>\n      <td>527</td>\n      <td>Serial Mom</td>\n      <td>4.623845</td>\n      <td>4.0</td>\n    </tr>\n    <tr>\n      <th>912</th>\n      <td>912</td>\n      <td>The Reluctant Debutante</td>\n      <td>4.619116</td>\n      <td>4.0</td>\n    </tr>\n    <tr>\n      <th>1207</th>\n      <td>1207</td>\n      <td>Chinatown</td>\n      <td>4.587651</td>\n      <td>0.0</td>\n    </tr>\n    <tr>\n      <th>17</th>\n      <td>17</td>\n      <td>Four Rooms</td>\n      <td>4.537963</td>\n      <td>0.0</td>\n    </tr>\n    <tr>\n      <th>1196</th>\n      <td>1196</td>\n      <td>Braindead</td>\n      <td>4.535036</td>\n      <td>4.0</td>\n    </tr>\n    <tr>\n      <th>7669</th>\n      <td>7669</td>\n      <td>The Way Ahead</td>\n      <td>4.526326</td>\n      <td>0.0</td>\n    </tr>\n    <tr>\n      <th>62</th>\n      <td>62</td>\n      <td>Don't Be a Menace to South Central While Drink...</td>\n      <td>4.514157</td>\n      <td>2.0</td>\n    </tr>\n    <tr>\n      <th>4427</th>\n      <td>4427</td>\n      <td>Torch Song Trilogy</td>\n      <td>4.476415</td>\n      <td>0.0</td>\n    </tr>\n    <tr>\n      <th>1949</th>\n      <td>1949</td>\n      <td>The Negotiator</td>\n      <td>4.465953</td>\n      <td>0.0</td>\n    </tr>\n  </tbody>\n</table>\n</div>"
     },
     "execution_count": 24,
     "metadata": {},
     "output_type": "execute_result"
    }
   ],
   "source": [
    "get_recommendations(400)"
   ],
   "metadata": {
    "collapsed": false
   }
  },
  {
   "cell_type": "code",
   "execution_count": null,
   "outputs": [],
   "source": [],
   "metadata": {
    "collapsed": false
   }
  }
 ],
 "metadata": {
  "kernelspec": {
   "display_name": "Python 3",
   "language": "python",
   "name": "python3"
  },
  "language_info": {
   "codemirror_mode": {
    "name": "ipython",
    "version": 2
   },
   "file_extension": ".py",
   "mimetype": "text/x-python",
   "name": "python",
   "nbconvert_exporter": "python",
   "pygments_lexer": "ipython2",
   "version": "2.7.6"
  }
 },
 "nbformat": 4,
 "nbformat_minor": 0
}

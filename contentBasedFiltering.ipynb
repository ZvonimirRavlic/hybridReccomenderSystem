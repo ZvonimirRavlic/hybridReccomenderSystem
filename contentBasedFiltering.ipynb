{
 "cells": [
  {
   "cell_type": "code",
   "execution_count": 72,
   "metadata": {
    "collapsed": true,
    "ExecuteTime": {
     "end_time": "2024-04-08T16:24:41.756298Z",
     "start_time": "2024-04-08T16:24:41.752410Z"
    }
   },
   "outputs": [],
   "source": [
    "import pandas as pd\n",
    "import numpy as np\n",
    "from ast import literal_eval\n",
    "from sklearn.feature_extraction.text import CountVectorizer\n",
    "from sklearn.metrics.pairwise import cosine_similarity"
   ]
  },
  {
   "cell_type": "code",
   "execution_count": 73,
   "outputs": [
    {
     "data": {
      "text/plain": "   adult                              belongs_to_collection    budget  \\\n0  False  {'id': 10194, 'name': 'Toy Story Collection', ...  30000000   \n1  False                                                NaN  65000000   \n2  False  {'id': 119050, 'name': 'Grumpy Old Men Collect...         0   \n3  False                                                NaN  16000000   \n4  False  {'id': 96871, 'name': 'Father of the Bride Col...         0   \n\n                                              genres  \\\n0  [{'id': 16, 'name': 'Animation'}, {'id': 35, '...   \n1  [{'id': 12, 'name': 'Adventure'}, {'id': 14, '...   \n2  [{'id': 10749, 'name': 'Romance'}, {'id': 35, ...   \n3  [{'id': 35, 'name': 'Comedy'}, {'id': 18, 'nam...   \n4                     [{'id': 35, 'name': 'Comedy'}]   \n\n                               homepage     id    imdb_id original_language  \\\n0  http://toystory.disney.com/toy-story    862  tt0114709                en   \n1                                   NaN   8844  tt0113497                en   \n2                                   NaN  15602  tt0113228                en   \n3                                   NaN  31357  tt0114885                en   \n4                                   NaN  11862  tt0113041                en   \n\n                original_title  \\\n0                    Toy Story   \n1                      Jumanji   \n2             Grumpier Old Men   \n3            Waiting to Exhale   \n4  Father of the Bride Part II   \n\n                                            overview  ... release_date  \\\n0  Led by Woody, Andy's toys live happily in his ...  ...   1995-10-30   \n1  When siblings Judy and Peter discover an encha...  ...   1995-12-15   \n2  A family wedding reignites the ancient feud be...  ...   1995-12-22   \n3  Cheated on, mistreated and stepped on, the wom...  ...   1995-12-22   \n4  Just when George Banks has recovered from his ...  ...   1995-02-10   \n\n       revenue runtime                                   spoken_languages  \\\n0  373554033.0    81.0           [{'iso_639_1': 'en', 'name': 'English'}]   \n1  262797249.0   104.0  [{'iso_639_1': 'en', 'name': 'English'}, {'iso...   \n2          0.0   101.0           [{'iso_639_1': 'en', 'name': 'English'}]   \n3   81452156.0   127.0           [{'iso_639_1': 'en', 'name': 'English'}]   \n4   76578911.0   106.0           [{'iso_639_1': 'en', 'name': 'English'}]   \n\n     status                                            tagline  \\\n0  Released                                                NaN   \n1  Released          Roll the dice and unleash the excitement!   \n2  Released  Still Yelling. Still Fighting. Still Ready for...   \n3  Released  Friends are the people who let you be yourself...   \n4  Released  Just When His World Is Back To Normal... He's ...   \n\n                         title  video vote_average vote_count  \n0                    Toy Story  False          7.7     5415.0  \n1                      Jumanji  False          6.9     2413.0  \n2             Grumpier Old Men  False          6.5       92.0  \n3            Waiting to Exhale  False          6.1       34.0  \n4  Father of the Bride Part II  False          5.7      173.0  \n\n[5 rows x 24 columns]",
      "text/html": "<div>\n<style scoped>\n    .dataframe tbody tr th:only-of-type {\n        vertical-align: middle;\n    }\n\n    .dataframe tbody tr th {\n        vertical-align: top;\n    }\n\n    .dataframe thead th {\n        text-align: right;\n    }\n</style>\n<table border=\"1\" class=\"dataframe\">\n  <thead>\n    <tr style=\"text-align: right;\">\n      <th></th>\n      <th>adult</th>\n      <th>belongs_to_collection</th>\n      <th>budget</th>\n      <th>genres</th>\n      <th>homepage</th>\n      <th>id</th>\n      <th>imdb_id</th>\n      <th>original_language</th>\n      <th>original_title</th>\n      <th>overview</th>\n      <th>...</th>\n      <th>release_date</th>\n      <th>revenue</th>\n      <th>runtime</th>\n      <th>spoken_languages</th>\n      <th>status</th>\n      <th>tagline</th>\n      <th>title</th>\n      <th>video</th>\n      <th>vote_average</th>\n      <th>vote_count</th>\n    </tr>\n  </thead>\n  <tbody>\n    <tr>\n      <th>0</th>\n      <td>False</td>\n      <td>{'id': 10194, 'name': 'Toy Story Collection', ...</td>\n      <td>30000000</td>\n      <td>[{'id': 16, 'name': 'Animation'}, {'id': 35, '...</td>\n      <td>http://toystory.disney.com/toy-story</td>\n      <td>862</td>\n      <td>tt0114709</td>\n      <td>en</td>\n      <td>Toy Story</td>\n      <td>Led by Woody, Andy's toys live happily in his ...</td>\n      <td>...</td>\n      <td>1995-10-30</td>\n      <td>373554033.0</td>\n      <td>81.0</td>\n      <td>[{'iso_639_1': 'en', 'name': 'English'}]</td>\n      <td>Released</td>\n      <td>NaN</td>\n      <td>Toy Story</td>\n      <td>False</td>\n      <td>7.7</td>\n      <td>5415.0</td>\n    </tr>\n    <tr>\n      <th>1</th>\n      <td>False</td>\n      <td>NaN</td>\n      <td>65000000</td>\n      <td>[{'id': 12, 'name': 'Adventure'}, {'id': 14, '...</td>\n      <td>NaN</td>\n      <td>8844</td>\n      <td>tt0113497</td>\n      <td>en</td>\n      <td>Jumanji</td>\n      <td>When siblings Judy and Peter discover an encha...</td>\n      <td>...</td>\n      <td>1995-12-15</td>\n      <td>262797249.0</td>\n      <td>104.0</td>\n      <td>[{'iso_639_1': 'en', 'name': 'English'}, {'iso...</td>\n      <td>Released</td>\n      <td>Roll the dice and unleash the excitement!</td>\n      <td>Jumanji</td>\n      <td>False</td>\n      <td>6.9</td>\n      <td>2413.0</td>\n    </tr>\n    <tr>\n      <th>2</th>\n      <td>False</td>\n      <td>{'id': 119050, 'name': 'Grumpy Old Men Collect...</td>\n      <td>0</td>\n      <td>[{'id': 10749, 'name': 'Romance'}, {'id': 35, ...</td>\n      <td>NaN</td>\n      <td>15602</td>\n      <td>tt0113228</td>\n      <td>en</td>\n      <td>Grumpier Old Men</td>\n      <td>A family wedding reignites the ancient feud be...</td>\n      <td>...</td>\n      <td>1995-12-22</td>\n      <td>0.0</td>\n      <td>101.0</td>\n      <td>[{'iso_639_1': 'en', 'name': 'English'}]</td>\n      <td>Released</td>\n      <td>Still Yelling. Still Fighting. Still Ready for...</td>\n      <td>Grumpier Old Men</td>\n      <td>False</td>\n      <td>6.5</td>\n      <td>92.0</td>\n    </tr>\n    <tr>\n      <th>3</th>\n      <td>False</td>\n      <td>NaN</td>\n      <td>16000000</td>\n      <td>[{'id': 35, 'name': 'Comedy'}, {'id': 18, 'nam...</td>\n      <td>NaN</td>\n      <td>31357</td>\n      <td>tt0114885</td>\n      <td>en</td>\n      <td>Waiting to Exhale</td>\n      <td>Cheated on, mistreated and stepped on, the wom...</td>\n      <td>...</td>\n      <td>1995-12-22</td>\n      <td>81452156.0</td>\n      <td>127.0</td>\n      <td>[{'iso_639_1': 'en', 'name': 'English'}]</td>\n      <td>Released</td>\n      <td>Friends are the people who let you be yourself...</td>\n      <td>Waiting to Exhale</td>\n      <td>False</td>\n      <td>6.1</td>\n      <td>34.0</td>\n    </tr>\n    <tr>\n      <th>4</th>\n      <td>False</td>\n      <td>{'id': 96871, 'name': 'Father of the Bride Col...</td>\n      <td>0</td>\n      <td>[{'id': 35, 'name': 'Comedy'}]</td>\n      <td>NaN</td>\n      <td>11862</td>\n      <td>tt0113041</td>\n      <td>en</td>\n      <td>Father of the Bride Part II</td>\n      <td>Just when George Banks has recovered from his ...</td>\n      <td>...</td>\n      <td>1995-02-10</td>\n      <td>76578911.0</td>\n      <td>106.0</td>\n      <td>[{'iso_639_1': 'en', 'name': 'English'}]</td>\n      <td>Released</td>\n      <td>Just When His World Is Back To Normal... He's ...</td>\n      <td>Father of the Bride Part II</td>\n      <td>False</td>\n      <td>5.7</td>\n      <td>173.0</td>\n    </tr>\n  </tbody>\n</table>\n<p>5 rows × 24 columns</p>\n</div>"
     },
     "execution_count": 73,
     "metadata": {},
     "output_type": "execute_result"
    }
   ],
   "source": [
    "movie_metadata = pd.read_csv('data/movies_metadata.csv', low_memory=False)\n",
    "movie_metadata.head()"
   ],
   "metadata": {
    "collapsed": false,
    "ExecuteTime": {
     "end_time": "2024-04-08T16:24:42.635994Z",
     "start_time": "2024-04-08T16:24:41.759486Z"
    }
   }
  },
  {
   "cell_type": "code",
   "outputs": [
    {
     "data": {
      "text/plain": "   userId  movieId  rating\n0       1      110     1.0\n1       1      147     4.5\n2       1      858     5.0\n3       1     1221     5.0\n4       1     1246     5.0",
      "text/html": "<div>\n<style scoped>\n    .dataframe tbody tr th:only-of-type {\n        vertical-align: middle;\n    }\n\n    .dataframe tbody tr th {\n        vertical-align: top;\n    }\n\n    .dataframe thead th {\n        text-align: right;\n    }\n</style>\n<table border=\"1\" class=\"dataframe\">\n  <thead>\n    <tr style=\"text-align: right;\">\n      <th></th>\n      <th>userId</th>\n      <th>movieId</th>\n      <th>rating</th>\n    </tr>\n  </thead>\n  <tbody>\n    <tr>\n      <th>0</th>\n      <td>1</td>\n      <td>110</td>\n      <td>1.0</td>\n    </tr>\n    <tr>\n      <th>1</th>\n      <td>1</td>\n      <td>147</td>\n      <td>4.5</td>\n    </tr>\n    <tr>\n      <th>2</th>\n      <td>1</td>\n      <td>858</td>\n      <td>5.0</td>\n    </tr>\n    <tr>\n      <th>3</th>\n      <td>1</td>\n      <td>1221</td>\n      <td>5.0</td>\n    </tr>\n    <tr>\n      <th>4</th>\n      <td>1</td>\n      <td>1246</td>\n      <td>5.0</td>\n    </tr>\n  </tbody>\n</table>\n</div>"
     },
     "execution_count": 74,
     "metadata": {},
     "output_type": "execute_result"
    }
   ],
   "source": [
    "ratings = pd.read_csv('data/ratings.csv', low_memory=False)\n",
    "ratings = ratings.drop('timestamp', axis=1)\n",
    "ratings.head()"
   ],
   "metadata": {
    "collapsed": false,
    "ExecuteTime": {
     "end_time": "2024-04-08T16:24:52.148769Z",
     "start_time": "2024-04-08T16:24:42.631501Z"
    }
   },
   "execution_count": 74
  },
  {
   "cell_type": "code",
   "execution_count": 75,
   "outputs": [],
   "source": [
    "credits = pd.read_csv('data/credits.csv')\n",
    "keywords = pd.read_csv('data/keywords.csv')\n",
    "\n",
    "movie_metadata = movie_metadata.drop([19730, 29503, 35587])\n",
    "\n",
    "keywords['id'] = keywords['id'].astype('int')\n",
    "credits['id'] = credits['id'].astype('int')\n",
    "movie_metadata['id'] = movie_metadata['id'].astype('int')\n",
    "\n",
    "movie_metadata = movie_metadata.merge(credits, on='id')\n",
    "movie_metadata = movie_metadata.merge(keywords, on='id')"
   ],
   "metadata": {
    "collapsed": false,
    "ExecuteTime": {
     "end_time": "2024-04-08T16:24:54.331454Z",
     "start_time": "2024-04-08T16:24:52.146440Z"
    }
   }
  },
  {
   "cell_type": "code",
   "execution_count": 76,
   "outputs": [
    {
     "data": {
      "text/plain": "      id                        title  \\\n0    862                    Toy Story   \n1   8844                      Jumanji   \n2  15602             Grumpier Old Men   \n3  31357            Waiting to Exhale   \n4  11862  Father of the Bride Part II   \n\n                                                cast         director  \\\n0                [Tom Hanks, Tim Allen, Don Rickles]    John Lasseter   \n1     [Robin Williams, Jonathan Hyde, Kirsten Dunst]     Joe Johnston   \n2         [Walter Matthau, Jack Lemmon, Ann-Margret]    Howard Deutch   \n3  [Whitney Houston, Angela Bassett, Loretta Devine]  Forest Whitaker   \n4         [Steve Martin, Diane Keaton, Martin Short]    Charles Shyer   \n\n                                            keywords  \\\n0                               [jealousy, toy, boy]   \n1  [board game, disappearance, based on children'...   \n2       [fishing, best friend, duringcreditsstinger]   \n3  [based on novel, interracial relationship, sin...   \n4                 [baby, midlife crisis, confidence]   \n\n                         genres  \n0   [Animation, Comedy, Family]  \n1  [Adventure, Fantasy, Family]  \n2             [Romance, Comedy]  \n3      [Comedy, Drama, Romance]  \n4                      [Comedy]  ",
      "text/html": "<div>\n<style scoped>\n    .dataframe tbody tr th:only-of-type {\n        vertical-align: middle;\n    }\n\n    .dataframe tbody tr th {\n        vertical-align: top;\n    }\n\n    .dataframe thead th {\n        text-align: right;\n    }\n</style>\n<table border=\"1\" class=\"dataframe\">\n  <thead>\n    <tr style=\"text-align: right;\">\n      <th></th>\n      <th>id</th>\n      <th>title</th>\n      <th>cast</th>\n      <th>director</th>\n      <th>keywords</th>\n      <th>genres</th>\n    </tr>\n  </thead>\n  <tbody>\n    <tr>\n      <th>0</th>\n      <td>862</td>\n      <td>Toy Story</td>\n      <td>[Tom Hanks, Tim Allen, Don Rickles]</td>\n      <td>John Lasseter</td>\n      <td>[jealousy, toy, boy]</td>\n      <td>[Animation, Comedy, Family]</td>\n    </tr>\n    <tr>\n      <th>1</th>\n      <td>8844</td>\n      <td>Jumanji</td>\n      <td>[Robin Williams, Jonathan Hyde, Kirsten Dunst]</td>\n      <td>Joe Johnston</td>\n      <td>[board game, disappearance, based on children'...</td>\n      <td>[Adventure, Fantasy, Family]</td>\n    </tr>\n    <tr>\n      <th>2</th>\n      <td>15602</td>\n      <td>Grumpier Old Men</td>\n      <td>[Walter Matthau, Jack Lemmon, Ann-Margret]</td>\n      <td>Howard Deutch</td>\n      <td>[fishing, best friend, duringcreditsstinger]</td>\n      <td>[Romance, Comedy]</td>\n    </tr>\n    <tr>\n      <th>3</th>\n      <td>31357</td>\n      <td>Waiting to Exhale</td>\n      <td>[Whitney Houston, Angela Bassett, Loretta Devine]</td>\n      <td>Forest Whitaker</td>\n      <td>[based on novel, interracial relationship, sin...</td>\n      <td>[Comedy, Drama, Romance]</td>\n    </tr>\n    <tr>\n      <th>4</th>\n      <td>11862</td>\n      <td>Father of the Bride Part II</td>\n      <td>[Steve Martin, Diane Keaton, Martin Short]</td>\n      <td>Charles Shyer</td>\n      <td>[baby, midlife crisis, confidence]</td>\n      <td>[Comedy]</td>\n    </tr>\n  </tbody>\n</table>\n</div>"
     },
     "execution_count": 76,
     "metadata": {},
     "output_type": "execute_result"
    }
   ],
   "source": [
    "features = ['cast', 'crew', 'keywords', 'genres']\n",
    "for feature in features:\n",
    "    movie_metadata[feature] = movie_metadata[feature].apply(literal_eval)\n",
    "\n",
    "def get_director(x):\n",
    "    for i in x:\n",
    "        if i['job'] == 'Director':\n",
    "            return i['name']\n",
    "    return np.nan\n",
    "\n",
    "def get_list(x):\n",
    "    if isinstance(x, list):\n",
    "        names = [i['name'] for i in x]\n",
    "        if len(names) > 3:\n",
    "            names = names[:3]\n",
    "        return names\n",
    "    return []\n",
    "\n",
    "movie_metadata['director'] = movie_metadata['crew'].apply(get_director)\n",
    "features = ['cast', 'keywords', 'genres']\n",
    "for feature in features:\n",
    "    movie_metadata[feature] = movie_metadata[feature].apply(get_list)\n",
    "\n",
    "movie_metadata[['id', 'title', 'cast', 'director', 'keywords', 'genres']].head()"
   ],
   "metadata": {
    "collapsed": false,
    "ExecuteTime": {
     "end_time": "2024-04-08T16:25:20.578241Z",
     "start_time": "2024-04-08T16:24:54.339300Z"
    }
   }
  },
  {
   "cell_type": "code",
   "execution_count": 77,
   "outputs": [
    {
     "data": {
      "text/plain": "      id                        title  \\\n0    862                    Toy Story   \n1   8844                      Jumanji   \n2  15602             Grumpier Old Men   \n3  31357            Waiting to Exhale   \n4  11862  Father of the Bride Part II   \n\n                                             cast        director  \\\n0                [tomhanks, timallen, donrickles]    johnlasseter   \n1     [robinwilliams, jonathanhyde, kirstendunst]     joejohnston   \n2        [waltermatthau, jacklemmon, ann-margret]    howarddeutch   \n3  [whitneyhouston, angelabassett, lorettadevine]  forestwhitaker   \n4         [stevemartin, dianekeaton, martinshort]    charlesshyer   \n\n                                            keywords  \\\n0                               [jealousy, toy, boy]   \n1  [boardgame, disappearance, basedonchildren'sbook]   \n2        [fishing, bestfriend, duringcreditsstinger]   \n3  [basedonnovel, interracialrelationship, single...   \n4                  [baby, midlifecrisis, confidence]   \n\n                         genres  \n0   [animation, comedy, family]  \n1  [adventure, fantasy, family]  \n2             [romance, comedy]  \n3      [comedy, drama, romance]  \n4                      [comedy]  ",
      "text/html": "<div>\n<style scoped>\n    .dataframe tbody tr th:only-of-type {\n        vertical-align: middle;\n    }\n\n    .dataframe tbody tr th {\n        vertical-align: top;\n    }\n\n    .dataframe thead th {\n        text-align: right;\n    }\n</style>\n<table border=\"1\" class=\"dataframe\">\n  <thead>\n    <tr style=\"text-align: right;\">\n      <th></th>\n      <th>id</th>\n      <th>title</th>\n      <th>cast</th>\n      <th>director</th>\n      <th>keywords</th>\n      <th>genres</th>\n    </tr>\n  </thead>\n  <tbody>\n    <tr>\n      <th>0</th>\n      <td>862</td>\n      <td>Toy Story</td>\n      <td>[tomhanks, timallen, donrickles]</td>\n      <td>johnlasseter</td>\n      <td>[jealousy, toy, boy]</td>\n      <td>[animation, comedy, family]</td>\n    </tr>\n    <tr>\n      <th>1</th>\n      <td>8844</td>\n      <td>Jumanji</td>\n      <td>[robinwilliams, jonathanhyde, kirstendunst]</td>\n      <td>joejohnston</td>\n      <td>[boardgame, disappearance, basedonchildren'sbook]</td>\n      <td>[adventure, fantasy, family]</td>\n    </tr>\n    <tr>\n      <th>2</th>\n      <td>15602</td>\n      <td>Grumpier Old Men</td>\n      <td>[waltermatthau, jacklemmon, ann-margret]</td>\n      <td>howarddeutch</td>\n      <td>[fishing, bestfriend, duringcreditsstinger]</td>\n      <td>[romance, comedy]</td>\n    </tr>\n    <tr>\n      <th>3</th>\n      <td>31357</td>\n      <td>Waiting to Exhale</td>\n      <td>[whitneyhouston, angelabassett, lorettadevine]</td>\n      <td>forestwhitaker</td>\n      <td>[basedonnovel, interracialrelationship, single...</td>\n      <td>[comedy, drama, romance]</td>\n    </tr>\n    <tr>\n      <th>4</th>\n      <td>11862</td>\n      <td>Father of the Bride Part II</td>\n      <td>[stevemartin, dianekeaton, martinshort]</td>\n      <td>charlesshyer</td>\n      <td>[baby, midlifecrisis, confidence]</td>\n      <td>[comedy]</td>\n    </tr>\n  </tbody>\n</table>\n</div>"
     },
     "execution_count": 77,
     "metadata": {},
     "output_type": "execute_result"
    }
   ],
   "source": [
    "def clean_data(x):\n",
    "    if isinstance(x, list):\n",
    "        return [str.lower(i.replace(\" \", \"\")) for i in x]\n",
    "    else:\n",
    "        if isinstance(x, str):\n",
    "            return str.lower(x.replace(\" \", \"\"))\n",
    "        else:\n",
    "            return ''\n",
    "\n",
    "features = ['cast', 'keywords', 'director', 'genres']\n",
    "for feature in features:\n",
    "    movie_metadata[feature] = movie_metadata[feature].apply(clean_data)\n",
    "\n",
    "movie_metadata[['id', 'title', 'cast', 'director', 'keywords', 'genres']].head()"
   ],
   "metadata": {
    "collapsed": false,
    "ExecuteTime": {
     "end_time": "2024-04-08T16:25:20.761152Z",
     "start_time": "2024-04-08T16:25:20.624520Z"
    }
   }
  },
  {
   "cell_type": "code",
   "execution_count": 78,
   "outputs": [
    {
     "data": {
      "text/plain": "                                                soup\n0  jealousy toy boy tomhanks timallen donrickles ...\n1  boardgame disappearance basedonchildren'sbook ...\n2  fishing bestfriend duringcreditsstinger walter...\n3  basedonnovel interracialrelationship singlemot...\n4  baby midlifecrisis confidence stevemartin dian...",
      "text/html": "<div>\n<style scoped>\n    .dataframe tbody tr th:only-of-type {\n        vertical-align: middle;\n    }\n\n    .dataframe tbody tr th {\n        vertical-align: top;\n    }\n\n    .dataframe thead th {\n        text-align: right;\n    }\n</style>\n<table border=\"1\" class=\"dataframe\">\n  <thead>\n    <tr style=\"text-align: right;\">\n      <th></th>\n      <th>soup</th>\n    </tr>\n  </thead>\n  <tbody>\n    <tr>\n      <th>0</th>\n      <td>jealousy toy boy tomhanks timallen donrickles ...</td>\n    </tr>\n    <tr>\n      <th>1</th>\n      <td>boardgame disappearance basedonchildren'sbook ...</td>\n    </tr>\n    <tr>\n      <th>2</th>\n      <td>fishing bestfriend duringcreditsstinger walter...</td>\n    </tr>\n    <tr>\n      <th>3</th>\n      <td>basedonnovel interracialrelationship singlemot...</td>\n    </tr>\n    <tr>\n      <th>4</th>\n      <td>baby midlifecrisis confidence stevemartin dian...</td>\n    </tr>\n  </tbody>\n</table>\n</div>"
     },
     "execution_count": 78,
     "metadata": {},
     "output_type": "execute_result"
    }
   ],
   "source": [
    "def create_soup(x):\n",
    "    return ' '.join(x['keywords']) + ' ' + ' '.join(x['cast']) + ' ' + x['director'] + ' ' + ' '.join(x['genres'])\n",
    "\n",
    "movie_metadata['soup'] = movie_metadata.apply(create_soup, axis=1)\n",
    "movie_metadata[['soup']].head()"
   ],
   "metadata": {
    "collapsed": false,
    "ExecuteTime": {
     "end_time": "2024-04-08T16:25:21.198399Z",
     "start_time": "2024-04-08T16:25:20.762712Z"
    }
   }
  },
  {
   "cell_type": "code",
   "execution_count": 79,
   "outputs": [],
   "source": [
    "count = CountVectorizer(stop_words='english')\n",
    "count_matrix = count.fit_transform(movie_metadata['soup'])\n",
    "cosine_sim = cosine_similarity(count_matrix, count_matrix)"
   ],
   "metadata": {
    "collapsed": false,
    "ExecuteTime": {
     "end_time": "2024-04-08T16:25:41.001460Z",
     "start_time": "2024-04-08T16:25:21.280808Z"
    }
   }
  },
  {
   "cell_type": "code",
   "execution_count": 80,
   "outputs": [],
   "source": [
    "movie_metadata = movie_metadata.reset_index()\n",
    "indices = pd.Series(movie_metadata.index, index=movie_metadata['id'])\n",
    "indices = indices.sort_values(ascending=False)"
   ],
   "metadata": {
    "collapsed": false,
    "ExecuteTime": {
     "end_time": "2024-04-08T16:25:41.734372Z",
     "start_time": "2024-04-08T16:25:41.006548Z"
    }
   }
  },
  {
   "cell_type": "code",
   "execution_count": 81,
   "outputs": [],
   "source": [
    "def get_recommendations_single_movie(id, rating, user_ratings, cosine_sim=cosine_sim):\n",
    "    idx = indices[id]\n",
    "    reviewed_movie_indices = user_ratings['movieId'].tolist()\n",
    "    sim_scores = list(enumerate(cosine_sim[idx]))\n",
    "    sim_scores = [(i, score * rating) for i, score in sim_scores if i not in reviewed_movie_indices]\n",
    "    sim_scores = sorted(sim_scores, key=lambda x: x[1], reverse=True)\n",
    "    sim_scores = sim_scores[1:11]\n",
    "    movie_indices = [i[0] for i in sim_scores]\n",
    "    movie_metadata1 = movie_metadata[['id', 'title']].iloc[movie_indices]\n",
    "    sim_scores_values = [i[1] for i in sim_scores]\n",
    "    movie_metadata1['similarity_score'] = sim_scores_values\n",
    "    return movie_metadata1\n"
   ],
   "metadata": {
    "collapsed": false,
    "ExecuteTime": {
     "end_time": "2024-04-08T16:25:41.750350Z",
     "start_time": "2024-04-08T16:25:41.743953Z"
    }
   }
  },
  {
   "cell_type": "code",
   "execution_count": 82,
   "outputs": [],
   "source": [
    "def get_recommendations(user_id):\n",
    "    pred_series= []\n",
    "    user_ratings = ratings.loc[ratings['userId'] == user_id]\n",
    "    merged_ratings = pd.merge(user_ratings, movie_metadata[['id']], left_on='movieId', right_on='id', how='inner')\n",
    "    top_20_user_ratings = merged_ratings.sort_values(by='rating', ascending=False).head(20)\n",
    "    top_20_user_ratings['movieId'] = top_20_user_ratings['movieId'].astype(int)\n",
    "    top_20_movie_ids = top_20_user_ratings[['movieId', 'rating']]\n",
    "    for index, row in top_20_movie_ids.iterrows():\n",
    "        movie_id =row['movieId']\n",
    "        rating = row['rating']\n",
    "        pred_series.append(get_recommendations_single_movie(movie_id, rating, user_ratings))\n",
    "\n",
    "    df = pd.concat(pred_series)\n",
    "    return df.sort_values(by='similarity_score', ascending=False).head(10)"
   ],
   "metadata": {
    "collapsed": false,
    "ExecuteTime": {
     "end_time": "2024-04-08T16:25:41.755714Z",
     "start_time": "2024-04-08T16:25:41.753043Z"
    }
   }
  },
  {
   "cell_type": "code",
   "outputs": [
    {
     "data": {
      "text/plain": "           id                 title  similarity_score\n14270     758           Murder Ahoy          3.000000\n2331     9489       You've Got Mail          2.635231\n17131   36331             Dark City          2.500000\n12065     757      Murder Most Foul          2.500000\n8651      751  Murder at the Gallop          2.500000\n32405  351964            The Escort          2.500000\n1216      218        The Terminator          2.400000\n26066   87101    Terminator Genisys          2.400000\n442     50463             The Favor          2.390457\n34838  117340        Hello Lonesome          2.371708",
      "text/html": "<div>\n<style scoped>\n    .dataframe tbody tr th:only-of-type {\n        vertical-align: middle;\n    }\n\n    .dataframe tbody tr th {\n        vertical-align: top;\n    }\n\n    .dataframe thead th {\n        text-align: right;\n    }\n</style>\n<table border=\"1\" class=\"dataframe\">\n  <thead>\n    <tr style=\"text-align: right;\">\n      <th></th>\n      <th>id</th>\n      <th>title</th>\n      <th>similarity_score</th>\n    </tr>\n  </thead>\n  <tbody>\n    <tr>\n      <th>14270</th>\n      <td>758</td>\n      <td>Murder Ahoy</td>\n      <td>3.000000</td>\n    </tr>\n    <tr>\n      <th>2331</th>\n      <td>9489</td>\n      <td>You've Got Mail</td>\n      <td>2.635231</td>\n    </tr>\n    <tr>\n      <th>17131</th>\n      <td>36331</td>\n      <td>Dark City</td>\n      <td>2.500000</td>\n    </tr>\n    <tr>\n      <th>12065</th>\n      <td>757</td>\n      <td>Murder Most Foul</td>\n      <td>2.500000</td>\n    </tr>\n    <tr>\n      <th>8651</th>\n      <td>751</td>\n      <td>Murder at the Gallop</td>\n      <td>2.500000</td>\n    </tr>\n    <tr>\n      <th>32405</th>\n      <td>351964</td>\n      <td>The Escort</td>\n      <td>2.500000</td>\n    </tr>\n    <tr>\n      <th>1216</th>\n      <td>218</td>\n      <td>The Terminator</td>\n      <td>2.400000</td>\n    </tr>\n    <tr>\n      <th>26066</th>\n      <td>87101</td>\n      <td>Terminator Genisys</td>\n      <td>2.400000</td>\n    </tr>\n    <tr>\n      <th>442</th>\n      <td>50463</td>\n      <td>The Favor</td>\n      <td>2.390457</td>\n    </tr>\n    <tr>\n      <th>34838</th>\n      <td>117340</td>\n      <td>Hello Lonesome</td>\n      <td>2.371708</td>\n    </tr>\n  </tbody>\n</table>\n</div>"
     },
     "execution_count": 89,
     "metadata": {},
     "output_type": "execute_result"
    }
   ],
   "source": [
    "get_recommendations(5)"
   ],
   "metadata": {
    "collapsed": false,
    "ExecuteTime": {
     "end_time": "2024-04-08T16:28:48.163260Z",
     "start_time": "2024-04-08T16:28:47.743413Z"
    }
   },
   "execution_count": 89
  },
  {
   "cell_type": "code",
   "outputs": [],
   "source": [],
   "metadata": {
    "collapsed": false,
    "ExecuteTime": {
     "end_time": "2024-04-08T16:25:42.356318Z",
     "start_time": "2024-04-08T16:25:42.348282Z"
    }
   },
   "execution_count": 83
  }
 ],
 "metadata": {
  "kernelspec": {
   "display_name": "Python 3",
   "language": "python",
   "name": "python3"
  },
  "language_info": {
   "codemirror_mode": {
    "name": "ipython",
    "version": 2
   },
   "file_extension": ".py",
   "mimetype": "text/x-python",
   "name": "python",
   "nbconvert_exporter": "python",
   "pygments_lexer": "ipython2",
   "version": "2.7.6"
  }
 },
 "nbformat": 4,
 "nbformat_minor": 0
}

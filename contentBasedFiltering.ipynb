{
 "cells": [
  {
   "cell_type": "code",
   "execution_count": 1,
   "metadata": {
    "collapsed": true,
    "ExecuteTime": {
     "end_time": "2024-04-25T09:44:24.788707Z",
     "start_time": "2024-04-25T09:44:23.874220Z"
    }
   },
   "outputs": [],
   "source": [
    "import pandas as pd\n",
    "import numpy as np\n",
    "from ast import literal_eval\n",
    "from sklearn.feature_extraction.text import CountVectorizer\n",
    "from sklearn.metrics.pairwise import cosine_similarity\n",
    "from surprise import Dataset, Reader\n",
    "from sklearn.model_selection import train_test_split\n",
    "from evaluation import calculate_mse_and_rmse"
   ]
  },
  {
   "cell_type": "code",
   "execution_count": 2,
   "metadata": {
    "ExecuteTime": {
     "end_time": "2024-04-25T09:44:25.221564Z",
     "start_time": "2024-04-25T09:44:24.790542Z"
    }
   },
   "outputs": [
    {
     "data": {
      "text/plain": "(45435, 24)"
     },
     "execution_count": 2,
     "metadata": {},
     "output_type": "execute_result"
    }
   ],
   "source": [
    "movie_metadata = pd.read_csv('data/movies_metadata.csv', low_memory=False)\n",
    "movie_metadata = movie_metadata.drop_duplicates(subset='id')\n",
    "movie_metadata.shape"
   ]
  },
  {
   "cell_type": "code",
   "outputs": [
    {
     "data": {
      "text/plain": "(80003, 3)"
     },
     "execution_count": 3,
     "metadata": {},
     "output_type": "execute_result"
    }
   ],
   "source": [
    "ratings = pd.read_csv('data/ratings_small.csv', low_memory=False)\n",
    "ratings = ratings.drop('timestamp', axis=1)\n",
    "reader = Reader()\n",
    "ratings_by_users = Dataset.load_from_df(ratings[['userId', 'movieId', 'rating']], reader)\n",
    "ratings, ratings_test = train_test_split(ratings, test_size=0.2, random_state=42)\n",
    "ratings.shape"
   ],
   "metadata": {
    "collapsed": false,
    "ExecuteTime": {
     "end_time": "2024-04-25T09:44:25.306325Z",
     "start_time": "2024-04-25T09:44:25.218984Z"
    }
   },
   "execution_count": 3
  },
  {
   "cell_type": "code",
   "execution_count": 4,
   "metadata": {
    "ExecuteTime": {
     "end_time": "2024-04-25T09:44:27.133655Z",
     "start_time": "2024-04-25T09:44:25.308352Z"
    }
   },
   "outputs": [
    {
     "data": {
      "text/plain": "(46488, 27)"
     },
     "execution_count": 4,
     "metadata": {},
     "output_type": "execute_result"
    }
   ],
   "source": [
    "credits = pd.read_csv('data/credits.csv')\n",
    "keywords = pd.read_csv('data/keywords.csv')\n",
    "\n",
    "movie_metadata = movie_metadata.drop([19730, 29503, 35587])\n",
    "\n",
    "keywords['id'] = keywords['id'].astype('int')\n",
    "credits['id'] = credits['id'].astype('int')\n",
    "non_integer_rows = movie_metadata[~movie_metadata['id'].astype(str).str.isdigit()]\n",
    "movie_metadata = movie_metadata.drop(non_integer_rows.index)\n",
    "movie_metadata['id'] = movie_metadata['id'].astype(int)\n",
    "movie_metadata['id'] = movie_metadata['id'].astype('int')\n",
    "\n",
    "movie_metadata = movie_metadata.merge(credits, on='id', how='inner')\n",
    "movie_metadata = movie_metadata.merge(keywords, on='id', how='inner')\n",
    "movie_metadata.shape"
   ]
  },
  {
   "cell_type": "code",
   "execution_count": 5,
   "metadata": {
    "ExecuteTime": {
     "end_time": "2024-04-25T09:44:52.660056Z",
     "start_time": "2024-04-25T09:44:27.184990Z"
    }
   },
   "outputs": [
    {
     "data": {
      "text/plain": "      id                        title  \\\n0    862                    Toy Story   \n1   8844                      Jumanji   \n2  15602             Grumpier Old Men   \n3  31357            Waiting to Exhale   \n4  11862  Father of the Bride Part II   \n\n                                                cast         director  \\\n0                [Tom Hanks, Tim Allen, Don Rickles]    John Lasseter   \n1     [Robin Williams, Jonathan Hyde, Kirsten Dunst]     Joe Johnston   \n2         [Walter Matthau, Jack Lemmon, Ann-Margret]    Howard Deutch   \n3  [Whitney Houston, Angela Bassett, Loretta Devine]  Forest Whitaker   \n4         [Steve Martin, Diane Keaton, Martin Short]    Charles Shyer   \n\n                                            keywords  \\\n0                               [jealousy, toy, boy]   \n1  [board game, disappearance, based on children'...   \n2       [fishing, best friend, duringcreditsstinger]   \n3  [based on novel, interracial relationship, sin...   \n4                 [baby, midlife crisis, confidence]   \n\n                         genres  \n0   [Animation, Comedy, Family]  \n1  [Adventure, Fantasy, Family]  \n2             [Romance, Comedy]  \n3      [Comedy, Drama, Romance]  \n4                      [Comedy]  ",
      "text/html": "<div>\n<style scoped>\n    .dataframe tbody tr th:only-of-type {\n        vertical-align: middle;\n    }\n\n    .dataframe tbody tr th {\n        vertical-align: top;\n    }\n\n    .dataframe thead th {\n        text-align: right;\n    }\n</style>\n<table border=\"1\" class=\"dataframe\">\n  <thead>\n    <tr style=\"text-align: right;\">\n      <th></th>\n      <th>id</th>\n      <th>title</th>\n      <th>cast</th>\n      <th>director</th>\n      <th>keywords</th>\n      <th>genres</th>\n    </tr>\n  </thead>\n  <tbody>\n    <tr>\n      <th>0</th>\n      <td>862</td>\n      <td>Toy Story</td>\n      <td>[Tom Hanks, Tim Allen, Don Rickles]</td>\n      <td>John Lasseter</td>\n      <td>[jealousy, toy, boy]</td>\n      <td>[Animation, Comedy, Family]</td>\n    </tr>\n    <tr>\n      <th>1</th>\n      <td>8844</td>\n      <td>Jumanji</td>\n      <td>[Robin Williams, Jonathan Hyde, Kirsten Dunst]</td>\n      <td>Joe Johnston</td>\n      <td>[board game, disappearance, based on children'...</td>\n      <td>[Adventure, Fantasy, Family]</td>\n    </tr>\n    <tr>\n      <th>2</th>\n      <td>15602</td>\n      <td>Grumpier Old Men</td>\n      <td>[Walter Matthau, Jack Lemmon, Ann-Margret]</td>\n      <td>Howard Deutch</td>\n      <td>[fishing, best friend, duringcreditsstinger]</td>\n      <td>[Romance, Comedy]</td>\n    </tr>\n    <tr>\n      <th>3</th>\n      <td>31357</td>\n      <td>Waiting to Exhale</td>\n      <td>[Whitney Houston, Angela Bassett, Loretta Devine]</td>\n      <td>Forest Whitaker</td>\n      <td>[based on novel, interracial relationship, sin...</td>\n      <td>[Comedy, Drama, Romance]</td>\n    </tr>\n    <tr>\n      <th>4</th>\n      <td>11862</td>\n      <td>Father of the Bride Part II</td>\n      <td>[Steve Martin, Diane Keaton, Martin Short]</td>\n      <td>Charles Shyer</td>\n      <td>[baby, midlife crisis, confidence]</td>\n      <td>[Comedy]</td>\n    </tr>\n  </tbody>\n</table>\n</div>"
     },
     "execution_count": 5,
     "metadata": {},
     "output_type": "execute_result"
    }
   ],
   "source": [
    "features = ['cast', 'crew', 'keywords', 'genres']\n",
    "for feature in features:\n",
    "    movie_metadata[feature] = movie_metadata[feature].apply(literal_eval)\n",
    "\n",
    "\n",
    "def get_director(x):\n",
    "    for i in x:\n",
    "        if i['job'] == 'Director':\n",
    "            return i['name']\n",
    "    return np.nan\n",
    "\n",
    "\n",
    "def get_list(x):\n",
    "    if isinstance(x, list):\n",
    "        names = [i['name'] for i in x]\n",
    "        if len(names) > 3:\n",
    "            names = names[:3]\n",
    "        return names\n",
    "    return []\n",
    "\n",
    "\n",
    "movie_metadata['director'] = movie_metadata['crew'].apply(get_director)\n",
    "features = ['cast', 'keywords', 'genres']\n",
    "for feature in features:\n",
    "    movie_metadata[feature] = movie_metadata[feature].apply(get_list)\n",
    "\n",
    "movie_metadata[['id', 'title', 'cast', 'director', 'keywords', 'genres']].head()"
   ]
  },
  {
   "cell_type": "code",
   "execution_count": 6,
   "metadata": {
    "ExecuteTime": {
     "end_time": "2024-04-25T09:44:53.112266Z",
     "start_time": "2024-04-25T09:44:52.661722Z"
    }
   },
   "outputs": [
    {
     "data": {
      "text/plain": "      id                        title  \\\n0    862                    Toy Story   \n1   8844                      Jumanji   \n2  15602             Grumpier Old Men   \n3  31357            Waiting to Exhale   \n4  11862  Father of the Bride Part II   \n\n                                             cast        director  \\\n0                [tomhanks, timallen, donrickles]    johnlasseter   \n1     [robinwilliams, jonathanhyde, kirstendunst]     joejohnston   \n2        [waltermatthau, jacklemmon, ann-margret]    howarddeutch   \n3  [whitneyhouston, angelabassett, lorettadevine]  forestwhitaker   \n4         [stevemartin, dianekeaton, martinshort]    charlesshyer   \n\n                                            keywords  \\\n0                               [jealousy, toy, boy]   \n1  [boardgame, disappearance, basedonchildren'sbook]   \n2        [fishing, bestfriend, duringcreditsstinger]   \n3  [basedonnovel, interracialrelationship, single...   \n4                  [baby, midlifecrisis, confidence]   \n\n                         genres  \n0   [animation, comedy, family]  \n1  [adventure, fantasy, family]  \n2             [romance, comedy]  \n3      [comedy, drama, romance]  \n4                      [comedy]  ",
      "text/html": "<div>\n<style scoped>\n    .dataframe tbody tr th:only-of-type {\n        vertical-align: middle;\n    }\n\n    .dataframe tbody tr th {\n        vertical-align: top;\n    }\n\n    .dataframe thead th {\n        text-align: right;\n    }\n</style>\n<table border=\"1\" class=\"dataframe\">\n  <thead>\n    <tr style=\"text-align: right;\">\n      <th></th>\n      <th>id</th>\n      <th>title</th>\n      <th>cast</th>\n      <th>director</th>\n      <th>keywords</th>\n      <th>genres</th>\n    </tr>\n  </thead>\n  <tbody>\n    <tr>\n      <th>0</th>\n      <td>862</td>\n      <td>Toy Story</td>\n      <td>[tomhanks, timallen, donrickles]</td>\n      <td>johnlasseter</td>\n      <td>[jealousy, toy, boy]</td>\n      <td>[animation, comedy, family]</td>\n    </tr>\n    <tr>\n      <th>1</th>\n      <td>8844</td>\n      <td>Jumanji</td>\n      <td>[robinwilliams, jonathanhyde, kirstendunst]</td>\n      <td>joejohnston</td>\n      <td>[boardgame, disappearance, basedonchildren'sbook]</td>\n      <td>[adventure, fantasy, family]</td>\n    </tr>\n    <tr>\n      <th>2</th>\n      <td>15602</td>\n      <td>Grumpier Old Men</td>\n      <td>[waltermatthau, jacklemmon, ann-margret]</td>\n      <td>howarddeutch</td>\n      <td>[fishing, bestfriend, duringcreditsstinger]</td>\n      <td>[romance, comedy]</td>\n    </tr>\n    <tr>\n      <th>3</th>\n      <td>31357</td>\n      <td>Waiting to Exhale</td>\n      <td>[whitneyhouston, angelabassett, lorettadevine]</td>\n      <td>forestwhitaker</td>\n      <td>[basedonnovel, interracialrelationship, single...</td>\n      <td>[comedy, drama, romance]</td>\n    </tr>\n    <tr>\n      <th>4</th>\n      <td>11862</td>\n      <td>Father of the Bride Part II</td>\n      <td>[stevemartin, dianekeaton, martinshort]</td>\n      <td>charlesshyer</td>\n      <td>[baby, midlifecrisis, confidence]</td>\n      <td>[comedy]</td>\n    </tr>\n  </tbody>\n</table>\n</div>"
     },
     "execution_count": 6,
     "metadata": {},
     "output_type": "execute_result"
    }
   ],
   "source": [
    "def clean_data(x):\n",
    "    if isinstance(x, list):\n",
    "        return [str.lower(i.replace(\" \", \"\")) for i in x]\n",
    "    else:\n",
    "        if isinstance(x, str):\n",
    "            return str.lower(x.replace(\" \", \"\"))\n",
    "        else:\n",
    "            return ''\n",
    "\n",
    "\n",
    "features = ['cast', 'keywords', 'director', 'genres']\n",
    "for feature in features:\n",
    "    movie_metadata[feature] = movie_metadata[feature].apply(clean_data)\n",
    "\n",
    "movie_metadata[['id', 'title', 'cast', 'director', 'keywords', 'genres']].head()"
   ]
  },
  {
   "cell_type": "code",
   "execution_count": 7,
   "metadata": {
    "ExecuteTime": {
     "end_time": "2024-04-25T09:44:53.547792Z",
     "start_time": "2024-04-25T09:44:53.109805Z"
    }
   },
   "outputs": [
    {
     "data": {
      "text/plain": "                                                soup\n0  jealousy toy boy tomhanks timallen donrickles ...\n1  boardgame disappearance basedonchildren'sbook ...\n2  fishing bestfriend duringcreditsstinger walter...\n3  basedonnovel interracialrelationship singlemot...\n4  baby midlifecrisis confidence stevemartin dian...",
      "text/html": "<div>\n<style scoped>\n    .dataframe tbody tr th:only-of-type {\n        vertical-align: middle;\n    }\n\n    .dataframe tbody tr th {\n        vertical-align: top;\n    }\n\n    .dataframe thead th {\n        text-align: right;\n    }\n</style>\n<table border=\"1\" class=\"dataframe\">\n  <thead>\n    <tr style=\"text-align: right;\">\n      <th></th>\n      <th>soup</th>\n    </tr>\n  </thead>\n  <tbody>\n    <tr>\n      <th>0</th>\n      <td>jealousy toy boy tomhanks timallen donrickles ...</td>\n    </tr>\n    <tr>\n      <th>1</th>\n      <td>boardgame disappearance basedonchildren'sbook ...</td>\n    </tr>\n    <tr>\n      <th>2</th>\n      <td>fishing bestfriend duringcreditsstinger walter...</td>\n    </tr>\n    <tr>\n      <th>3</th>\n      <td>basedonnovel interracialrelationship singlemot...</td>\n    </tr>\n    <tr>\n      <th>4</th>\n      <td>baby midlifecrisis confidence stevemartin dian...</td>\n    </tr>\n  </tbody>\n</table>\n</div>"
     },
     "execution_count": 7,
     "metadata": {},
     "output_type": "execute_result"
    }
   ],
   "source": [
    "def create_soup(x):\n",
    "    return ' '.join(x['keywords']) + ' ' + ' '.join(x['cast']) + ' ' + x['director'] + ' ' + ' '.join(x['genres'])\n",
    "\n",
    "\n",
    "movie_metadata['soup'] = movie_metadata.apply(create_soup, axis=1)\n",
    "movie_metadata[['soup']].head()"
   ]
  },
  {
   "cell_type": "code",
   "execution_count": 8,
   "metadata": {
    "collapsed": false,
    "ExecuteTime": {
     "end_time": "2024-04-25T09:44:53.990204Z",
     "start_time": "2024-04-25T09:44:53.600174Z"
    }
   },
   "outputs": [
    {
     "data": {
      "text/plain": "(46488, 73881)"
     },
     "execution_count": 8,
     "metadata": {},
     "output_type": "execute_result"
    }
   ],
   "source": [
    "count = CountVectorizer(stop_words='english')\n",
    "count_matrix = count.fit_transform(movie_metadata['soup'])\n",
    "count_matrix.shape"
   ]
  },
  {
   "cell_type": "code",
   "outputs": [
    {
     "data": {
      "text/plain": "(46488, 46488)"
     },
     "execution_count": 9,
     "metadata": {},
     "output_type": "execute_result"
    }
   ],
   "source": [
    "cosine_sim = cosine_similarity(count_matrix, count_matrix)\n",
    "cosine_sim.shape"
   ],
   "metadata": {
    "ExecuteTime": {
     "end_time": "2024-04-25T09:45:13.403636Z",
     "start_time": "2024-04-25T09:44:53.988139Z"
    }
   },
   "execution_count": 9
  },
  {
   "cell_type": "code",
   "execution_count": 10,
   "metadata": {
    "ExecuteTime": {
     "end_time": "2024-04-25T09:45:14.243799Z",
     "start_time": "2024-04-25T09:45:13.423619Z"
    }
   },
   "outputs": [],
   "source": [
    "movie_metadata = movie_metadata.reset_index()\n",
    "indices = pd.Series(movie_metadata.index, index=movie_metadata['id'])\n",
    "indices = indices.sort_values(ascending=False)"
   ]
  },
  {
   "cell_type": "code",
   "execution_count": 11,
   "metadata": {
    "ExecuteTime": {
     "end_time": "2024-04-25T09:45:14.263702Z",
     "start_time": "2024-04-25T09:45:14.259576Z"
    }
   },
   "outputs": [],
   "source": [
    "def estimate(user_id, movies):\n",
    "    user_ratings = pd.merge(ratings[ratings['userId'] == user_id],\n",
    "                            movie_metadata[['id', 'title']],\n",
    "                            left_on='movieId',\n",
    "                            right_on='id',\n",
    "                            how='inner')\n",
    "    user_ratings = user_ratings.drop('id', axis=1)\n",
    "    user_ratings['movieId'] = user_ratings['movieId'].astype(int)\n",
    "\n",
    "    reviewed_movie_ids = set(user_ratings['movieId'])\n",
    "    pred_series = []\n",
    "    for movie_id in movies['id']:\n",
    "        if movie_id in reviewed_movie_ids:\n",
    "            continue\n",
    "        simTotal = weightedSum = 0\n",
    "        sim_scores_row = list(enumerate(cosine_sim[indices[movie_id]]))\n",
    "        for reviewed_id in reviewed_movie_ids:\n",
    "            idx = indices[reviewed_id]\n",
    "            if len(sim_scores_row) < 46488:\n",
    "                continue\n",
    "            if type(idx) != np.int64:\n",
    "                continue\n",
    "            sim_score = sim_scores_row[idx]\n",
    "            simTotal += float(sim_score[1])\n",
    "            weightedSum += float(sim_score[1]) * float(user_ratings[user_ratings['movieId'] == reviewed_id]['rating'])\n",
    "        predictedRating = weightedSum / simTotal if simTotal != 0 else 0\n",
    "        pred_series.append((movie_id, predictedRating))\n",
    "\n",
    "    pred_series = sorted(pred_series, key=lambda x: x[1], reverse=True)[:10]\n",
    "    return pred_series"
   ]
  },
  {
   "cell_type": "code",
   "execution_count": 20,
   "metadata": {
    "ExecuteTime": {
     "end_time": "2024-04-25T12:31:42.557837Z",
     "start_time": "2024-04-25T12:31:42.527558Z"
    }
   },
   "outputs": [],
   "source": [
    "def get_recommendations_single_movie(id, rating, cosine_sim=cosine_sim):\n",
    "    idx = indices[id]\n",
    "    sim_scores = list(enumerate(cosine_sim[idx]))\n",
    "    sim_scores = [(i, score * rating) for i, score in sim_scores]\n",
    "    sim_scores = sorted(sim_scores, key=lambda x: x[1].any(), reverse=True)\n",
    "    sim_scores = sim_scores[1:11]\n",
    "    movie_indices = [i[0] for i in sim_scores]\n",
    "    movie_metadata1 = movie_metadata[['id', 'title']].iloc[movie_indices]\n",
    "    sim_scores_values = [i[1] for i in sim_scores]\n",
    "    movie_metadata1['similarity_score'] = sim_scores_values\n",
    "    return movie_metadata1"
   ]
  },
  {
   "cell_type": "code",
   "execution_count": 36,
   "metadata": {
    "ExecuteTime": {
     "end_time": "2024-04-25T13:13:19.964810Z",
     "start_time": "2024-04-25T13:13:19.958550Z"
    }
   },
   "outputs": [],
   "source": [
    "def get_recommendations(user_id):\n",
    "    pred_series = []\n",
    "    user_ratings = ratings.loc[ratings['userId'] == user_id]\n",
    "    merged_ratings = pd.merge(user_ratings, movie_metadata[['id']], left_on='movieId', right_on='id', how='inner')\n",
    "    top_10_user_ratings = merged_ratings.sort_values(by='rating', ascending=False).head(10)\n",
    "    top_10_user_ratings['movieId'] = top_10_user_ratings['movieId'].astype(int)\n",
    "    top_10_movie_ids = top_10_user_ratings[['movieId', 'rating']]\n",
    "    for index, row in top_10_movie_ids.iterrows():\n",
    "        movie_id = row['movieId']\n",
    "        rating = row['rating']\n",
    "        pred_series.append(get_recommendations_single_movie(movie_id, rating))\n",
    "    df = pd.concat(pred_series)\n",
    "    df = df.drop_duplicates(subset=['id'])\n",
    "    df = df[pd.to_numeric(df['similarity_score'], errors='coerce').notnull()]\n",
    "    df = df.sort_values(by='similarity_score', ascending=False)\n",
    "    return pd.merge(pd.DataFrame(estimate(user_id, df),\n",
    "                                 columns=['id', 'predicted_rating']), movie_metadata[['id', 'title']], on='id',\n",
    "                    how='inner')"
   ]
  },
  {
   "cell_type": "code",
   "execution_count": 37,
   "metadata": {
    "ExecuteTime": {
     "end_time": "2024-04-25T13:13:23.243285Z",
     "start_time": "2024-04-25T13:13:20.779872Z"
    }
   },
   "outputs": [
    {
     "data": {
      "text/plain": "       id  predicted_rating                                     title\n0     688          4.706212             The Bridges of Madison County\n1  146599          4.643835  Once Upon a Time... When We Were Colored\n2  139408          4.640522               The Stars Fell on Henrietta\n3   10858          4.637478                                     Nixon\n4   16420          4.609466                                   Othello\n5     451          4.603140                         Leaving Las Vegas\n6   34444          4.585038               Even Cowgirls Get the Blues\n7    9087          4.573957                    The American President\n8    4584          4.571015                     Sense and Sensibility\n9     524          4.549924                                    Casino",
      "text/html": "<div>\n<style scoped>\n    .dataframe tbody tr th:only-of-type {\n        vertical-align: middle;\n    }\n\n    .dataframe tbody tr th {\n        vertical-align: top;\n    }\n\n    .dataframe thead th {\n        text-align: right;\n    }\n</style>\n<table border=\"1\" class=\"dataframe\">\n  <thead>\n    <tr style=\"text-align: right;\">\n      <th></th>\n      <th>id</th>\n      <th>predicted_rating</th>\n      <th>title</th>\n    </tr>\n  </thead>\n  <tbody>\n    <tr>\n      <th>0</th>\n      <td>688</td>\n      <td>4.706212</td>\n      <td>The Bridges of Madison County</td>\n    </tr>\n    <tr>\n      <th>1</th>\n      <td>146599</td>\n      <td>4.643835</td>\n      <td>Once Upon a Time... When We Were Colored</td>\n    </tr>\n    <tr>\n      <th>2</th>\n      <td>139408</td>\n      <td>4.640522</td>\n      <td>The Stars Fell on Henrietta</td>\n    </tr>\n    <tr>\n      <th>3</th>\n      <td>10858</td>\n      <td>4.637478</td>\n      <td>Nixon</td>\n    </tr>\n    <tr>\n      <th>4</th>\n      <td>16420</td>\n      <td>4.609466</td>\n      <td>Othello</td>\n    </tr>\n    <tr>\n      <th>5</th>\n      <td>451</td>\n      <td>4.603140</td>\n      <td>Leaving Las Vegas</td>\n    </tr>\n    <tr>\n      <th>6</th>\n      <td>34444</td>\n      <td>4.585038</td>\n      <td>Even Cowgirls Get the Blues</td>\n    </tr>\n    <tr>\n      <th>7</th>\n      <td>9087</td>\n      <td>4.573957</td>\n      <td>The American President</td>\n    </tr>\n    <tr>\n      <th>8</th>\n      <td>4584</td>\n      <td>4.571015</td>\n      <td>Sense and Sensibility</td>\n    </tr>\n    <tr>\n      <th>9</th>\n      <td>524</td>\n      <td>4.549924</td>\n      <td>Casino</td>\n    </tr>\n  </tbody>\n</table>\n</div>"
     },
     "execution_count": 37,
     "metadata": {},
     "output_type": "execute_result"
    }
   ],
   "source": [
    "get_recommendations(222)"
   ]
  },
  {
   "cell_type": "code",
   "outputs": [],
   "source": [
    "data = []\n",
    "ratings_test = pd.merge(ratings_test, movie_metadata[['id']], left_on='movieId', right_on='id', how='inner')\n",
    "\n",
    "for index, row in ratings_test.iterrows():\n",
    "    user_id = row['userId']\n",
    "    movie_id = row['movieId']\n",
    "    rating = row['rating']\n",
    "    predicted = estimate(user_id, movie_metadata[movie_metadata['id'] == movie_id])[0][1]\n",
    "    data.append((rating, predicted))"
   ],
   "metadata": {
    "collapsed": false,
    "ExecuteTime": {
     "end_time": "2024-04-24T14:39:26.004443Z",
     "start_time": "2024-04-24T14:34:31.089871Z"
    }
   },
   "execution_count": 15
  },
  {
   "cell_type": "code",
   "outputs": [
    {
     "name": "stdout",
     "output_type": "stream",
     "text": [
      "MSE: 1.1192448209297041\n",
      "RMSE: 1.0579436756886937\n"
     ]
    }
   ],
   "source": [
    "mse, rmse = calculate_mse_and_rmse(data)\n",
    "print(\"MSE:\", mse)\n",
    "print(\"RMSE:\", rmse)"
   ],
   "metadata": {
    "collapsed": false,
    "ExecuteTime": {
     "end_time": "2024-04-24T14:39:26.012439Z",
     "start_time": "2024-04-24T14:39:26.004706Z"
    }
   },
   "execution_count": 16
  },
  {
   "cell_type": "code",
   "outputs": [
    {
     "name": "stderr",
     "output_type": "stream",
     "text": [
      "/var/folders/p8/ty6b1zbn4tq7l692h6f8ncpw0000gn/T/ipykernel_4566/2165720894.py:2: FutureWarning: Passing 'suffixes' which cause duplicate columns {'id_x'} in the result is deprecated and will raise a MergeError in a future version.\n",
      "  ratings_test = pd.merge(ratings_test, movie_metadata[['id']], left_on='movieId', right_on='id', how='inner')\n"
     ]
    },
    {
     "name": "stdout",
     "output_type": "stream",
     "text": [
      "HitRatio:  0.8757668711656442\n",
      "Hit: 571\n",
      "Total:  652\n"
     ]
    }
   ],
   "source": [
    "user_ids = ratings_test['userId'].unique()\n",
    "ratings_test = pd.merge(ratings_test, movie_metadata[['id']], left_on='movieId', right_on='id', how='inner')\n",
    "total, hit = 0, 0\n",
    "for user_id in user_ids:\n",
    "    first_row = get_recommendations(user_id).iloc[0] \n",
    "    predicted_rating = first_row['predicted_rating'] \n",
    "    total = total + 1\n",
    "    if predicted_rating > 3.5:\n",
    "        hit = hit + 1\n",
    "print(\"HitRatio: \", hit / total)\n",
    "print(\"Hit:\", hit)\n",
    "print(\"Total: \", total)"
   ],
   "metadata": {
    "collapsed": false,
    "ExecuteTime": {
     "end_time": "2024-04-25T14:15:27.444910Z",
     "start_time": "2024-04-25T13:48:31.959806Z"
    }
   },
   "execution_count": 40
  },
  {
   "cell_type": "code",
   "outputs": [],
   "source": [],
   "metadata": {
    "collapsed": false
   }
  }
 ],
 "metadata": {
  "kernelspec": {
   "display_name": "Python 3 (ipykernel)",
   "language": "python",
   "name": "python3"
  },
  "language_info": {
   "codemirror_mode": {
    "name": "ipython",
    "version": 3
   },
   "file_extension": ".py",
   "mimetype": "text/x-python",
   "name": "python",
   "nbconvert_exporter": "python",
   "pygments_lexer": "ipython3",
   "version": "3.10.9"
  }
 },
 "nbformat": 4,
 "nbformat_minor": 1
}

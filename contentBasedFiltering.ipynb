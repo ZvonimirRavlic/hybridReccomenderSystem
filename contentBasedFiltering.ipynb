{
 "cells": [
  {
   "cell_type": "code",
   "execution_count": 125,
   "metadata": {
    "collapsed": true,
    "ExecuteTime": {
     "end_time": "2024-04-17T17:16:27.210675Z",
     "start_time": "2024-04-17T17:16:27.194788Z"
    }
   },
   "outputs": [],
   "source": [
    "import pandas as pd\n",
    "import numpy as np\n",
    "from ast import literal_eval\n",
    "from sklearn.feature_extraction.text import CountVectorizer\n",
    "from sklearn.metrics.pairwise import cosine_similarity\n",
    "from surprise import Dataset, Reader\n",
    "from sklearn.model_selection import train_test_split\n",
    "from evaluation import calculate_mse_and_rmse"
   ]
  },
  {
   "cell_type": "code",
   "execution_count": 126,
   "metadata": {
    "ExecuteTime": {
     "end_time": "2024-04-17T17:16:28.551667Z",
     "start_time": "2024-04-17T17:16:27.200122Z"
    }
   },
   "outputs": [
    {
     "data": {
      "text/plain": "(45435, 24)"
     },
     "execution_count": 126,
     "metadata": {},
     "output_type": "execute_result"
    }
   ],
   "source": [
    "movie_metadata = pd.read_csv('data/movies_metadata.csv', low_memory=False)\n",
    "movie_metadata = movie_metadata.drop_duplicates(subset='id')\n",
    "movie_metadata.shape"
   ]
  },
  {
   "cell_type": "code",
   "outputs": [
    {
     "data": {
      "text/plain": "(25503803, 3)"
     },
     "execution_count": 127,
     "metadata": {},
     "output_type": "execute_result"
    }
   ],
   "source": [
    "ratings = pd.read_csv('data/ratings.csv', low_memory=False)\n",
    "ratings = ratings.drop('timestamp', axis=1)\n",
    "reader = Reader()\n",
    "ratings_by_users = Dataset.load_from_df(ratings[['userId', 'movieId', 'rating']], reader)\n",
    "ratings, ratings_test = train_test_split(ratings, test_size=0.02, random_state=42)\n",
    "ratings.shape"
   ],
   "metadata": {
    "collapsed": false,
    "ExecuteTime": {
     "end_time": "2024-04-17T17:17:04.455250Z",
     "start_time": "2024-04-17T17:16:28.552841Z"
    }
   },
   "execution_count": 127
  },
  {
   "cell_type": "code",
   "execution_count": 128,
   "metadata": {
    "ExecuteTime": {
     "end_time": "2024-04-17T17:17:07.268897Z",
     "start_time": "2024-04-17T17:17:04.455600Z"
    }
   },
   "outputs": [
    {
     "data": {
      "text/plain": "(46488, 27)"
     },
     "execution_count": 128,
     "metadata": {},
     "output_type": "execute_result"
    }
   ],
   "source": [
    "credits = pd.read_csv('data/credits.csv')\n",
    "keywords = pd.read_csv('data/keywords.csv')\n",
    "\n",
    "movie_metadata = movie_metadata.drop([19730, 29503, 35587])\n",
    "\n",
    "keywords['id'] = keywords['id'].astype('int')\n",
    "credits['id'] = credits['id'].astype('int')\n",
    "non_integer_rows = movie_metadata[~movie_metadata['id'].astype(str).str.isdigit()]\n",
    "movie_metadata = movie_metadata.drop(non_integer_rows.index)\n",
    "movie_metadata['id'] = movie_metadata['id'].astype(int)\n",
    "movie_metadata['id'] = movie_metadata['id'].astype('int')\n",
    "\n",
    "movie_metadata = movie_metadata.merge(credits, on='id', how='inner')\n",
    "movie_metadata = movie_metadata.merge(keywords, on='id', how='inner')\n",
    "movie_metadata.shape"
   ]
  },
  {
   "cell_type": "code",
   "execution_count": 129,
   "metadata": {
    "ExecuteTime": {
     "end_time": "2024-04-17T17:17:41.069623Z",
     "start_time": "2024-04-17T17:17:07.338311Z"
    }
   },
   "outputs": [
    {
     "data": {
      "text/plain": "      id                        title  \\\n0    862                    Toy Story   \n1   8844                      Jumanji   \n2  15602             Grumpier Old Men   \n3  31357            Waiting to Exhale   \n4  11862  Father of the Bride Part II   \n\n                                                cast         director  \\\n0                [Tom Hanks, Tim Allen, Don Rickles]    John Lasseter   \n1     [Robin Williams, Jonathan Hyde, Kirsten Dunst]     Joe Johnston   \n2         [Walter Matthau, Jack Lemmon, Ann-Margret]    Howard Deutch   \n3  [Whitney Houston, Angela Bassett, Loretta Devine]  Forest Whitaker   \n4         [Steve Martin, Diane Keaton, Martin Short]    Charles Shyer   \n\n                                            keywords  \\\n0                               [jealousy, toy, boy]   \n1  [board game, disappearance, based on children'...   \n2       [fishing, best friend, duringcreditsstinger]   \n3  [based on novel, interracial relationship, sin...   \n4                 [baby, midlife crisis, confidence]   \n\n                         genres  \n0   [Animation, Comedy, Family]  \n1  [Adventure, Fantasy, Family]  \n2             [Romance, Comedy]  \n3      [Comedy, Drama, Romance]  \n4                      [Comedy]  ",
      "text/html": "<div>\n<style scoped>\n    .dataframe tbody tr th:only-of-type {\n        vertical-align: middle;\n    }\n\n    .dataframe tbody tr th {\n        vertical-align: top;\n    }\n\n    .dataframe thead th {\n        text-align: right;\n    }\n</style>\n<table border=\"1\" class=\"dataframe\">\n  <thead>\n    <tr style=\"text-align: right;\">\n      <th></th>\n      <th>id</th>\n      <th>title</th>\n      <th>cast</th>\n      <th>director</th>\n      <th>keywords</th>\n      <th>genres</th>\n    </tr>\n  </thead>\n  <tbody>\n    <tr>\n      <th>0</th>\n      <td>862</td>\n      <td>Toy Story</td>\n      <td>[Tom Hanks, Tim Allen, Don Rickles]</td>\n      <td>John Lasseter</td>\n      <td>[jealousy, toy, boy]</td>\n      <td>[Animation, Comedy, Family]</td>\n    </tr>\n    <tr>\n      <th>1</th>\n      <td>8844</td>\n      <td>Jumanji</td>\n      <td>[Robin Williams, Jonathan Hyde, Kirsten Dunst]</td>\n      <td>Joe Johnston</td>\n      <td>[board game, disappearance, based on children'...</td>\n      <td>[Adventure, Fantasy, Family]</td>\n    </tr>\n    <tr>\n      <th>2</th>\n      <td>15602</td>\n      <td>Grumpier Old Men</td>\n      <td>[Walter Matthau, Jack Lemmon, Ann-Margret]</td>\n      <td>Howard Deutch</td>\n      <td>[fishing, best friend, duringcreditsstinger]</td>\n      <td>[Romance, Comedy]</td>\n    </tr>\n    <tr>\n      <th>3</th>\n      <td>31357</td>\n      <td>Waiting to Exhale</td>\n      <td>[Whitney Houston, Angela Bassett, Loretta Devine]</td>\n      <td>Forest Whitaker</td>\n      <td>[based on novel, interracial relationship, sin...</td>\n      <td>[Comedy, Drama, Romance]</td>\n    </tr>\n    <tr>\n      <th>4</th>\n      <td>11862</td>\n      <td>Father of the Bride Part II</td>\n      <td>[Steve Martin, Diane Keaton, Martin Short]</td>\n      <td>Charles Shyer</td>\n      <td>[baby, midlife crisis, confidence]</td>\n      <td>[Comedy]</td>\n    </tr>\n  </tbody>\n</table>\n</div>"
     },
     "execution_count": 129,
     "metadata": {},
     "output_type": "execute_result"
    }
   ],
   "source": [
    "features = ['cast', 'crew', 'keywords', 'genres']\n",
    "for feature in features:\n",
    "    movie_metadata[feature] = movie_metadata[feature].apply(literal_eval)\n",
    "\n",
    "\n",
    "def get_director(x):\n",
    "    for i in x:\n",
    "        if i['job'] == 'Director':\n",
    "            return i['name']\n",
    "    return np.nan\n",
    "\n",
    "\n",
    "def get_list(x):\n",
    "    if isinstance(x, list):\n",
    "        names = [i['name'] for i in x]\n",
    "        if len(names) > 3:\n",
    "            names = names[:3]\n",
    "        return names\n",
    "    return []\n",
    "\n",
    "\n",
    "movie_metadata['director'] = movie_metadata['crew'].apply(get_director)\n",
    "features = ['cast', 'keywords', 'genres']\n",
    "for feature in features:\n",
    "    movie_metadata[feature] = movie_metadata[feature].apply(get_list)\n",
    "\n",
    "movie_metadata[['id', 'title', 'cast', 'director', 'keywords', 'genres']].head()"
   ]
  },
  {
   "cell_type": "code",
   "execution_count": 130,
   "metadata": {
    "ExecuteTime": {
     "end_time": "2024-04-17T17:17:45.777107Z",
     "start_time": "2024-04-17T17:17:41.085643Z"
    }
   },
   "outputs": [
    {
     "data": {
      "text/plain": "      id                        title  \\\n0    862                    Toy Story   \n1   8844                      Jumanji   \n2  15602             Grumpier Old Men   \n3  31357            Waiting to Exhale   \n4  11862  Father of the Bride Part II   \n\n                                             cast        director  \\\n0                [tomhanks, timallen, donrickles]    johnlasseter   \n1     [robinwilliams, jonathanhyde, kirstendunst]     joejohnston   \n2        [waltermatthau, jacklemmon, ann-margret]    howarddeutch   \n3  [whitneyhouston, angelabassett, lorettadevine]  forestwhitaker   \n4         [stevemartin, dianekeaton, martinshort]    charlesshyer   \n\n                                            keywords  \\\n0                               [jealousy, toy, boy]   \n1  [boardgame, disappearance, basedonchildren'sbook]   \n2        [fishing, bestfriend, duringcreditsstinger]   \n3  [basedonnovel, interracialrelationship, single...   \n4                  [baby, midlifecrisis, confidence]   \n\n                         genres  \n0   [animation, comedy, family]  \n1  [adventure, fantasy, family]  \n2             [romance, comedy]  \n3      [comedy, drama, romance]  \n4                      [comedy]  ",
      "text/html": "<div>\n<style scoped>\n    .dataframe tbody tr th:only-of-type {\n        vertical-align: middle;\n    }\n\n    .dataframe tbody tr th {\n        vertical-align: top;\n    }\n\n    .dataframe thead th {\n        text-align: right;\n    }\n</style>\n<table border=\"1\" class=\"dataframe\">\n  <thead>\n    <tr style=\"text-align: right;\">\n      <th></th>\n      <th>id</th>\n      <th>title</th>\n      <th>cast</th>\n      <th>director</th>\n      <th>keywords</th>\n      <th>genres</th>\n    </tr>\n  </thead>\n  <tbody>\n    <tr>\n      <th>0</th>\n      <td>862</td>\n      <td>Toy Story</td>\n      <td>[tomhanks, timallen, donrickles]</td>\n      <td>johnlasseter</td>\n      <td>[jealousy, toy, boy]</td>\n      <td>[animation, comedy, family]</td>\n    </tr>\n    <tr>\n      <th>1</th>\n      <td>8844</td>\n      <td>Jumanji</td>\n      <td>[robinwilliams, jonathanhyde, kirstendunst]</td>\n      <td>joejohnston</td>\n      <td>[boardgame, disappearance, basedonchildren'sbook]</td>\n      <td>[adventure, fantasy, family]</td>\n    </tr>\n    <tr>\n      <th>2</th>\n      <td>15602</td>\n      <td>Grumpier Old Men</td>\n      <td>[waltermatthau, jacklemmon, ann-margret]</td>\n      <td>howarddeutch</td>\n      <td>[fishing, bestfriend, duringcreditsstinger]</td>\n      <td>[romance, comedy]</td>\n    </tr>\n    <tr>\n      <th>3</th>\n      <td>31357</td>\n      <td>Waiting to Exhale</td>\n      <td>[whitneyhouston, angelabassett, lorettadevine]</td>\n      <td>forestwhitaker</td>\n      <td>[basedonnovel, interracialrelationship, single...</td>\n      <td>[comedy, drama, romance]</td>\n    </tr>\n    <tr>\n      <th>4</th>\n      <td>11862</td>\n      <td>Father of the Bride Part II</td>\n      <td>[stevemartin, dianekeaton, martinshort]</td>\n      <td>charlesshyer</td>\n      <td>[baby, midlifecrisis, confidence]</td>\n      <td>[comedy]</td>\n    </tr>\n  </tbody>\n</table>\n</div>"
     },
     "execution_count": 130,
     "metadata": {},
     "output_type": "execute_result"
    }
   ],
   "source": [
    "def clean_data(x):\n",
    "    if isinstance(x, list):\n",
    "        return [str.lower(i.replace(\" \", \"\")) for i in x]\n",
    "    else:\n",
    "        if isinstance(x, str):\n",
    "            return str.lower(x.replace(\" \", \"\"))\n",
    "        else:\n",
    "            return ''\n",
    "\n",
    "\n",
    "features = ['cast', 'keywords', 'director', 'genres']\n",
    "for feature in features:\n",
    "    movie_metadata[feature] = movie_metadata[feature].apply(clean_data)\n",
    "\n",
    "movie_metadata[['id', 'title', 'cast', 'director', 'keywords', 'genres']].head()"
   ]
  },
  {
   "cell_type": "code",
   "execution_count": 131,
   "metadata": {
    "ExecuteTime": {
     "end_time": "2024-04-17T17:17:46.337552Z",
     "start_time": "2024-04-17T17:17:45.772591Z"
    }
   },
   "outputs": [
    {
     "data": {
      "text/plain": "                                                soup\n0  jealousy toy boy tomhanks timallen donrickles ...\n1  boardgame disappearance basedonchildren'sbook ...\n2  fishing bestfriend duringcreditsstinger walter...\n3  basedonnovel interracialrelationship singlemot...\n4  baby midlifecrisis confidence stevemartin dian...",
      "text/html": "<div>\n<style scoped>\n    .dataframe tbody tr th:only-of-type {\n        vertical-align: middle;\n    }\n\n    .dataframe tbody tr th {\n        vertical-align: top;\n    }\n\n    .dataframe thead th {\n        text-align: right;\n    }\n</style>\n<table border=\"1\" class=\"dataframe\">\n  <thead>\n    <tr style=\"text-align: right;\">\n      <th></th>\n      <th>soup</th>\n    </tr>\n  </thead>\n  <tbody>\n    <tr>\n      <th>0</th>\n      <td>jealousy toy boy tomhanks timallen donrickles ...</td>\n    </tr>\n    <tr>\n      <th>1</th>\n      <td>boardgame disappearance basedonchildren'sbook ...</td>\n    </tr>\n    <tr>\n      <th>2</th>\n      <td>fishing bestfriend duringcreditsstinger walter...</td>\n    </tr>\n    <tr>\n      <th>3</th>\n      <td>basedonnovel interracialrelationship singlemot...</td>\n    </tr>\n    <tr>\n      <th>4</th>\n      <td>baby midlifecrisis confidence stevemartin dian...</td>\n    </tr>\n  </tbody>\n</table>\n</div>"
     },
     "execution_count": 131,
     "metadata": {},
     "output_type": "execute_result"
    }
   ],
   "source": [
    "def create_soup(x):\n",
    "    return ' '.join(x['keywords']) + ' ' + ' '.join(x['cast']) + ' ' + x['director'] + ' ' + ' '.join(x['genres'])\n",
    "\n",
    "\n",
    "movie_metadata['soup'] = movie_metadata.apply(create_soup, axis=1)\n",
    "movie_metadata[['soup']].head()"
   ]
  },
  {
   "cell_type": "code",
   "execution_count": 132,
   "metadata": {
    "collapsed": false,
    "ExecuteTime": {
     "end_time": "2024-04-17T17:17:46.837364Z",
     "start_time": "2024-04-17T17:17:46.383450Z"
    }
   },
   "outputs": [
    {
     "data": {
      "text/plain": "(46488, 73881)"
     },
     "execution_count": 132,
     "metadata": {},
     "output_type": "execute_result"
    }
   ],
   "source": [
    "count = CountVectorizer(stop_words='english')\n",
    "count_matrix = count.fit_transform(movie_metadata['soup'])\n",
    "count_matrix.shape"
   ]
  },
  {
   "cell_type": "code",
   "outputs": [
    {
     "data": {
      "text/plain": "(46488, 46488)"
     },
     "execution_count": 133,
     "metadata": {},
     "output_type": "execute_result"
    }
   ],
   "source": [
    "cosine_sim = cosine_similarity(count_matrix, count_matrix)\n",
    "cosine_sim.shape"
   ],
   "metadata": {
    "ExecuteTime": {
     "end_time": "2024-04-17T17:18:09.936969Z",
     "start_time": "2024-04-17T17:17:46.835060Z"
    }
   },
   "execution_count": 133
  },
  {
   "cell_type": "code",
   "execution_count": 134,
   "metadata": {
    "ExecuteTime": {
     "end_time": "2024-04-17T17:18:11.112851Z",
     "start_time": "2024-04-17T17:18:09.787458Z"
    }
   },
   "outputs": [],
   "source": [
    "movie_metadata = movie_metadata.reset_index()\n",
    "indices = pd.Series(movie_metadata.index, index=movie_metadata['id'])\n",
    "indices = indices.sort_values(ascending=False)"
   ]
  },
  {
   "cell_type": "code",
   "execution_count": 135,
   "metadata": {
    "ExecuteTime": {
     "end_time": "2024-04-17T17:18:11.132124Z",
     "start_time": "2024-04-17T17:18:11.126949Z"
    }
   },
   "outputs": [],
   "source": [
    "def estimate(user_id, movies):\n",
    "    user_ratings = pd.merge(ratings[ratings['userId'] == user_id],\n",
    "                            movie_metadata[['id', 'title']],\n",
    "                            left_on='movieId',\n",
    "                            right_on='id',\n",
    "                            how='inner')\n",
    "    user_ratings = user_ratings.drop('id', axis=1)\n",
    "    user_ratings['movieId'] = user_ratings['movieId'].astype(int)\n",
    "\n",
    "    reviewed_movie_ids = set(user_ratings['movieId'])\n",
    "    pred_series = []\n",
    "    for movie_id in movies['id']:\n",
    "        if movie_id in reviewed_movie_ids:\n",
    "            continue\n",
    "        simTotal = weightedSum = 0\n",
    "        sim_scores_row = list(enumerate(cosine_sim[indices[movie_id]]))\n",
    "        for reviewed_id in reviewed_movie_ids:\n",
    "            idx = indices[reviewed_id]\n",
    "            if len(sim_scores_row) < 46488:\n",
    "                continue\n",
    "            if type(idx) != np.int64:\n",
    "                continue\n",
    "            sim_score = sim_scores_row[idx]\n",
    "            simTotal += float(sim_score[1])\n",
    "            weightedSum += float(sim_score[1]) * float(user_ratings[user_ratings['movieId'] == reviewed_id]['rating'])\n",
    "        predictedRating = weightedSum / simTotal if simTotal != 0 else 0\n",
    "        pred_series.append((movie_id, predictedRating))\n",
    "\n",
    "    pred_series = sorted(pred_series, key=lambda x: x[1], reverse=True)[:10]\n",
    "    return pred_series"
   ]
  },
  {
   "cell_type": "code",
   "execution_count": 136,
   "metadata": {
    "ExecuteTime": {
     "end_time": "2024-04-17T17:18:11.225175Z",
     "start_time": "2024-04-17T17:18:11.219737Z"
    }
   },
   "outputs": [],
   "source": [
    "def get_recommendations_single_movie(id, rating, cosine_sim=cosine_sim):\n",
    "    idx = indices[id]\n",
    "    sim_scores = list(enumerate(cosine_sim[idx]))\n",
    "    sim_scores = [(i, score * rating) for i, score in sim_scores]\n",
    "    sim_scores = sorted(sim_scores, key=lambda x: x[1], reverse=True)\n",
    "    sim_scores = sim_scores[1:11]\n",
    "    movie_indices = [i[0] for i in sim_scores]\n",
    "    movie_metadata1 = movie_metadata[['id', 'title']].iloc[movie_indices]\n",
    "    sim_scores_values = [i[1] for i in sim_scores]\n",
    "    movie_metadata1['similarity_score'] = sim_scores_values\n",
    "    return movie_metadata1"
   ]
  },
  {
   "cell_type": "code",
   "execution_count": 137,
   "metadata": {
    "ExecuteTime": {
     "end_time": "2024-04-17T17:18:11.231550Z",
     "start_time": "2024-04-17T17:18:11.228317Z"
    }
   },
   "outputs": [],
   "source": [
    "def get_recommendations(user_id):\n",
    "    pred_series = []\n",
    "    user_ratings = ratings.loc[ratings['userId'] == user_id]\n",
    "    merged_ratings = pd.merge(user_ratings, movie_metadata[['id']], left_on='movieId', right_on='id', how='inner')\n",
    "    top_10_user_ratings = merged_ratings.sort_values(by='rating', ascending=False).head(10)\n",
    "    top_10_user_ratings['movieId'] = top_10_user_ratings['movieId'].astype(int)\n",
    "    top_10_movie_ids = top_10_user_ratings[['movieId', 'rating']]\n",
    "    for index, row in top_10_movie_ids.iterrows():\n",
    "        movie_id = row['movieId']\n",
    "        rating = row['rating']\n",
    "        pred_series.append(get_recommendations_single_movie(movie_id, rating))\n",
    "\n",
    "    df = pd.concat(pred_series)\n",
    "    return pd.merge(pd.DataFrame(estimate(user_id, df.sort_values(by='similarity_score', ascending=False)),\n",
    "                                 columns=['id', 'predicted_rating']), movie_metadata[['id', 'title']], on='id',\n",
    "                    how='inner')"
   ]
  },
  {
   "cell_type": "code",
   "execution_count": 138,
   "metadata": {
    "ExecuteTime": {
     "end_time": "2024-04-17T17:18:11.487250Z",
     "start_time": "2024-04-17T17:18:11.236471Z"
    }
   },
   "outputs": [
    {
     "data": {
      "text/plain": "[(185191, 4.5)]"
     },
     "execution_count": 138,
     "metadata": {},
     "output_type": "execute_result"
    }
   ],
   "source": [
    "estimate(222,  movie_metadata[movie_metadata['id'] == 185191])"
   ]
  },
  {
   "cell_type": "code",
   "outputs": [
    {
     "ename": "KeyboardInterrupt",
     "evalue": "",
     "output_type": "error",
     "traceback": [
      "\u001B[0;31m---------------------------------------------------------------------------\u001B[0m",
      "\u001B[0;31mKeyboardInterrupt\u001B[0m                         Traceback (most recent call last)",
      "Cell \u001B[0;32mIn[139], line 8\u001B[0m\n\u001B[1;32m      6\u001B[0m movie_id \u001B[38;5;241m=\u001B[39m row[\u001B[38;5;124m'\u001B[39m\u001B[38;5;124mmovieId\u001B[39m\u001B[38;5;124m'\u001B[39m]\n\u001B[1;32m      7\u001B[0m rating \u001B[38;5;241m=\u001B[39m row[\u001B[38;5;124m'\u001B[39m\u001B[38;5;124mrating\u001B[39m\u001B[38;5;124m'\u001B[39m]\n\u001B[0;32m----> 8\u001B[0m predicted \u001B[38;5;241m=\u001B[39m \u001B[43mestimate\u001B[49m\u001B[43m(\u001B[49m\u001B[43muser_id\u001B[49m\u001B[43m,\u001B[49m\u001B[43m \u001B[49m\u001B[43mmovie_metadata\u001B[49m\u001B[43m[\u001B[49m\u001B[43mmovie_metadata\u001B[49m\u001B[43m[\u001B[49m\u001B[38;5;124;43m'\u001B[39;49m\u001B[38;5;124;43mid\u001B[39;49m\u001B[38;5;124;43m'\u001B[39;49m\u001B[43m]\u001B[49m\u001B[43m \u001B[49m\u001B[38;5;241;43m==\u001B[39;49m\u001B[43m \u001B[49m\u001B[43mmovie_id\u001B[49m\u001B[43m]\u001B[49m\u001B[43m)\u001B[49m[\u001B[38;5;241m0\u001B[39m][\u001B[38;5;241m1\u001B[39m]\n\u001B[1;32m      9\u001B[0m data\u001B[38;5;241m.\u001B[39mappend((rating, predicted))\n",
      "Cell \u001B[0;32mIn[135], line 2\u001B[0m, in \u001B[0;36mestimate\u001B[0;34m(user_id, movies)\u001B[0m\n\u001B[1;32m      1\u001B[0m \u001B[38;5;28;01mdef\u001B[39;00m \u001B[38;5;21mestimate\u001B[39m(user_id, movies):\n\u001B[0;32m----> 2\u001B[0m     user_ratings \u001B[38;5;241m=\u001B[39m \u001B[43mpd\u001B[49m\u001B[38;5;241;43m.\u001B[39;49m\u001B[43mmerge\u001B[49m\u001B[43m(\u001B[49m\u001B[43mratings\u001B[49m\u001B[43m[\u001B[49m\u001B[43mratings\u001B[49m\u001B[43m[\u001B[49m\u001B[38;5;124;43m'\u001B[39;49m\u001B[38;5;124;43muserId\u001B[39;49m\u001B[38;5;124;43m'\u001B[39;49m\u001B[43m]\u001B[49m\u001B[43m \u001B[49m\u001B[38;5;241;43m==\u001B[39;49m\u001B[43m \u001B[49m\u001B[43muser_id\u001B[49m\u001B[43m]\u001B[49m\u001B[43m,\u001B[49m\n\u001B[1;32m      3\u001B[0m \u001B[43m                            \u001B[49m\u001B[43mmovie_metadata\u001B[49m\u001B[43m[\u001B[49m\u001B[43m[\u001B[49m\u001B[38;5;124;43m'\u001B[39;49m\u001B[38;5;124;43mid\u001B[39;49m\u001B[38;5;124;43m'\u001B[39;49m\u001B[43m,\u001B[49m\u001B[43m \u001B[49m\u001B[38;5;124;43m'\u001B[39;49m\u001B[38;5;124;43mtitle\u001B[39;49m\u001B[38;5;124;43m'\u001B[39;49m\u001B[43m]\u001B[49m\u001B[43m]\u001B[49m\u001B[43m,\u001B[49m\n\u001B[1;32m      4\u001B[0m \u001B[43m                            \u001B[49m\u001B[43mleft_on\u001B[49m\u001B[38;5;241;43m=\u001B[39;49m\u001B[38;5;124;43m'\u001B[39;49m\u001B[38;5;124;43mmovieId\u001B[39;49m\u001B[38;5;124;43m'\u001B[39;49m\u001B[43m,\u001B[49m\n\u001B[1;32m      5\u001B[0m \u001B[43m                            \u001B[49m\u001B[43mright_on\u001B[49m\u001B[38;5;241;43m=\u001B[39;49m\u001B[38;5;124;43m'\u001B[39;49m\u001B[38;5;124;43mid\u001B[39;49m\u001B[38;5;124;43m'\u001B[39;49m\u001B[43m,\u001B[49m\n\u001B[1;32m      6\u001B[0m \u001B[43m                            \u001B[49m\u001B[43mhow\u001B[49m\u001B[38;5;241;43m=\u001B[39;49m\u001B[38;5;124;43m'\u001B[39;49m\u001B[38;5;124;43minner\u001B[39;49m\u001B[38;5;124;43m'\u001B[39;49m\u001B[43m)\u001B[49m\n\u001B[1;32m      7\u001B[0m     user_ratings \u001B[38;5;241m=\u001B[39m user_ratings\u001B[38;5;241m.\u001B[39mdrop(\u001B[38;5;124m'\u001B[39m\u001B[38;5;124mid\u001B[39m\u001B[38;5;124m'\u001B[39m, axis\u001B[38;5;241m=\u001B[39m\u001B[38;5;241m1\u001B[39m)\n\u001B[1;32m      8\u001B[0m     user_ratings[\u001B[38;5;124m'\u001B[39m\u001B[38;5;124mmovieId\u001B[39m\u001B[38;5;124m'\u001B[39m] \u001B[38;5;241m=\u001B[39m user_ratings[\u001B[38;5;124m'\u001B[39m\u001B[38;5;124mmovieId\u001B[39m\u001B[38;5;124m'\u001B[39m]\u001B[38;5;241m.\u001B[39mastype(\u001B[38;5;28mint\u001B[39m)\n",
      "\u001B[0;31mKeyboardInterrupt\u001B[0m: "
     ]
    }
   ],
   "source": [
    "data = []\n",
    "ratings_test = pd.merge(ratings_test, movie_metadata[['id']], left_on='movieId', right_on='id', how='inner')\n",
    "\n",
    "for index, row in ratings_test.iterrows():\n",
    "    user_id = row['userId']\n",
    "    movie_id = row['movieId']\n",
    "    rating = row['rating']\n",
    "    predicted = estimate(user_id, movie_metadata[movie_metadata['id'] == movie_id])[0][1]\n",
    "    data.append((rating, predicted))"
   ],
   "metadata": {
    "collapsed": false,
    "ExecuteTime": {
     "end_time": "2024-04-17T17:32:53.355689Z",
     "start_time": "2024-04-17T17:18:11.538565Z"
    }
   },
   "execution_count": 139
  },
  {
   "cell_type": "code",
   "outputs": [
    {
     "name": "stdout",
     "output_type": "stream",
     "text": [
      "MSE: 1.123451507622676\n",
      "RMSE: 1.0599299541114384\n"
     ]
    }
   ],
   "source": [
    "mse, rmse = calculate_mse_and_rmse(data)\n",
    "print(\"MSE:\", mse)\n",
    "print(\"RMSE:\", rmse)"
   ],
   "metadata": {
    "collapsed": false,
    "ExecuteTime": {
     "end_time": "2024-04-17T17:32:57.049802Z",
     "start_time": "2024-04-17T17:32:57.047267Z"
    }
   },
   "execution_count": 140
  },
  {
   "cell_type": "code",
   "outputs": [],
   "source": [],
   "metadata": {
    "collapsed": false,
    "ExecuteTime": {
     "start_time": "2024-04-17T17:32:53.354687Z"
    }
   },
   "execution_count": null
  }
 ],
 "metadata": {
  "kernelspec": {
   "display_name": "Python 3 (ipykernel)",
   "language": "python",
   "name": "python3"
  },
  "language_info": {
   "codemirror_mode": {
    "name": "ipython",
    "version": 3
   },
   "file_extension": ".py",
   "mimetype": "text/x-python",
   "name": "python",
   "nbconvert_exporter": "python",
   "pygments_lexer": "ipython3",
   "version": "3.10.9"
  }
 },
 "nbformat": 4,
 "nbformat_minor": 1
}

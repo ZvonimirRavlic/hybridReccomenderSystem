{
 "cells": [
  {
   "cell_type": "markdown",
   "metadata": {},
   "source": [
    "# Best and popular movies"
   ]
  },
  {
   "cell_type": "code",
   "execution_count": 67,
   "metadata": {
    "collapsed": true,
    "ExecuteTime": {
     "end_time": "2024-03-14T14:22:13.888839Z",
     "start_time": "2024-03-14T14:22:13.884232Z"
    }
   },
   "outputs": [],
   "source": [
    "from pyspark.sql import SparkSession\n",
    "from pyspark.sql.functions import *\n",
    "spark = SparkSession.builder.appName('MovieLens').getOrCreate()"
   ]
  },
  {
   "cell_type": "markdown",
   "metadata": {},
   "source": [
    "## Reading in the data"
   ]
  },
  {
   "cell_type": "code",
   "execution_count": 68,
   "metadata": {
    "ExecuteTime": {
     "end_time": "2024-03-14T14:22:13.965378Z",
     "start_time": "2024-03-14T14:22:13.887815Z"
    }
   },
   "outputs": [
    {
     "name": "stdout",
     "output_type": "stream",
     "text": [
      "+------+-------+------+----------+\n",
      "|userId|movieId|rating| timestamp|\n",
      "+------+-------+------+----------+\n",
      "|     1|    110|   1.0|1425941529|\n",
      "|     1|    147|   4.5|1425942435|\n",
      "|     1|    858|   5.0|1425941523|\n",
      "|     1|   1221|   5.0|1425941546|\n",
      "|     1|   1246|   5.0|1425941556|\n",
      "+------+-------+------+----------+\n"
     ]
    }
   ],
   "source": [
    "ratings = spark.read.option(\"header\", \"true\").csv(\"data/ratings.csv\")\n",
    "ratings.show(5)"
   ]
  },
  {
   "cell_type": "code",
   "execution_count": 69,
   "metadata": {
    "ExecuteTime": {
     "end_time": "2024-03-14T14:22:14.062588Z",
     "start_time": "2024-03-14T14:22:13.964421Z"
    }
   },
   "outputs": [
    {
     "name": "stdout",
     "output_type": "stream",
     "text": [
      "+-----+--------------------+\n",
      "|   id|               title|\n",
      "+-----+--------------------+\n",
      "|  862|           Toy Story|\n",
      "| 8844|             Jumanji|\n",
      "|15602|    Grumpier Old Men|\n",
      "|31357|[{'iso_639_1': 'e...|\n",
      "|11862|Father of the Bri...|\n",
      "+-----+--------------------+\n"
     ]
    }
   ],
   "source": [
    "movies = spark.read.option(\"header\", \"true\").csv(\"data/movies_metadata.csv\").select(col(\"id\"), col(\"title\"))\n",
    "movies.show(5)"
   ]
  },
  {
   "cell_type": "markdown",
   "metadata": {},
   "source": [
    "## Most popular movies"
   ]
  },
  {
   "cell_type": "code",
   "execution_count": 70,
   "metadata": {
    "collapsed": true,
    "ExecuteTime": {
     "end_time": "2024-03-14T14:22:14.072561Z",
     "start_time": "2024-03-14T14:22:14.060048Z"
    }
   },
   "outputs": [],
   "source": [
    "most_popular = ratings\\\n",
    ".groupBy(\"movieId\")\\\n",
    ".agg(count(\"userId\"))\\\n",
    ".withColumnRenamed(\"count(userId)\", \"num_ratings\")\\\n",
    ".sort(desc(\"num_ratings\"))"
   ]
  },
  {
   "cell_type": "code",
   "execution_count": 71,
   "metadata": {
    "ExecuteTime": {
     "end_time": "2024-03-14T14:22:16.791619Z",
     "start_time": "2024-03-14T14:22:14.073246Z"
    }
   },
   "outputs": [
    {
     "name": "stderr",
     "output_type": "stream",
     "text": [
      "[Stage 111:>              (0 + 10) / 10][Stage 112:>                (0 + 0) / 9]\r"
     ]
    },
    {
     "name": "stdout",
     "output_type": "stream",
     "text": [
      "+-------+-----------+-----+--------------------+\n",
      "|movieId|num_ratings|   id|               title|\n",
      "+-------+-----------+-----+--------------------+\n",
      "|    296|      87901|  296|Terminator 3: Ris...|\n",
      "|   2294|      12526| 2294|Jay and Silent Bo...|\n",
      "|   3210|       9516| 3210|   The Projected Man|\n",
      "|   1090|      18222| 1090|The Thirteenth Floor|\n",
      "|   2162|       2365| 2162|        Chill Factor|\n",
      "|    829|       1961|  829|           Chinatown|\n",
      "|    467|        804|  467|            The Hole|\n",
      "|    691|       1262|  691|The Spy Who Loved Me|\n",
      "|   2088|       3841| 2088|   Romeo Is Bleeding|\n",
      "|  27317|       1577|27317|Patton Oswalt: My...|\n",
      "+-------+-----------+-----+--------------------+\n"
     ]
    },
    {
     "name": "stderr",
     "output_type": "stream",
     "text": [
      "                                                                                \r"
     ]
    }
   ],
   "source": [
    "most_popular_movies = most_popular.join(movies, most_popular.movieId == movies.id)\n",
    "most_popular_movies.show(10)"
   ]
  },
  {
   "cell_type": "markdown",
   "metadata": {},
   "source": [
    "## Top rated movies"
   ]
  },
  {
   "cell_type": "code",
   "execution_count": 72,
   "metadata": {
    "collapsed": true,
    "ExecuteTime": {
     "end_time": "2024-03-14T14:22:16.798911Z",
     "start_time": "2024-03-14T14:22:16.787785Z"
    }
   },
   "outputs": [],
   "source": [
    "top_rated = ratings\\\n",
    ".groupBy(\"movieId\")\\\n",
    ".agg(avg(col(\"rating\")))\\\n",
    ".withColumnRenamed(\"avg(rating)\", \"avg_rating\")\\\n",
    ".sort(desc(\"avg_rating\"))"
   ]
  },
  {
   "cell_type": "code",
   "execution_count": 73,
   "metadata": {
    "ExecuteTime": {
     "end_time": "2024-03-14T14:22:19.753472Z",
     "start_time": "2024-03-14T14:22:16.799316Z"
    }
   },
   "outputs": [
    {
     "name": "stderr",
     "output_type": "stream",
     "text": [
      "                                                                                \r"
     ]
    },
    {
     "name": "stdout",
     "output_type": "stream",
     "text": [
      "+-------+------------------+-----+--------------------+\n",
      "|movieId|        avg_rating|   id|               title|\n",
      "+-------+------------------+-----+--------------------+\n",
      "|    296| 4.169975313136369|  296|Terminator 3: Ris...|\n",
      "|   2294|3.2492016605460643| 2294|Jay and Silent Bo...|\n",
      "|   3210|3.6424443043295502| 3210|   The Projected Man|\n",
      "|   1090|3.9067061793436504| 1090|The Thirteenth Floor|\n",
      "|   2162| 2.483720930232558| 2162|        Chill Factor|\n",
      "|    829| 2.684344722080571|  829|           Chinatown|\n",
      "|    467|3.4284825870646767|  467|            The Hole|\n",
      "|    691| 3.053090332805071|  691|The Spy Who Loved Me|\n",
      "|   2088|2.5669096589429836| 2088|   Romeo Is Bleeding|\n",
      "|  27317|  3.60145846544071|27317|Patton Oswalt: My...|\n",
      "+-------+------------------+-----+--------------------+\n"
     ]
    }
   ],
   "source": [
    "top_rated_movies = top_rated.join(movies, top_rated.movieId == movies.id)\n",
    "top_rated_movies.show(10)"
   ]
  },
  {
   "cell_type": "code",
   "execution_count": 74,
   "metadata": {
    "collapsed": true,
    "ExecuteTime": {
     "end_time": "2024-03-14T14:22:19.761401Z",
     "start_time": "2024-03-14T14:22:19.751016Z"
    }
   },
   "outputs": [],
   "source": [
    "top_rated = ratings\\\n",
    ".groupBy(\"movieId\")\\\n",
    ".agg(count(\"userId\"), avg(col(\"rating\")))\\\n",
    ".withColumnRenamed(\"count(userId)\", \"num_ratings\")\\\n",
    ".withColumnRenamed(\"avg(rating)\", \"avg_rating\")"
   ]
  },
  {
   "cell_type": "code",
   "execution_count": 75,
   "metadata": {
    "ExecuteTime": {
     "end_time": "2024-03-14T14:22:23.050460Z",
     "start_time": "2024-03-14T14:22:19.763510Z"
    }
   },
   "outputs": [
    {
     "name": "stderr",
     "output_type": "stream",
     "text": [
      "                                                                                \r"
     ]
    },
    {
     "name": "stdout",
     "output_type": "stream",
     "text": [
      "+-------+-----------+----------+------+--------------------+\n",
      "|movieId|num_ratings|avg_rating|    id|               title|\n",
      "+-------+-----------+----------+------+--------------------+\n",
      "|  95977|          1|       5.0| 95977|The Man Behind Th...|\n",
      "| 132912|          1|       5.0|132912|    The Price of Sex|\n",
      "| 137853|          1|       5.0|137853| Journey to Planet X|\n",
      "| 130544|          1|       5.0|130544|Palermo or Wolfsburg|\n",
      "| 146946|          1|       5.0|146946|         Yellow Rock|\n",
      "| 173153|          1|       5.0|173153|        Phil Spector|\n",
      "| 160329|          1|       5.0|160329|         Lightheaded|\n",
      "| 164278|          1|       5.0|164278|              Harvey|\n",
      "| 169726|          1|       5.0|169726|The Gypsy and the...|\n",
      "| 166231|          1|       5.0|166231|             Refugee|\n",
      "+-------+-----------+----------+------+--------------------+\n"
     ]
    }
   ],
   "source": [
    "top_rated_movies = top_rated.join(movies, top_rated.movieId == movies.id).sort(desc(\"avg_rating\"), desc(\"num_ratings\"))\n",
    "top_rated_movies.show(10)"
   ]
  },
  {
   "cell_type": "code",
   "execution_count": 76,
   "metadata": {
    "ExecuteTime": {
     "end_time": "2024-03-14T14:22:25.905543Z",
     "start_time": "2024-03-14T14:22:23.047649Z"
    }
   },
   "outputs": [
    {
     "name": "stderr",
     "output_type": "stream",
     "text": [
      "                                                                                \r"
     ]
    },
    {
     "name": "stdout",
     "output_type": "stream",
     "text": [
      "+------------------+----------------+----------------+\n",
      "|  avg(num_ratings)|min(num_ratings)|max(num_ratings)|\n",
      "+------------------+----------------+----------------+\n",
      "|1504.8917020148463|               1|           91082|\n",
      "+------------------+----------------+----------------+\n"
     ]
    }
   ],
   "source": [
    "# Calculate average, minimum, and maximum of num_ratings\n",
    "top_rated_movies.select([mean('num_ratings'), min('num_ratings'), max('num_ratings')]).show(1)"
   ]
  },
  {
   "cell_type": "code",
   "execution_count": 77,
   "metadata": {
    "ExecuteTime": {
     "end_time": "2024-03-14T14:22:29.324620Z",
     "start_time": "2024-03-14T14:22:25.904446Z"
    }
   },
   "outputs": [
    {
     "name": "stderr",
     "output_type": "stream",
     "text": [
      "                                                                                \r"
     ]
    },
    {
     "name": "stdout",
     "output_type": "stream",
     "text": [
      "+-------+-----------+------------------+-----+--------------------------------------------+\n",
      "|movieId|num_ratings|avg_rating        |id   |title                                       |\n",
      "+-------+-----------+------------------+-----+--------------------------------------------+\n",
      "|318    |91082      |4.429014514393623 |318  |The Million Dollar Hotel                    |\n",
      "|858    |57070      |4.339810758717364 |858  |Sleepless in Seattle                        |\n",
      "|527    |67662      |4.266530696698294 |527  |Once Were Warriors                          |\n",
      "|2019   |13994      |4.255073602972702 |2019 |Hard Target                                 |\n",
      "|2959   |60024      |4.2307160469145675|2959 |First came love... then came Reverend Frank.|\n",
      "|912    |30043      |4.2143927037912325|912  |The Thomas Crown Affair                     |\n",
      "|750    |28280      |4.213030410183875 |750  |Murder She Said                             |\n",
      "|5618   |20855      |4.202589307120594 |5618 |Cousin, Cousine                             |\n",
      "|922    |7930       |4.200819672131147 |922  |Dead Man                                    |\n",
      "|44555  |8948       |4.199038891372374 |44555|A Woman, a Gun and a Noodle Shop            |\n",
      "|6016   |19947      |4.187872863087181 |6016 |The Good Thief                              |\n",
      "|58559  |39600      |4.182070707070707 |58559|Confession of a Child of the Century        |\n",
      "|3030   |4155       |4.180264741275572 |3030 |End of the World                            |\n",
      "|1213   |33987      |4.17828875746609  |1213 |The Talented Mr. Ripley                     |\n",
      "|926    |5453       |4.174582798459563 |926  |Galaxy Quest                                |\n",
      "|296    |87901      |4.169975313136369 |296  |Terminator 3: Rise of the Machines          |\n",
      "|2324   |25245      |4.167062784709843 |2324 |Local Color                                 |\n",
      "|1284   |6303       |4.163652229097255 |1284 |Torrente 2: Mission in Marbella             |\n",
      "|1260   |4873       |4.163554278678432 |1260 |Lotte from Gadgetville                      |\n",
      "|1252   |18397      |4.157715931945426 |1252 |Lonely Hearts                               |\n",
      "+-------+-----------+------------------+-----+--------------------------------------------+\n"
     ]
    }
   ],
   "source": [
    "top_rated_movies.where(\"num_ratings > 500\").show(20, truncate=False)"
   ]
  }
 ],
 "metadata": {
  "anaconda-cloud": {},
  "kernelspec": {
   "name": "python3",
   "language": "python",
   "display_name": "Python 3 (ipykernel)"
  },
  "language_info": {
   "codemirror_mode": {
    "name": "ipython",
    "version": 3
   },
   "file_extension": ".py",
   "mimetype": "text/x-python",
   "name": "python",
   "nbconvert_exporter": "python",
   "pygments_lexer": "ipython3",
   "version": "3.5.6"
  },
  "toc": {
   "base_numbering": 1,
   "nav_menu": {
    "height": "238px",
    "width": "412px"
   },
   "number_sections": true,
   "sideBar": true,
   "skip_h1_title": false,
   "title_cell": "Table of Contents",
   "title_sidebar": "Contents",
   "toc_cell": false,
   "toc_position": {},
   "toc_section_display": true,
   "toc_window_display": false
  }
 },
 "nbformat": 4,
 "nbformat_minor": 2
}

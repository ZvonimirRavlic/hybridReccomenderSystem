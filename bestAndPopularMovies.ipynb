{
 "cells": [
  {
   "cell_type": "markdown",
   "metadata": {},
   "source": [
    "# Best and popular movies"
   ]
  },
  {
   "cell_type": "code",
   "execution_count": 53,
   "metadata": {
    "collapsed": true,
    "ExecuteTime": {
     "end_time": "2024-04-09T13:18:15.740753Z",
     "start_time": "2024-04-09T13:18:15.723449Z"
    }
   },
   "outputs": [],
   "source": [
    "import pandas as pd"
   ]
  },
  {
   "cell_type": "code",
   "execution_count": 54,
   "metadata": {
    "ExecuteTime": {
     "end_time": "2024-04-09T13:18:16.208741Z",
     "start_time": "2024-04-09T13:18:15.744895Z"
    }
   },
   "outputs": [
    {
     "data": {
      "text/plain": "   adult                              belongs_to_collection    budget  \\\n0  False  {'id': 10194, 'name': 'Toy Story Collection', ...  30000000   \n1  False                                                NaN  65000000   \n2  False  {'id': 119050, 'name': 'Grumpy Old Men Collect...         0   \n3  False                                                NaN  16000000   \n4  False  {'id': 96871, 'name': 'Father of the Bride Col...         0   \n\n                                              genres  \\\n0  [{'id': 16, 'name': 'Animation'}, {'id': 35, '...   \n1  [{'id': 12, 'name': 'Adventure'}, {'id': 14, '...   \n2  [{'id': 10749, 'name': 'Romance'}, {'id': 35, ...   \n3  [{'id': 35, 'name': 'Comedy'}, {'id': 18, 'nam...   \n4                     [{'id': 35, 'name': 'Comedy'}]   \n\n                               homepage       id    imdb_id original_language  \\\n0  http://toystory.disney.com/toy-story    862.0  tt0114709                en   \n1                                   NaN   8844.0  tt0113497                en   \n2                                   NaN  15602.0  tt0113228                en   \n3                                   NaN  31357.0  tt0114885                en   \n4                                   NaN  11862.0  tt0113041                en   \n\n                original_title  \\\n0                    Toy Story   \n1                      Jumanji   \n2             Grumpier Old Men   \n3            Waiting to Exhale   \n4  Father of the Bride Part II   \n\n                                            overview  ... release_date  \\\n0  Led by Woody, Andy's toys live happily in his ...  ...   1995-10-30   \n1  When siblings Judy and Peter discover an encha...  ...   1995-12-15   \n2  A family wedding reignites the ancient feud be...  ...   1995-12-22   \n3  Cheated on, mistreated and stepped on, the wom...  ...   1995-12-22   \n4  Just when George Banks has recovered from his ...  ...   1995-02-10   \n\n       revenue runtime                                   spoken_languages  \\\n0  373554033.0    81.0           [{'iso_639_1': 'en', 'name': 'English'}]   \n1  262797249.0   104.0  [{'iso_639_1': 'en', 'name': 'English'}, {'iso...   \n2          0.0   101.0           [{'iso_639_1': 'en', 'name': 'English'}]   \n3   81452156.0   127.0           [{'iso_639_1': 'en', 'name': 'English'}]   \n4   76578911.0   106.0           [{'iso_639_1': 'en', 'name': 'English'}]   \n\n     status                                            tagline  \\\n0  Released                                                NaN   \n1  Released          Roll the dice and unleash the excitement!   \n2  Released  Still Yelling. Still Fighting. Still Ready for...   \n3  Released  Friends are the people who let you be yourself...   \n4  Released  Just When His World Is Back To Normal... He's ...   \n\n                         title  video vote_average vote_count  \n0                    Toy Story  False          7.7     5415.0  \n1                      Jumanji  False          6.9     2413.0  \n2             Grumpier Old Men  False          6.5       92.0  \n3            Waiting to Exhale  False          6.1       34.0  \n4  Father of the Bride Part II  False          5.7      173.0  \n\n[5 rows x 24 columns]",
      "text/html": "<div>\n<style scoped>\n    .dataframe tbody tr th:only-of-type {\n        vertical-align: middle;\n    }\n\n    .dataframe tbody tr th {\n        vertical-align: top;\n    }\n\n    .dataframe thead th {\n        text-align: right;\n    }\n</style>\n<table border=\"1\" class=\"dataframe\">\n  <thead>\n    <tr style=\"text-align: right;\">\n      <th></th>\n      <th>adult</th>\n      <th>belongs_to_collection</th>\n      <th>budget</th>\n      <th>genres</th>\n      <th>homepage</th>\n      <th>id</th>\n      <th>imdb_id</th>\n      <th>original_language</th>\n      <th>original_title</th>\n      <th>overview</th>\n      <th>...</th>\n      <th>release_date</th>\n      <th>revenue</th>\n      <th>runtime</th>\n      <th>spoken_languages</th>\n      <th>status</th>\n      <th>tagline</th>\n      <th>title</th>\n      <th>video</th>\n      <th>vote_average</th>\n      <th>vote_count</th>\n    </tr>\n  </thead>\n  <tbody>\n    <tr>\n      <th>0</th>\n      <td>False</td>\n      <td>{'id': 10194, 'name': 'Toy Story Collection', ...</td>\n      <td>30000000</td>\n      <td>[{'id': 16, 'name': 'Animation'}, {'id': 35, '...</td>\n      <td>http://toystory.disney.com/toy-story</td>\n      <td>862.0</td>\n      <td>tt0114709</td>\n      <td>en</td>\n      <td>Toy Story</td>\n      <td>Led by Woody, Andy's toys live happily in his ...</td>\n      <td>...</td>\n      <td>1995-10-30</td>\n      <td>373554033.0</td>\n      <td>81.0</td>\n      <td>[{'iso_639_1': 'en', 'name': 'English'}]</td>\n      <td>Released</td>\n      <td>NaN</td>\n      <td>Toy Story</td>\n      <td>False</td>\n      <td>7.7</td>\n      <td>5415.0</td>\n    </tr>\n    <tr>\n      <th>1</th>\n      <td>False</td>\n      <td>NaN</td>\n      <td>65000000</td>\n      <td>[{'id': 12, 'name': 'Adventure'}, {'id': 14, '...</td>\n      <td>NaN</td>\n      <td>8844.0</td>\n      <td>tt0113497</td>\n      <td>en</td>\n      <td>Jumanji</td>\n      <td>When siblings Judy and Peter discover an encha...</td>\n      <td>...</td>\n      <td>1995-12-15</td>\n      <td>262797249.0</td>\n      <td>104.0</td>\n      <td>[{'iso_639_1': 'en', 'name': 'English'}, {'iso...</td>\n      <td>Released</td>\n      <td>Roll the dice and unleash the excitement!</td>\n      <td>Jumanji</td>\n      <td>False</td>\n      <td>6.9</td>\n      <td>2413.0</td>\n    </tr>\n    <tr>\n      <th>2</th>\n      <td>False</td>\n      <td>{'id': 119050, 'name': 'Grumpy Old Men Collect...</td>\n      <td>0</td>\n      <td>[{'id': 10749, 'name': 'Romance'}, {'id': 35, ...</td>\n      <td>NaN</td>\n      <td>15602.0</td>\n      <td>tt0113228</td>\n      <td>en</td>\n      <td>Grumpier Old Men</td>\n      <td>A family wedding reignites the ancient feud be...</td>\n      <td>...</td>\n      <td>1995-12-22</td>\n      <td>0.0</td>\n      <td>101.0</td>\n      <td>[{'iso_639_1': 'en', 'name': 'English'}]</td>\n      <td>Released</td>\n      <td>Still Yelling. Still Fighting. Still Ready for...</td>\n      <td>Grumpier Old Men</td>\n      <td>False</td>\n      <td>6.5</td>\n      <td>92.0</td>\n    </tr>\n    <tr>\n      <th>3</th>\n      <td>False</td>\n      <td>NaN</td>\n      <td>16000000</td>\n      <td>[{'id': 35, 'name': 'Comedy'}, {'id': 18, 'nam...</td>\n      <td>NaN</td>\n      <td>31357.0</td>\n      <td>tt0114885</td>\n      <td>en</td>\n      <td>Waiting to Exhale</td>\n      <td>Cheated on, mistreated and stepped on, the wom...</td>\n      <td>...</td>\n      <td>1995-12-22</td>\n      <td>81452156.0</td>\n      <td>127.0</td>\n      <td>[{'iso_639_1': 'en', 'name': 'English'}]</td>\n      <td>Released</td>\n      <td>Friends are the people who let you be yourself...</td>\n      <td>Waiting to Exhale</td>\n      <td>False</td>\n      <td>6.1</td>\n      <td>34.0</td>\n    </tr>\n    <tr>\n      <th>4</th>\n      <td>False</td>\n      <td>{'id': 96871, 'name': 'Father of the Bride Col...</td>\n      <td>0</td>\n      <td>[{'id': 35, 'name': 'Comedy'}]</td>\n      <td>NaN</td>\n      <td>11862.0</td>\n      <td>tt0113041</td>\n      <td>en</td>\n      <td>Father of the Bride Part II</td>\n      <td>Just when George Banks has recovered from his ...</td>\n      <td>...</td>\n      <td>1995-02-10</td>\n      <td>76578911.0</td>\n      <td>106.0</td>\n      <td>[{'iso_639_1': 'en', 'name': 'English'}]</td>\n      <td>Released</td>\n      <td>Just When His World Is Back To Normal... He's ...</td>\n      <td>Father of the Bride Part II</td>\n      <td>False</td>\n      <td>5.7</td>\n      <td>173.0</td>\n    </tr>\n  </tbody>\n</table>\n<p>5 rows × 24 columns</p>\n</div>"
     },
     "execution_count": 54,
     "metadata": {},
     "output_type": "execute_result"
    }
   ],
   "source": [
    "movie_metadata = pd.read_csv('data/movies_metadata.csv', low_memory=False)\n",
    "movie_metadata['id'] = pd.to_numeric(movie_metadata['id'], errors='coerce')\n",
    "movie_metadata.head()"
   ]
  },
  {
   "cell_type": "code",
   "execution_count": 59,
   "metadata": {
    "ExecuteTime": {
     "end_time": "2024-04-09T13:20:01.673288Z",
     "start_time": "2024-04-09T13:19:49.525753Z"
    }
   },
   "outputs": [
    {
     "data": {
      "text/plain": "   userId  movieId  rating   timestamp              title\n0       1      110     1.0  1425941529  Three Colors: Red\n1      11      110     3.5  1231676989  Three Colors: Red\n2      22      110     5.0  1111937009  Three Colors: Red\n3      24      110     5.0   979870012  Three Colors: Red\n4      29      110     3.0  1044020005  Three Colors: Red",
      "text/html": "<div>\n<style scoped>\n    .dataframe tbody tr th:only-of-type {\n        vertical-align: middle;\n    }\n\n    .dataframe tbody tr th {\n        vertical-align: top;\n    }\n\n    .dataframe thead th {\n        text-align: right;\n    }\n</style>\n<table border=\"1\" class=\"dataframe\">\n  <thead>\n    <tr style=\"text-align: right;\">\n      <th></th>\n      <th>userId</th>\n      <th>movieId</th>\n      <th>rating</th>\n      <th>timestamp</th>\n      <th>title</th>\n    </tr>\n  </thead>\n  <tbody>\n    <tr>\n      <th>0</th>\n      <td>1</td>\n      <td>110</td>\n      <td>1.0</td>\n      <td>1425941529</td>\n      <td>Three Colors: Red</td>\n    </tr>\n    <tr>\n      <th>1</th>\n      <td>11</td>\n      <td>110</td>\n      <td>3.5</td>\n      <td>1231676989</td>\n      <td>Three Colors: Red</td>\n    </tr>\n    <tr>\n      <th>2</th>\n      <td>22</td>\n      <td>110</td>\n      <td>5.0</td>\n      <td>1111937009</td>\n      <td>Three Colors: Red</td>\n    </tr>\n    <tr>\n      <th>3</th>\n      <td>24</td>\n      <td>110</td>\n      <td>5.0</td>\n      <td>979870012</td>\n      <td>Three Colors: Red</td>\n    </tr>\n    <tr>\n      <th>4</th>\n      <td>29</td>\n      <td>110</td>\n      <td>3.0</td>\n      <td>1044020005</td>\n      <td>Three Colors: Red</td>\n    </tr>\n  </tbody>\n</table>\n</div>"
     },
     "execution_count": 59,
     "metadata": {},
     "output_type": "execute_result"
    }
   ],
   "source": [
    "ratings = pd.read_csv('data/ratings.csv', low_memory=False)\n",
    "ratings = pd.merge(ratings, movie_metadata[['id', 'title']], left_on='movieId', right_on='id', how='inner')\n",
    "ratings.drop(columns=['id'], inplace=True)\n",
    "ratings.head()"
   ]
  },
  {
   "cell_type": "markdown",
   "metadata": {},
   "source": [
    "## Top rated movies"
   ]
  },
  {
   "cell_type": "code",
   "execution_count": 61,
   "metadata": {
    "collapsed": true,
    "ExecuteTime": {
     "end_time": "2024-04-09T13:20:16.562327Z",
     "start_time": "2024-04-09T13:20:15.789641Z"
    }
   },
   "outputs": [
    {
     "data": {
      "text/plain": "  movieId                             title    rating       \n                                                 mean  count\n0     318          The Million Dollar Hotel  4.429015  91082\n1     858              Sleepless in Seattle  4.339811  57070\n2     527                Once Were Warriors  4.266531  67662\n3    2019                       Hard Target  4.255074  13994\n4    2959                    License to Wed  4.230716  60024\n5     912           The Thomas Crown Affair  4.214393  30043\n6     750                   Murder She Said  4.213030  28280\n7    5618                   Cousin, Cousine  4.202589  20855\n8     922                          Dead Man  4.200820   7930\n9   44555  A Woman, a Gun and a Noodle Shop  4.199039   8948",
      "text/html": "<div>\n<style scoped>\n    .dataframe tbody tr th:only-of-type {\n        vertical-align: middle;\n    }\n\n    .dataframe tbody tr th {\n        vertical-align: top;\n    }\n\n    .dataframe thead tr th {\n        text-align: left;\n    }\n</style>\n<table border=\"1\" class=\"dataframe\">\n  <thead>\n    <tr>\n      <th></th>\n      <th>movieId</th>\n      <th>title</th>\n      <th colspan=\"2\" halign=\"left\">rating</th>\n    </tr>\n    <tr>\n      <th></th>\n      <th></th>\n      <th></th>\n      <th>mean</th>\n      <th>count</th>\n    </tr>\n  </thead>\n  <tbody>\n    <tr>\n      <th>0</th>\n      <td>318</td>\n      <td>The Million Dollar Hotel</td>\n      <td>4.429015</td>\n      <td>91082</td>\n    </tr>\n    <tr>\n      <th>1</th>\n      <td>858</td>\n      <td>Sleepless in Seattle</td>\n      <td>4.339811</td>\n      <td>57070</td>\n    </tr>\n    <tr>\n      <th>2</th>\n      <td>527</td>\n      <td>Once Were Warriors</td>\n      <td>4.266531</td>\n      <td>67662</td>\n    </tr>\n    <tr>\n      <th>3</th>\n      <td>2019</td>\n      <td>Hard Target</td>\n      <td>4.255074</td>\n      <td>13994</td>\n    </tr>\n    <tr>\n      <th>4</th>\n      <td>2959</td>\n      <td>License to Wed</td>\n      <td>4.230716</td>\n      <td>60024</td>\n    </tr>\n    <tr>\n      <th>5</th>\n      <td>912</td>\n      <td>The Thomas Crown Affair</td>\n      <td>4.214393</td>\n      <td>30043</td>\n    </tr>\n    <tr>\n      <th>6</th>\n      <td>750</td>\n      <td>Murder She Said</td>\n      <td>4.213030</td>\n      <td>28280</td>\n    </tr>\n    <tr>\n      <th>7</th>\n      <td>5618</td>\n      <td>Cousin, Cousine</td>\n      <td>4.202589</td>\n      <td>20855</td>\n    </tr>\n    <tr>\n      <th>8</th>\n      <td>922</td>\n      <td>Dead Man</td>\n      <td>4.200820</td>\n      <td>7930</td>\n    </tr>\n    <tr>\n      <th>9</th>\n      <td>44555</td>\n      <td>A Woman, a Gun and a Noodle Shop</td>\n      <td>4.199039</td>\n      <td>8948</td>\n    </tr>\n  </tbody>\n</table>\n</div>"
     },
     "execution_count": 61,
     "metadata": {},
     "output_type": "execute_result"
    }
   ],
   "source": [
    "movie_stats = ratings.groupby(['movieId', 'title']).agg({'rating': ['mean', 'count']})\n",
    "movie_stats = movie_stats[movie_stats['rating']['count'] > 1000]\n",
    "movie_stats = movie_stats.sort_values(by=('rating', 'mean'), ascending=False)\n",
    "movie_stats.reset_index(inplace=True)\n",
    "movie_stats.head(10)"
   ]
  },
  {
   "cell_type": "markdown",
   "metadata": {},
   "source": [
    "## Most rated movies"
   ]
  },
  {
   "cell_type": "code",
   "outputs": [
    {
     "data": {
      "text/plain": "      movieId                               title  reviews_count\n256       318            The Million Dollar Hotel          91082\n236       296  Terminator 3: Rise of the Machines          87901\n448       593                             Solaris          84078\n206       260                        The 39 Steps          77045\n361       480                     Monsoon Wedding          74355\n394       527                  Once Were Warriors          67662\n72        110                   Three Colors: Red          66512\n1596     2959                      License to Wed          60024\n107       150                             48 Hrs.          57416\n593       780          The Passion of Joan of Arc          57232",
      "text/html": "<div>\n<style scoped>\n    .dataframe tbody tr th:only-of-type {\n        vertical-align: middle;\n    }\n\n    .dataframe tbody tr th {\n        vertical-align: top;\n    }\n\n    .dataframe thead th {\n        text-align: right;\n    }\n</style>\n<table border=\"1\" class=\"dataframe\">\n  <thead>\n    <tr style=\"text-align: right;\">\n      <th></th>\n      <th>movieId</th>\n      <th>title</th>\n      <th>reviews_count</th>\n    </tr>\n  </thead>\n  <tbody>\n    <tr>\n      <th>256</th>\n      <td>318</td>\n      <td>The Million Dollar Hotel</td>\n      <td>91082</td>\n    </tr>\n    <tr>\n      <th>236</th>\n      <td>296</td>\n      <td>Terminator 3: Rise of the Machines</td>\n      <td>87901</td>\n    </tr>\n    <tr>\n      <th>448</th>\n      <td>593</td>\n      <td>Solaris</td>\n      <td>84078</td>\n    </tr>\n    <tr>\n      <th>206</th>\n      <td>260</td>\n      <td>The 39 Steps</td>\n      <td>77045</td>\n    </tr>\n    <tr>\n      <th>361</th>\n      <td>480</td>\n      <td>Monsoon Wedding</td>\n      <td>74355</td>\n    </tr>\n    <tr>\n      <th>394</th>\n      <td>527</td>\n      <td>Once Were Warriors</td>\n      <td>67662</td>\n    </tr>\n    <tr>\n      <th>72</th>\n      <td>110</td>\n      <td>Three Colors: Red</td>\n      <td>66512</td>\n    </tr>\n    <tr>\n      <th>1596</th>\n      <td>2959</td>\n      <td>License to Wed</td>\n      <td>60024</td>\n    </tr>\n    <tr>\n      <th>107</th>\n      <td>150</td>\n      <td>48 Hrs.</td>\n      <td>57416</td>\n    </tr>\n    <tr>\n      <th>593</th>\n      <td>780</td>\n      <td>The Passion of Joan of Arc</td>\n      <td>57232</td>\n    </tr>\n  </tbody>\n</table>\n</div>"
     },
     "execution_count": 62,
     "metadata": {},
     "output_type": "execute_result"
    }
   ],
   "source": [
    "movie_reviews_count = ratings.groupby(['movieId', 'title']).size().reset_index(name='reviews_count')\n",
    "top_10_most_reviewed_movies = movie_reviews_count.sort_values(by='reviews_count', ascending=False).head(10)\n",
    "top_10_most_reviewed_movies"
   ],
   "metadata": {
    "collapsed": false,
    "ExecuteTime": {
     "end_time": "2024-04-09T13:20:29.613947Z",
     "start_time": "2024-04-09T13:20:28.948327Z"
    }
   },
   "execution_count": 62
  },
  {
   "cell_type": "code",
   "outputs": [],
   "source": [],
   "metadata": {
    "collapsed": false,
    "ExecuteTime": {
     "end_time": "2024-04-09T13:18:28.566515Z",
     "start_time": "2024-04-09T13:18:28.478024Z"
    }
   },
   "execution_count": 57
  }
 ],
 "metadata": {
  "anaconda-cloud": {},
  "kernelspec": {
   "name": "python3",
   "language": "python",
   "display_name": "Python 3 (ipykernel)"
  },
  "language_info": {
   "codemirror_mode": {
    "name": "ipython",
    "version": 3
   },
   "file_extension": ".py",
   "mimetype": "text/x-python",
   "name": "python",
   "nbconvert_exporter": "python",
   "pygments_lexer": "ipython3",
   "version": "3.5.6"
  },
  "toc": {
   "base_numbering": 1,
   "nav_menu": {
    "height": "238px",
    "width": "412px"
   },
   "number_sections": true,
   "sideBar": true,
   "skip_h1_title": false,
   "title_cell": "Table of Contents",
   "title_sidebar": "Contents",
   "toc_cell": false,
   "toc_position": {},
   "toc_section_display": true,
   "toc_window_display": false
  }
 },
 "nbformat": 4,
 "nbformat_minor": 2
}
